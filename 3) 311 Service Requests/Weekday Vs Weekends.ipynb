{
 "cells": [
  {
   "cell_type": "code",
   "execution_count": 1,
   "metadata": {
    "collapsed": true
   },
   "outputs": [],
   "source": [
    "import numpy as np\n",
    "import pandas as pd\n",
    "pd.set_option('html', True)"
   ]
  },
  {
   "cell_type": "code",
   "execution_count": 12,
   "metadata": {
    "collapsed": false,
    "scrolled": true
   },
   "outputs": [
    {
     "data": {
      "text/html": [
       "<div>\n",
       "<table border=\"1\" class=\"dataframe\">\n",
       "  <thead>\n",
       "    <tr style=\"text-align: right;\">\n",
       "      <th></th>\n",
       "      <th>Expr1000</th>\n",
       "      <th>\"No Of requests per Day\"</th>\n",
       "    </tr>\n",
       "  </thead>\n",
       "  <tbody>\n",
       "    <tr>\n",
       "      <th>0</th>\n",
       "      <td>Weekdays</td>\n",
       "      <td>5896</td>\n",
       "    </tr>\n",
       "    <tr>\n",
       "      <th>1</th>\n",
       "      <td>Weekends</td>\n",
       "      <td>3661</td>\n",
       "    </tr>\n",
       "    <tr>\n",
       "      <th>2</th>\n",
       "      <td>NaN</td>\n",
       "      <td>NaN</td>\n",
       "    </tr>\n",
       "    <tr>\n",
       "      <th>3</th>\n",
       "      <td>Weekdays</td>\n",
       "      <td>5896</td>\n",
       "    </tr>\n",
       "    <tr>\n",
       "      <th>4</th>\n",
       "      <td>Weekends</td>\n",
       "      <td>3661</td>\n",
       "    </tr>\n",
       "  </tbody>\n",
       "</table>\n",
       "</div>"
      ],
      "text/plain": [
       "   Expr1000  \"No Of requests per Day\"\n",
       "0  Weekdays                      5896\n",
       "1  Weekends                      3661\n",
       "2       NaN                       NaN\n",
       "3  Weekdays                      5896\n",
       "4  Weekends                      3661"
      ]
     },
     "execution_count": 12,
     "metadata": {},
     "output_type": "execute_result"
    }
   ],
   "source": [
    "url = \"C:\\Users\\Anshul\\Desktop\\8 August_experiment.csv\"\n",
    "TestNetworkData = pd.read_csv(url)\n",
    "TestNetworkData.head()"
   ]
  },
  {
   "cell_type": "code",
   "execution_count": 13,
   "metadata": {
    "collapsed": true
   },
   "outputs": [],
   "source": [
    "%matplotlib inline\n",
    "from itertools import cycle, islice"
   ]
  },
  {
   "cell_type": "code",
   "execution_count": 14,
   "metadata": {
    "collapsed": false
   },
   "outputs": [
    {
     "data": {
      "image/png": "[encoded data removed]",
      "text/plain": [
       "<matplotlib.figure.Figure at 0x66de550>"
      ]
     },
     "metadata": {},
     "output_type": "display_data"
    }
   ],
   "source": [
    "# my_colors = list(islice(cycle(['b', 'r', 'g', 'y']), None, len(TestNetworkData)))\n",
    "myDestGroupPlotSortedBySize = TestNetworkData.plot(kind='bar',stacked=True, color=['g','b','b','b','b'], figsize=(16,5))"
   ]
  },
  {
   "cell_type": "code",
   "execution_count": 8,
   "metadata": {
    "collapsed": false
   },
   "outputs": [],
   "source": [
    "################################################################################\n",
    "# Script to find the following: \n",
    "# 1. Department which gets maximum number of compliants \n",
    "# 2. Compliant Type which is more dominant\n",
    "################################################################################\n",
    "\n",
    "departmentDict = {}\n",
    "compliantTypeDict = {}\n",
    "\n",
    "fp = open(\"C:/Users/Anshul/Desktop/311_2015_Full.csv\",\"r\")\n",
    "for line in fp:\n",
    "    department = line.split(\",\")[3].strip()\n",
    "    compliantType = line.split(\",\")[5].strip()\n",
    "\n",
    "    if department in departmentDict: \n",
    "        departmentDict[department] = departmentDict.get(department) + 1 \n",
    "    else: \n",
    "        departmentDict[department] = 1 \n",
    "\n",
    "    if compliantType in compliantTypeDict: \n",
    "        compliantTypeDict[compliantType] = compliantTypeDict.get(compliantType) + 1\n",
    "    else: \n",
    "        compliantTypeDict[compliantType] = 1\n",
    "\n",
    "\n",
    "        \n",
    "fp.close()\n",
    "\n",
    "fdept = open(\"C:/Users/Anshul/Desktop/DepartmentWithMostCompliants.txt\",\"w\")\n",
    "for k, v in departmentDict.items():\n",
    "    fdept.write(str(k)+\":\"+str(v)+\"\\n\")\n",
    "\n",
    "fdept.close()\n",
    "\n",
    "fComp= open(\"C:/Users/Anshul/Desktop/MostCompliantTypes.txt\",\"w\")\n",
    "for k, v in compliantTypeDict.items():\n",
    "    fComp.write(str(k)+\":\"+str(v)+\"\\n\")\n",
    "fComp.close()"
   ]
  },
  {
   "cell_type": "code",
   "execution_count": 6,
   "metadata": {
    "collapsed": true
   },
   "outputs": [],
   "source": [
    "import operator\n",
    "x = departmentDict\n",
    "sorted_x = sorted(x.items(), key=operator.itemgetter(1))\n",
    "sorted_x.reverse()"
   ]
  },
  {
   "cell_type": "code",
   "execution_count": 7,
   "metadata": {
    "collapsed": true
   },
   "outputs": [
    {
     "data": {
      "text/plain": [
       "[('Department of Housing Preservation and Development', 450372),\n",
       " ('New York City Police Department', 269717),\n",
       " ('Department of Transportation', 255325),\n",
       " ('Department of Environmental Protection', 142779),\n",
       " ('Department of Buildings', 60928),\n",
       " ('Department of Parks and Recreation', 58166),\n",
       " ('Department of Health and Mental Hygiene', 45100),\n",
       " ('Department of Finance', 23297),\n",
       " ('Taxi and Limousine Commission', 18566),\n",
       " ('HRA Benefit Card Replacement', 17029),\n",
       " ('Department of Consumer Affairs', 15723),\n",
       " ('BCC - Brooklyn South', 11637),\n",
       " ('NYC Emergency Management', 133),\n",
       " ('Division of Alternative Management', 121),\n",
       " ('Central - Department of Education', 89),\n",
       " ('OATH', 86),\n",
       " ('DOB Inspections - Brooklyn', 84),\n",
       " ('DOB Inspections - Bronx', 53),\n",
       " ('Bureau of Fire Prevention - Public Assembly Unit - Inspections', 51),\n",
       " ('P - Commercial Recycling Citywide', 49),\n",
       " ('DOB Inspections - Manhattan', 41),\n",
       " ('DHS Commissioner - EC', 39),\n",
       " ('DOP', 31),\n",
       " ('School - Achievement First Crown Heights Charter School', 22),\n",
       " ('School - Harvest Collegiate High School', 18),\n",
       " ('School - PS 57 Crescent', 17),\n",
       " ('Internal Affairs Bureau', 8),\n",
       " ('School - Port Richmond High School', 8),\n",
       " ('School - PS 114 Ryder Elementary', 7),\n",
       " ('Bureau of Fire Prevention - Hazmat Unit - Inspections', 7),\n",
       " ('OPS', 7),\n",
       " ('School - Wadleigh Secondary School for the Performing and Visual Arts', 7),\n",
       " ('School - PS 250 George H Lindsay', 7),\n",
       " ('School - PS 112 Bronxwood', 3),\n",
       " ('School - PS 8 Robert Fulton', 3),\n",
       " ('School - Fairmont Neighborhood School', 3),\n",
       " ('School - The Bellaire School', 2),\n",
       " ('School - PS 93 William H Prescott', 2),\n",
       " ('DCAS', 2),\n",
       " ('School - PS 4 Maurice Wollin', 1),\n",
       " ('School - PS 235 Lenox School', 1),\n",
       " ('School - Pioneer Academy', 1)]"
      ]
     },
     "execution_count": 7,
     "metadata": {},
     "output_type": "execute_result"
    }
   ],
   "source": [
    "sorted_x"
   ]
  },
  {
   "cell_type": "code",
   "execution_count": 20,
   "metadata": {
    "collapsed": false
   },
   "outputs": [
    {
     "name": "stdout",
     "output_type": "stream",
     "text": [
      "EDC 23289\n",
      "DFTA 12612\n",
      "DSNY 2583\n",
      "DPR 7141\n",
      "DOHMH -3623\n",
      "DEP 3021\n",
      "DHS 0\n",
      "DOF 2669\n",
      "DOITT 15316\n",
      "DCA 10725\n",
      "TLC 3512\n",
      "DOB 2929\n",
      "DOE 15895\n",
      "NYCEM 6511\n",
      "3/1/2001 5\n",
      "FDNY 17143\n",
      "NYPD 268\n",
      "HRA 0\n",
      "DOT 2816\n",
      "HPD 12048\n"
     ]
    }
   ],
   "source": [
    "import datetime as dt\n",
    "\n",
    "resolutionDict = {}\n",
    "resolutionDictCount = {}\n",
    "\n",
    "fp = open(\"C:/Users/Anshul/Desktop/9September.csv\",\"r\")\n",
    "for line in fp:\n",
    "\tcreatedDate = line.split(\",\")[1].strip()\n",
    "\tclosedDate = line.split(\",\")[2].strip()\n",
    "\tagency = line.split(\",\")[3].strip()\n",
    "\n",
    "\tif createdDate is None or closedDate is None or createdDate ==\"\" or closedDate ==\"\" or createdDate == \"Created Date\":\n",
    "\t\tcontinue\n",
    "\n",
    "\tc1Date = createdDate.split(\" \")[0]\n",
    "\tc1Month = c1Date.split(\"/\")[0]\n",
    "\tc1Day = c1Date.split(\"/\")[1]\n",
    "\tc1Year = c1Date.split(\"/\")[2]\n",
    "\t\n",
    "\tc1Time = createdDate.split(\" \")[1]\n",
    "\tc1Hour = c1Time.split(\":\")[0]\n",
    "\tc1Min = c1Time.split(\":\")[1]\n",
    "\n",
    "\tc2Date = closedDate.split(\" \")[0]\n",
    "\tc2Month = c2Date.split(\"/\")[0]\n",
    "\tc2Day = c2Date.split(\"/\")[1]\n",
    "\tc2Year = c2Date.split(\"/\")[2]\n",
    "\t\n",
    "\tc2Time = closedDate.split(\" \")[1]\n",
    "\tc2Hour = c2Time.split(\":\")[0]\n",
    "\tc2Min = c2Time.split(\":\")[1]\n",
    "\n",
    "\tstartTime = dt.datetime(int(c1Year),int(c1Month),int(c1Day),int(c1Hour),int(c1Min),0)\n",
    "\tendTime = dt.datetime(int(c2Year),int(c2Month),int(c2Day),int(c2Hour),int(c2Min),0)\n",
    "\n",
    "\t# Get values in minutes\n",
    "\tdiff = int((endTime - startTime).total_seconds() / 60)\n",
    "\tif agency in resolutionDict:\n",
    "\t\tresolutionDict[agency] = resolutionDict.get(agency) + diff\n",
    "\t\tresolutionDictCount[agency] = resolutionDictCount.get(agency) + 1\n",
    "\telse : \n",
    "\t\tresolutionDict[agency] = diff\n",
    "\t\tresolutionDictCount[agency] = 1\n",
    "\t\t\n",
    "fp.close()\n",
    "\n",
    "for (k, v),(k2,v2) in zip(resolutionDict.items(), resolutionDictCount.items()):\n",
    "\tprint k,int(v)/int(v2)\n",
    "\n"
   ]
  },
  {
   "cell_type": "code",
   "execution_count": 21,
   "metadata": {
    "collapsed": true
   },
   "outputs": [],
   "source": [
    "\n",
    "fp = open(\"C:\\Users\\Anshul\\Desktop\\9September.csv\",\"r\")\n",
    "fout = open(\"C:\\Users\\Anshul\\Desktop\\LatLongPoints.txt\",\"w\")\n",
    "for line in fp:\n",
    "\tlat = line.split(\",\")[50].strip()\n",
    "\tlongit= line.split(\",\")[51].strip()\n",
    "\tif lat is None or longit is None or lat == \"\" or longit == \"\" or lat == \" \" or longit == \" \": \n",
    "\t\tcontinue\n",
    "\tfout.write(lat+\" \"+longit+\"\\n\")\n",
    "\t\n",
    "\n",
    "fp.close()\n",
    "fout.close()\n"
   ]
  }
 ],
 "metadata": {
  "kernelspec": {
   "display_name": "Python 2",
   "language": "python",
   "name": "python2"
  },
  "language_info": {
   "codemirror_mode": {
    "name": "ipython",
    "version": 2
   },
   "file_extension": ".py",
   "mimetype": "text/x-python",
   "name": "python",
   "nbconvert_exporter": "python",
   "pygments_lexer": "ipython2",
   "version": "2.7.10"
  }
 },
 "nbformat": 4,
 "nbformat_minor": 0
}
