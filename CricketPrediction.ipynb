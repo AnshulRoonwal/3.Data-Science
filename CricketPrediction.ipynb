{
 "cells": [
  {
   "cell_type": "markdown",
   "metadata": {},
   "source": [
    "## Predicting Outcome of an ODI in Cricket Match using Pandas and SciKit Learn"
   ]
  },
  {
   "cell_type": "code",
   "execution_count": 1,
   "metadata": {
    "collapsed": true
   },
   "outputs": [],
   "source": [
    "import platform\n",
    "import pandas\n",
    "import sklearn\n",
    "import os\n",
    "import numpy as np\n",
    "import pandas as pd"
   ]
  },
  {
   "cell_type": "raw",
   "metadata": {
    "collapsed": false
   },
   "source": [
    "from sklearn.metrics import f1_score, make_scorer, classification_report\n",
    "scorer = make_scorer(f1_score, pos_label=None, average='weighted')  ## We have removed the use of scorer in our example"
   ]
  },
  {
   "cell_type": "code",
   "execution_count": 3,
   "metadata": {
    "collapsed": false
   },
   "outputs": [],
   "source": [
    "results = pd.read_csv(\"C:\\Users\\Anshul\\Desktop\\cricket.csv\")"
   ]
  },
  {
   "cell_type": "code",
   "execution_count": 4,
   "metadata": {
    "collapsed": false,
    "scrolled": false
   },
   "outputs": [
    {
     "data": {
      "text/html": [
       "<div>\n",
       "<table border=\"1\" class=\"dataframe\">\n",
       "  <thead>\n",
       "    <tr style=\"text-align: right;\">\n",
       "      <th></th>\n",
       "      <th>teamA</th>\n",
       "      <th>teamB</th>\n",
       "      <th>city</th>\n",
       "      <th>home_ground_of</th>\n",
       "      <th>rankTeamA</th>\n",
       "      <th>pointsTeamA</th>\n",
       "      <th>RatingTeamA</th>\n",
       "      <th>rankTeamB</th>\n",
       "      <th>pointsTeamB</th>\n",
       "      <th>RatingTeamB</th>\n",
       "      <th>winnerNumber</th>\n",
       "      <th>winnerName</th>\n",
       "    </tr>\n",
       "  </thead>\n",
       "  <tbody>\n",
       "    <tr>\n",
       "      <th>0</th>\n",
       "      <td>Australia</td>\n",
       "      <td>New Zealand</td>\n",
       "      <td>Chandigarh</td>\n",
       "      <td>none</td>\n",
       "      <td>1</td>\n",
       "      <td>4889</td>\n",
       "      <td>129</td>\n",
       "      <td>3</td>\n",
       "      <td>4284</td>\n",
       "      <td>116</td>\n",
       "      <td>1</td>\n",
       "      <td>Australia</td>\n",
       "    </tr>\n",
       "    <tr>\n",
       "      <th>1</th>\n",
       "      <td>South Africa</td>\n",
       "      <td>West Indies</td>\n",
       "      <td>Jaipur</td>\n",
       "      <td>none</td>\n",
       "      <td>4</td>\n",
       "      <td>5131</td>\n",
       "      <td>112</td>\n",
       "      <td>8</td>\n",
       "      <td>2471</td>\n",
       "      <td>88</td>\n",
       "      <td>8</td>\n",
       "      <td>West Indies</td>\n",
       "    </tr>\n",
       "    <tr>\n",
       "      <th>2</th>\n",
       "      <td>Australia</td>\n",
       "      <td>West Indies</td>\n",
       "      <td>Mumbai</td>\n",
       "      <td>none</td>\n",
       "      <td>1</td>\n",
       "      <td>4889</td>\n",
       "      <td>129</td>\n",
       "      <td>8</td>\n",
       "      <td>2471</td>\n",
       "      <td>88</td>\n",
       "      <td>1</td>\n",
       "      <td>Australia</td>\n",
       "    </tr>\n",
       "    <tr>\n",
       "      <th>3</th>\n",
       "      <td>South Africa</td>\n",
       "      <td>India</td>\n",
       "      <td>Durban</td>\n",
       "      <td>South Africa</td>\n",
       "      <td>4</td>\n",
       "      <td>5131</td>\n",
       "      <td>112</td>\n",
       "      <td>2</td>\n",
       "      <td>5278</td>\n",
       "      <td>117</td>\n",
       "      <td>4</td>\n",
       "      <td>South Africa</td>\n",
       "    </tr>\n",
       "    <tr>\n",
       "      <th>4</th>\n",
       "      <td>South Africa</td>\n",
       "      <td>India</td>\n",
       "      <td>Cape Town</td>\n",
       "      <td>South Africa</td>\n",
       "      <td>4</td>\n",
       "      <td>5131</td>\n",
       "      <td>112</td>\n",
       "      <td>2</td>\n",
       "      <td>5278</td>\n",
       "      <td>117</td>\n",
       "      <td>4</td>\n",
       "      <td>South Africa</td>\n",
       "    </tr>\n",
       "    <tr>\n",
       "      <th>5</th>\n",
       "      <td>South Africa</td>\n",
       "      <td>India</td>\n",
       "      <td>Port Elizabeth</td>\n",
       "      <td>South Africa</td>\n",
       "      <td>4</td>\n",
       "      <td>5131</td>\n",
       "      <td>112</td>\n",
       "      <td>2</td>\n",
       "      <td>5278</td>\n",
       "      <td>117</td>\n",
       "      <td>4</td>\n",
       "      <td>South Africa</td>\n",
       "    </tr>\n",
       "  </tbody>\n",
       "</table>\n",
       "</div>"
      ],
      "text/plain": [
       "          teamA        teamB            city home_ground_of  rankTeamA  \\\n",
       "0     Australia  New Zealand      Chandigarh           none          1   \n",
       "1  South Africa  West Indies          Jaipur           none          4   \n",
       "2     Australia  West Indies          Mumbai           none          1   \n",
       "3  South Africa        India          Durban   South Africa          4   \n",
       "4  South Africa        India       Cape Town   South Africa          4   \n",
       "5  South Africa        India  Port Elizabeth   South Africa          4   \n",
       "\n",
       "   pointsTeamA  RatingTeamA  rankTeamB  pointsTeamB  RatingTeamB  \\\n",
       "0         4889          129          3         4284          116   \n",
       "1         5131          112          8         2471           88   \n",
       "2         4889          129          8         2471           88   \n",
       "3         5131          112          2         5278          117   \n",
       "4         5131          112          2         5278          117   \n",
       "5         5131          112          2         5278          117   \n",
       "\n",
       "   winnerNumber    winnerName  \n",
       "0             1     Australia  \n",
       "1             8   West Indies  \n",
       "2             1     Australia  \n",
       "3             4  South Africa  \n",
       "4             4  South Africa  \n",
       "5             4  South Africa  "
      ]
     },
     "execution_count": 4,
     "metadata": {},
     "output_type": "execute_result"
    }
   ],
   "source": [
    "results.ix[:5]"
   ]
  },
  {
   "cell_type": "markdown",
   "metadata": {},
   "source": [
    "## Let's programatically create a column - 'winnerIsAorB_1or2'; If teamA wins = 1 else 2;"
   ]
  },
  {
   "cell_type": "markdown",
   "metadata": {},
   "source": [
    "- First I need to Add this new column to the dataframe results, even before I programatically put right values to it.\n",
    "- Run this only once. And never run afterwards as it will reset all column values to 1 again.\n",
    "- teamA wins, then = 1, teamA loose or teamB wins = 2, No result = 0"
   ]
  },
  {
   "cell_type": "code",
   "execution_count": 5,
   "metadata": {
    "collapsed": true
   },
   "outputs": [],
   "source": [
    "#Run this cell only once. It makes the column values all equal to 1. I have programatically set the values later.\n",
    "results[\"winnerIsAorB_1or2\"] = 1"
   ]
  },
  {
   "cell_type": "code",
   "execution_count": 6,
   "metadata": {
    "collapsed": false
   },
   "outputs": [
    {
     "name": "stderr",
     "output_type": "stream",
     "text": [
      "C:\\Anaconda2\\lib\\site-packages\\ipykernel\\__main__.py:3: SettingWithCopyWarning: \n",
      "A value is trying to be set on a copy of a slice from a DataFrame\n",
      "\n",
      "See the caveats in the documentation: http://pandas.pydata.org/pandas-docs/stable/indexing.html#indexing-view-versus-copy\n",
      "  app.launch_new_instance()\n",
      "C:\\Anaconda2\\lib\\site-packages\\ipykernel\\__main__.py:5: SettingWithCopyWarning: \n",
      "A value is trying to be set on a copy of a slice from a DataFrame\n",
      "\n",
      "See the caveats in the documentation: http://pandas.pydata.org/pandas-docs/stable/indexing.html#indexing-view-versus-copy\n",
      "C:\\Anaconda2\\lib\\site-packages\\ipykernel\\__main__.py:7: SettingWithCopyWarning: \n",
      "A value is trying to be set on a copy of a slice from a DataFrame\n",
      "\n",
      "See the caveats in the documentation: http://pandas.pydata.org/pandas-docs/stable/indexing.html#indexing-view-versus-copy\n"
     ]
    }
   ],
   "source": [
    "for i in range(len(results[\"teamA\"].values)):\n",
    "    if results[\"winnerName\"][i] == results[\"teamA\"][i]:\n",
    "        results[\"winnerIsAorB_1or2\"][i] = 1\n",
    "    elif results[\"winnerName\"][i] == results[\"teamB\"][i]:\n",
    "        results[\"winnerIsAorB_1or2\"][i] = 2\n",
    "    else:\n",
    "        results[\"winnerIsAorB_1or2\"][i] = 0   #To handle the case of no result, this is another class.  "
   ]
  },
  {
   "cell_type": "markdown",
   "metadata": {},
   "source": [
    "## Yes, the column - 'winnerIsAorB_1or2' has been added to Data Frame 'results'\n",
    "- See Below for evidence"
   ]
  },
  {
   "cell_type": "code",
   "execution_count": 26,
   "metadata": {
    "collapsed": false,
    "scrolled": true
   },
   "outputs": [
    {
     "data": {
      "text/html": [
       "<div>\n",
       "<table border=\"1\" class=\"dataframe\">\n",
       "  <thead>\n",
       "    <tr style=\"text-align: right;\">\n",
       "      <th></th>\n",
       "      <th>teamA</th>\n",
       "      <th>teamB</th>\n",
       "      <th>city</th>\n",
       "      <th>home_ground_of</th>\n",
       "      <th>rankTeamA</th>\n",
       "      <th>pointsTeamA</th>\n",
       "      <th>RatingTeamA</th>\n",
       "      <th>rankTeamB</th>\n",
       "      <th>pointsTeamB</th>\n",
       "      <th>RatingTeamB</th>\n",
       "      <th>winnerNumber</th>\n",
       "      <th>winnerName</th>\n",
       "      <th>winnerIsAorB_1or2</th>\n",
       "    </tr>\n",
       "  </thead>\n",
       "  <tbody>\n",
       "    <tr>\n",
       "      <th>500</th>\n",
       "      <td>Pakistan</td>\n",
       "      <td>West Indies</td>\n",
       "      <td>Mirpur</td>\n",
       "      <td>none</td>\n",
       "      <td>9</td>\n",
       "      <td>3721</td>\n",
       "      <td>87</td>\n",
       "      <td>8</td>\n",
       "      <td>2471</td>\n",
       "      <td>88</td>\n",
       "      <td>9</td>\n",
       "      <td>Pakistan</td>\n",
       "      <td>1</td>\n",
       "    </tr>\n",
       "    <tr>\n",
       "      <th>501</th>\n",
       "      <td>India</td>\n",
       "      <td>Australia</td>\n",
       "      <td>Ahmedabad</td>\n",
       "      <td>India</td>\n",
       "      <td>2</td>\n",
       "      <td>5278</td>\n",
       "      <td>117</td>\n",
       "      <td>1</td>\n",
       "      <td>4889</td>\n",
       "      <td>129</td>\n",
       "      <td>2</td>\n",
       "      <td>India</td>\n",
       "      <td>1</td>\n",
       "    </tr>\n",
       "    <tr>\n",
       "      <th>502</th>\n",
       "      <td>New Zealand</td>\n",
       "      <td>South Africa</td>\n",
       "      <td>Mirpur</td>\n",
       "      <td>none</td>\n",
       "      <td>3</td>\n",
       "      <td>4284</td>\n",
       "      <td>116</td>\n",
       "      <td>4</td>\n",
       "      <td>5131</td>\n",
       "      <td>112</td>\n",
       "      <td>3</td>\n",
       "      <td>New Zealand</td>\n",
       "      <td>1</td>\n",
       "    </tr>\n",
       "    <tr>\n",
       "      <th>503</th>\n",
       "      <td>Sri Lanka</td>\n",
       "      <td>England</td>\n",
       "      <td>Colombo</td>\n",
       "      <td>Sri Lanka</td>\n",
       "      <td>5</td>\n",
       "      <td>5811</td>\n",
       "      <td>106</td>\n",
       "      <td>6</td>\n",
       "      <td>3968</td>\n",
       "      <td>98</td>\n",
       "      <td>5</td>\n",
       "      <td>Sri Lanka</td>\n",
       "      <td>1</td>\n",
       "    </tr>\n",
       "    <tr>\n",
       "      <th>504</th>\n",
       "      <td>Sri Lanka</td>\n",
       "      <td>New Zealand</td>\n",
       "      <td>Colombo</td>\n",
       "      <td>Sri Lanka</td>\n",
       "      <td>5</td>\n",
       "      <td>5811</td>\n",
       "      <td>106</td>\n",
       "      <td>3</td>\n",
       "      <td>4284</td>\n",
       "      <td>116</td>\n",
       "      <td>5</td>\n",
       "      <td>Sri Lanka</td>\n",
       "      <td>1</td>\n",
       "    </tr>\n",
       "    <tr>\n",
       "      <th>505</th>\n",
       "      <td>India</td>\n",
       "      <td>Pakistan</td>\n",
       "      <td>Chandigarh</td>\n",
       "      <td>India</td>\n",
       "      <td>2</td>\n",
       "      <td>5278</td>\n",
       "      <td>117</td>\n",
       "      <td>9</td>\n",
       "      <td>3721</td>\n",
       "      <td>87</td>\n",
       "      <td>2</td>\n",
       "      <td>India</td>\n",
       "      <td>1</td>\n",
       "    </tr>\n",
       "    <tr>\n",
       "      <th>587</th>\n",
       "      <td>Australia</td>\n",
       "      <td>Sri Lanka</td>\n",
       "      <td>NaN</td>\n",
       "      <td>Australia</td>\n",
       "      <td>1</td>\n",
       "      <td>4889</td>\n",
       "      <td>129</td>\n",
       "      <td>5</td>\n",
       "      <td>5811</td>\n",
       "      <td>106</td>\n",
       "      <td>5</td>\n",
       "      <td>Sri Lanka</td>\n",
       "      <td>2</td>\n",
       "    </tr>\n",
       "    <tr>\n",
       "      <th>588</th>\n",
       "      <td>England</td>\n",
       "      <td>Pakistan</td>\n",
       "      <td>NaN</td>\n",
       "      <td>none</td>\n",
       "      <td>6</td>\n",
       "      <td>3968</td>\n",
       "      <td>98</td>\n",
       "      <td>9</td>\n",
       "      <td>3721</td>\n",
       "      <td>87</td>\n",
       "      <td>6</td>\n",
       "      <td>England</td>\n",
       "      <td>1</td>\n",
       "    </tr>\n",
       "    <tr>\n",
       "      <th>589</th>\n",
       "      <td>Australia</td>\n",
       "      <td>India</td>\n",
       "      <td>Brisbane</td>\n",
       "      <td>Australia</td>\n",
       "      <td>1</td>\n",
       "      <td>4889</td>\n",
       "      <td>129</td>\n",
       "      <td>2</td>\n",
       "      <td>5278</td>\n",
       "      <td>117</td>\n",
       "      <td>1</td>\n",
       "      <td>Australia</td>\n",
       "      <td>1</td>\n",
       "    </tr>\n",
       "    <tr>\n",
       "      <th>590</th>\n",
       "      <td>England</td>\n",
       "      <td>Pakistan</td>\n",
       "      <td>NaN</td>\n",
       "      <td>none</td>\n",
       "      <td>6</td>\n",
       "      <td>3968</td>\n",
       "      <td>98</td>\n",
       "      <td>9</td>\n",
       "      <td>3721</td>\n",
       "      <td>87</td>\n",
       "      <td>6</td>\n",
       "      <td>England</td>\n",
       "      <td>1</td>\n",
       "    </tr>\n",
       "  </tbody>\n",
       "</table>\n",
       "<p>91 rows × 13 columns</p>\n",
       "</div>"
      ],
      "text/plain": [
       "            teamA         teamB           city home_ground_of  rankTeamA  \\\n",
       "500      Pakistan   West Indies         Mirpur           none          9   \n",
       "501         India     Australia      Ahmedabad          India          2   \n",
       "502   New Zealand  South Africa         Mirpur           none          3   \n",
       "503     Sri Lanka       England        Colombo      Sri Lanka          5   \n",
       "504     Sri Lanka   New Zealand        Colombo      Sri Lanka          5   \n",
       "505         India      Pakistan     Chandigarh          India          2   \n",
       "506         India     Sri Lanka         Mumbai          India          2   \n",
       "507    Bangladesh     Australia         Mirpur     Bangladesh          7   \n",
       "508    Bangladesh     Australia         Mirpur     Bangladesh          7   \n",
       "509    Bangladesh     Australia         Mirpur     Bangladesh          7   \n",
       "510   West Indies      Pakistan       St Lucia    West Indies          8   \n",
       "511   West Indies      Pakistan       St Lucia    West Indies          8   \n",
       "512   West Indies      Pakistan       Barbados    West Indies          8   \n",
       "513   West Indies      Pakistan       Barbados    West Indies          8   \n",
       "514   West Indies      Pakistan         Guyana    West Indies          8   \n",
       "515   West Indies         India       Trinidad    West Indies          8   \n",
       "516   West Indies         India       Trinidad    West Indies          8   \n",
       "517   West Indies         India        Antigua    West Indies          8   \n",
       "518   West Indies         India        Antigua    West Indies          8   \n",
       "519   West Indies         India        Jamaica    West Indies          8   \n",
       "520       England     Sri Lanka         London        England          6   \n",
       "521       England     Sri Lanka          Leeds        England          6   \n",
       "522       England     Sri Lanka         London        England          6   \n",
       "523       England     Sri Lanka     Nottingham        England          6   \n",
       "524       England     Sri Lanka     Manchester        England          6   \n",
       "525     Sri Lanka     Australia            NaN      Sri Lanka          5   \n",
       "526      Zimbabwe    Bangladesh            NaN       Zimbabwe         11   \n",
       "527     Sri Lanka     Australia     Hambantota      Sri Lanka          5   \n",
       "528      Zimbabwe    Bangladesh            NaN       Zimbabwe         11   \n",
       "529     Sri Lanka     Australia     Hambantota      Sri Lanka          5   \n",
       "..            ...           ...            ...            ...        ...   \n",
       "561      Pakistan     Sri Lanka            NaN           none          9   \n",
       "562      Pakistan     Sri Lanka      Abu Dhabi           none          9   \n",
       "563         India   West Indies        Cuttack          India          2   \n",
       "564    Bangladesh      Pakistan         Mirpur     Bangladesh          7   \n",
       "565         India   West Indies  Visakhapatnam          India          2   \n",
       "566    Bangladesh      Pakistan         Mirpur     Bangladesh          7   \n",
       "567         India   West Indies      Ahmedabad          India          2   \n",
       "568    Bangladesh      Pakistan     Chittagong     Bangladesh          7   \n",
       "569         India   West Indies         Indore          India          2   \n",
       "570         India   West Indies        Chennai          India          2   \n",
       "571  South Africa     Sri Lanka          Paarl   South Africa          4   \n",
       "572  South Africa     Sri Lanka    East London   South Africa          4   \n",
       "573  South Africa     Sri Lanka   Bloemfontein   South Africa          4   \n",
       "574  South Africa     Sri Lanka      Kimberley   South Africa          4   \n",
       "575  South Africa     Sri Lanka   Johannesburg   South Africa          4   \n",
       "576   New Zealand      Zimbabwe        Dunedin    New Zealand          3   \n",
       "577     Australia         India            NaN      Australia          1   \n",
       "578   New Zealand      Zimbabwe      Whangarei    New Zealand          3   \n",
       "579         India     Sri Lanka          Perth           none          2   \n",
       "580   New Zealand      Zimbabwe         Napier    New Zealand          3   \n",
       "581   Afghanistan      Pakistan            NaN           none         12   \n",
       "582     Australia     Sri Lanka          Perth      Australia          1   \n",
       "583     Australia         India            NaN      Australia          1   \n",
       "584       England      Pakistan      Abu Dhabi           none          6   \n",
       "585         India     Sri Lanka            NaN           none          2   \n",
       "586       England      Pakistan      Abu Dhabi           none          6   \n",
       "587     Australia     Sri Lanka            NaN      Australia          1   \n",
       "588       England      Pakistan            NaN           none          6   \n",
       "589     Australia         India       Brisbane      Australia          1   \n",
       "590       England      Pakistan            NaN           none          6   \n",
       "\n",
       "     pointsTeamA  RatingTeamA  rankTeamB  pointsTeamB  RatingTeamB  \\\n",
       "500         3721           87          8         2471           88   \n",
       "501         5278          117          1         4889          129   \n",
       "502         4284          116          4         5131          112   \n",
       "503         5811          106          6         3968           98   \n",
       "504         5811          106          3         4284          116   \n",
       "505         5278          117          9         3721           87   \n",
       "506         5278          117          5         5811          106   \n",
       "507         3094           96          1         4889          129   \n",
       "508         3094           96          1         4889          129   \n",
       "509         3094           96          1         4889          129   \n",
       "510         2471           88          9         3721           87   \n",
       "511         2471           88          9         3721           87   \n",
       "512         2471           88          9         3721           87   \n",
       "513         2471           88          9         3721           87   \n",
       "514         2471           88          9         3721           87   \n",
       "515         2471           88          2         5278          117   \n",
       "516         2471           88          2         5278          117   \n",
       "517         2471           88          2         5278          117   \n",
       "518         2471           88          2         5278          117   \n",
       "519         2471           88          2         5278          117   \n",
       "520         3968           98          5         5811          106   \n",
       "521         3968           98          5         5811          106   \n",
       "522         3968           98          5         5811          106   \n",
       "523         3968           98          5         5811          106   \n",
       "524         3968           98          5         5811          106   \n",
       "525         5811          106          1         4889          129   \n",
       "526         1250           45          7         3094           96   \n",
       "527         5811          106          1         4889          129   \n",
       "528         1250           45          7         3094           96   \n",
       "529         5811          106          1         4889          129   \n",
       "..           ...          ...        ...          ...          ...   \n",
       "561         3721           87          5         5811          106   \n",
       "562         3721           87          5         5811          106   \n",
       "563         5278          117          8         2471           88   \n",
       "564         3094           96          9         3721           87   \n",
       "565         5278          117          8         2471           88   \n",
       "566         3094           96          9         3721           87   \n",
       "567         5278          117          8         2471           88   \n",
       "568         3094           96          9         3721           87   \n",
       "569         5278          117          8         2471           88   \n",
       "570         5278          117          8         2471           88   \n",
       "571         5131          112          5         5811          106   \n",
       "572         5131          112          5         5811          106   \n",
       "573         5131          112          5         5811          106   \n",
       "574         5131          112          5         5811          106   \n",
       "575         5131          112          5         5811          106   \n",
       "576         4284          116         11         1250           45   \n",
       "577         4889          129          2         5278          117   \n",
       "578         4284          116         11         1250           45   \n",
       "579         5278          117          5         5811          106   \n",
       "580         4284          116         11         1250           45   \n",
       "581          618           41          9         3721           87   \n",
       "582         4889          129          5         5811          106   \n",
       "583         4889          129          2         5278          117   \n",
       "584         3968           98          9         3721           87   \n",
       "585         5278          117          5         5811          106   \n",
       "586         3968           98          9         3721           87   \n",
       "587         4889          129          5         5811          106   \n",
       "588         3968           98          9         3721           87   \n",
       "589         4889          129          2         5278          117   \n",
       "590         3968           98          9         3721           87   \n",
       "\n",
       "     winnerNumber    winnerName  winnerIsAorB_1or2  \n",
       "500             9      Pakistan                  1  \n",
       "501             2         India                  1  \n",
       "502             3   New Zealand                  1  \n",
       "503             5     Sri Lanka                  1  \n",
       "504             5     Sri Lanka                  1  \n",
       "505             2         India                  1  \n",
       "506             2         India                  1  \n",
       "507             1     Australia                  2  \n",
       "508             1     Australia                  2  \n",
       "509             1     Australia                  2  \n",
       "510             9      Pakistan                  2  \n",
       "511             9      Pakistan                  2  \n",
       "512             9      Pakistan                  2  \n",
       "513             8   West Indies                  1  \n",
       "514             8   West Indies                  1  \n",
       "515             2         India                  2  \n",
       "516             2         India                  2  \n",
       "517             2         India                  2  \n",
       "518             8   West Indies                  1  \n",
       "519             8   West Indies                  1  \n",
       "520             6       England                  1  \n",
       "521             5     Sri Lanka                  2  \n",
       "522             5     Sri Lanka                  2  \n",
       "523             6       England                  1  \n",
       "524             6       England                  1  \n",
       "525             1     Australia                  2  \n",
       "526            11      Zimbabwe                  1  \n",
       "527             1     Australia                  2  \n",
       "528            11      Zimbabwe                  1  \n",
       "529             5     Sri Lanka                  1  \n",
       "..            ...           ...                ...  \n",
       "561             9      Pakistan                  1  \n",
       "562             9      Pakistan                  1  \n",
       "563             2         India                  1  \n",
       "564             9      Pakistan                  2  \n",
       "565             2         India                  1  \n",
       "566             9      Pakistan                  2  \n",
       "567             8   West Indies                  2  \n",
       "568             9      Pakistan                  2  \n",
       "569             2         India                  1  \n",
       "570             2         India                  1  \n",
       "571             4  South Africa                  1  \n",
       "572             4  South Africa                  1  \n",
       "573             4  South Africa                  1  \n",
       "574             5     Sri Lanka                  2  \n",
       "575             5     Sri Lanka                  2  \n",
       "576             3   New Zealand                  1  \n",
       "577             1     Australia                  1  \n",
       "578             3   New Zealand                  1  \n",
       "579             2         India                  1  \n",
       "580             3   New Zealand                  1  \n",
       "581             9      Pakistan                  2  \n",
       "582             1     Australia                  1  \n",
       "583             2         India                  2  \n",
       "584             6       England                  1  \n",
       "585             0     no result                  0  \n",
       "586             6       England                  1  \n",
       "587             5     Sri Lanka                  2  \n",
       "588             6       England                  1  \n",
       "589             1     Australia                  1  \n",
       "590             6       England                  1  \n",
       "\n",
       "[91 rows x 13 columns]"
      ]
     },
     "execution_count": 26,
     "metadata": {},
     "output_type": "execute_result"
    }
   ],
   "source": [
    "results.ix[500:590]"
   ]
  },
  {
   "cell_type": "markdown",
   "metadata": {},
   "source": [
    "## The Baseline model creation taking only ranks as feature\n",
    "- We are taking only the ranks of the teams and comparing its accuracy\n",
    "- Then we find the accuracy of our baseline model -> 0.3383"
   ]
  },
  {
   "cell_type": "code",
   "execution_count": 8,
   "metadata": {
    "collapsed": true
   },
   "outputs": [],
   "source": [
    "def getWinnerTeam(item):\n",
    "    if item[0] > item[1]:\n",
    "        return 1\n",
    "    return 2"
   ]
  },
  {
   "cell_type": "code",
   "execution_count": 10,
   "metadata": {
    "collapsed": false
   },
   "outputs": [],
   "source": [
    "teamaranks = results['rankTeamA']\n",
    "teambranks = results['rankTeamB']\n",
    "combinedranks = list(zip(teamaranks,teambranks))"
   ]
  },
  {
   "cell_type": "code",
   "execution_count": 11,
   "metadata": {
    "collapsed": true
   },
   "outputs": [],
   "source": [
    "winnerList = map(getWinnerTeam,combinedranks)"
   ]
  },
  {
   "cell_type": "code",
   "execution_count": 48,
   "metadata": {
    "collapsed": false
   },
   "outputs": [
    {
     "name": "stdout",
     "output_type": "stream",
     "text": [
      "0.338308457711\n"
     ]
    }
   ],
   "source": [
    "from sklearn.metrics import accuracy_score\n",
    "print accuracy_score(winnerList, results['winnerIsAorB_1or2'])"
   ]
  },
  {
   "cell_type": "markdown",
   "metadata": {},
   "source": [
    "## The baseline could have been - \"Home Team Wins\" as in most of the research papers. However we chose \"Ranking\" for the reasons below.\n",
    "- This is because unlike other sports like football and soccer where everymatch is played on the Home Ground of either of the teams, Cricket is at times played on Neutral Ground. \n",
    "- A neutral ground would mean that it is not the HomeGround of either of the teams.\n",
    "- So going ahead with rankings."
   ]
  },
  {
   "cell_type": "markdown",
   "metadata": {},
   "source": [
    "## Let's do hypothesis testing. \n",
    "- Earlier we were skipping proving mathematically, which feature is better? Home Win or Ranking\n",
    "- If time permits, we will come back to prove it.\n",
    "- The pseudo code is however there.\n",
    "## Need to perform Hypothesis Testing as well as Prof. Leman had mentioned\n",
    "- No need to run the below code snippet right now, it is for future reference only"
   ]
  },
  {
   "cell_type": "code",
   "execution_count": 34,
   "metadata": {
    "collapsed": true
   },
   "outputs": [],
   "source": [
    "def getHGWinnerTeam(item):\n",
    "    if item[0] == item[1]:\n",
    "        return 1\n",
    "    elif item[0] == 'none' or item[1] == 'no result':\n",
    "#         print 'yes'\n",
    "        return 2\n",
    "    else:\n",
    "        return 0"
   ]
  },
  {
   "cell_type": "code",
   "execution_count": 16,
   "metadata": {
    "collapsed": true
   },
   "outputs": [
    {
     "data": {
      "text/plain": [
       "[('none', 'Australia'),\n",
       " ('none', 'West Indies'),\n",
       " ('none', 'Australia'),\n",
       " ('South Africa', 'South Africa'),\n",
       " ('South Africa', 'South Africa'),\n",
       " ('South Africa', 'South Africa'),\n",
       " ('Bangladesh', 'Bangladesh'),\n",
       " ('South Africa', 'South Africa'),\n",
       " ('Zimbabwe', 'India'),\n",
       " ('Bangladesh', 'Bangladesh'),\n",
       " ('Sri Lanka', 'Sri Lanka'),\n",
       " ('Sri Lanka', 'Pakistan'),\n",
       " ('Sri Lanka', 'Pakistan'),\n",
       " ('Sri Lanka', 'Sri Lanka'),\n",
       " ('Zimbabwe', 'Zimbabwe'),\n",
       " ('Zimbabwe', 'New Zealand'),\n",
       " ('Zimbabwe', 'New Zealand'),\n",
       " ('South Africa', 'South Africa'),\n",
       " ('South Africa', 'New Zealand'),\n",
       " ('South Africa', 'South Africa'),\n",
       " ('Ireland', 'Australia'),\n",
       " ('England', 'Australia'),\n",
       " ('England', 'Australia'),\n",
       " ('England', 'England'),\n",
       " ('England', 'England'),\n",
       " ('England', 'Australia'),\n",
       " ('Zimbabwe', 'Pakistan'),\n",
       " ('Zimbabwe', 'Zimbabwe'),\n",
       " ('Zimbabwe', 'Pakistan'),\n",
       " ('Zimbabwe', 'Zimbabwe'),\n",
       " ...]"
      ]
     },
     "execution_count": 16,
     "metadata": {},
     "output_type": "execute_result"
    }
   ],
   "source": [
    "# Will do later. For now let's assume that it has been done.\n",
    "# teamA = results['teamA']\n",
    "# teamB = results['teamB']\n",
    "homeGroundTeam = results['home_ground_of']\n",
    "winner = results['winnerName']\n",
    "combinedTeams = list(zip(homeGroundTeam, winner))\n",
    "combinedTeams"
   ]
  },
  {
   "cell_type": "code",
   "execution_count": 35,
   "metadata": {
    "collapsed": true
   },
   "outputs": [
    {
     "data": {
      "text/plain": [
       "[2,\n",
       " 2,\n",
       " 2,\n",
       " 1,\n",
       " 1,\n",
       " 1,\n",
       " 1,\n",
       " 1,\n",
       " 1,\n",
       " 1,\n",
       " 1,\n",
       " 1,\n",
       " 1,\n",
       " 0,\n",
       " 1,\n",
       " 0,\n",
       " 1,\n",
       " 0,\n",
       " ...]"
      ]
     },
     "execution_count": 35,
     "metadata": {},
     "output_type": "execute_result"
    }
   ],
   "source": [
    "HGwinner = map(getHGWinnerTeam,combinedTeams)\n",
    "HGwinner"
   ]
  },
  {
   "cell_type": "code",
   "execution_count": 40,
   "metadata": {
    "collapsed": false,
    "scrolled": true
   },
   "outputs": [
    {
     "name": "stdout",
     "output_type": "stream",
     "text": [
      "Match nt counted towards the HGwin =  265\n"
     ]
    }
   ],
   "source": [
    "count=0\n",
    "countNeutralVenue = 0\n",
    "for i in range(len(HGwinner)):\n",
    "    if HGwinner[i] == 1:\n",
    "        count = count+1\n",
    "    elif HGwinner[i] == 2:\n",
    "        countNeutralVenue = countNeutralVenue+1\n",
    "#         print 'yes'\n",
    "# count\n",
    "print 'Match nt counted towards the HGwin = ',countNeutralVenue\n"
   ]
  },
  {
   "cell_type": "markdown",
   "metadata": {},
   "source": [
    "## So our hypothesis earlier was that HG has significant role is failing.\n",
    "- It passed earlier as I ignored these 265 matches that could not contribute to HGwin as 223 were played in Neutral venue and 42 resulted in a Draw.\n",
    "- There fore, earlier HGSignificance > 50% as 424/(1005-265) = 424/740 =57.29>50%\n",
    "- Now, we can not ignore those draw matches as well, so include them\n",
    "- Now the HGSignificance < 50% as 424/1005 = 42.18% < 50%"
   ]
  },
  {
   "cell_type": "code",
   "execution_count": null,
   "metadata": {
    "collapsed": true
   },
   "outputs": [],
   "source": [
    "# from sklearn.metrics import accuracy_score\n",
    "# print accuracy_score(winnerList, results['winnerIsAorB_1or2'])"
   ]
  },
  {
   "cell_type": "raw",
   "metadata": {},
   "source": [
    "Don't Execute it at all.. :)\n",
    "Did make it non-executable on purpose\n",
    "\n",
    "n_games = results[\"HomeWin0or1\"].count()\n",
    "n_homewins = results[\"HomeWin0or1\"].sum()\n",
    "win_percentage = (n_homewins / float(n_games))\n",
    "\n",
    "print n_games, n_homewins\n",
    "print(\"Home In PerC: {0:.1f}%\".format(100* win_percentage))\n"
   ]
  },
  {
   "cell_type": "markdown",
   "metadata": {},
   "source": [
    "## How many matches happened at \"Neutral Venue\"?"
   ]
  },
  {
   "cell_type": "code",
   "execution_count": 42,
   "metadata": {
    "collapsed": false,
    "scrolled": false
   },
   "outputs": [
    {
     "name": "stdout",
     "output_type": "stream",
     "text": [
      "Out of 1005 matches, ones that took place at Neutral Venue are -  223\n"
     ]
    }
   ],
   "source": [
    "count_of_neutral_venue_games = 0\n",
    "for i in range(len(results[\"teamA\"].values)):\n",
    "    if results[\"home_ground_of\"][i] == 'none':\n",
    "        count_of_neutral_venue_games = count_of_neutral_venue_games + 1\n",
    "\n",
    "#Print out the matches that took place at Neutral Venue. THis will help in deciding if Home Ground can bea sifnificant feature\n",
    "print \"Out of 1005 matches, ones that took place at Neutral Venue are - \", count_of_neutral_venue_games"
   ]
  },
  {
   "cell_type": "markdown",
   "metadata": {},
   "source": [
    "## Let's add another  column to represent which team (teamA or teamB) were playing on HG\n",
    "- We will name this column as \"home_groundOfAorB_1or2\"\n",
    "- If it is home ground of teamA, then = 1, teamB = 2, if Neutral = 0\n",
    "- Same like before, the next cell is to be executed only once."
   ]
  },
  {
   "cell_type": "code",
   "execution_count": 43,
   "metadata": {
    "collapsed": true
   },
   "outputs": [],
   "source": [
    "# Execute this line only once \n",
    "results[\"home_groundOfAorB_1or2\"] = 1"
   ]
  },
  {
   "cell_type": "markdown",
   "metadata": {},
   "source": [
    "### Yes It has been added, see evidence below"
   ]
  },
  {
   "cell_type": "code",
   "execution_count": 44,
   "metadata": {
    "collapsed": false,
    "scrolled": true
   },
   "outputs": [
    {
     "data": {
      "text/html": [
       "<div>\n",
       "<table border=\"1\" class=\"dataframe\">\n",
       "  <thead>\n",
       "    <tr style=\"text-align: right;\">\n",
       "      <th></th>\n",
       "      <th>teamA</th>\n",
       "      <th>teamB</th>\n",
       "      <th>city</th>\n",
       "      <th>home_ground_of</th>\n",
       "      <th>rankTeamA</th>\n",
       "      <th>pointsTeamA</th>\n",
       "      <th>RatingTeamA</th>\n",
       "      <th>rankTeamB</th>\n",
       "      <th>pointsTeamB</th>\n",
       "      <th>RatingTeamB</th>\n",
       "      <th>winnerNumber</th>\n",
       "      <th>winnerName</th>\n",
       "      <th>winnerIsAorB_1or2</th>\n",
       "      <th>home_groundOfAorB_1or2</th>\n",
       "    </tr>\n",
       "  </thead>\n",
       "  <tbody>\n",
       "    <tr>\n",
       "      <th>50</th>\n",
       "      <td>Bangladesh</td>\n",
       "      <td>India</td>\n",
       "      <td>Trinidad</td>\n",
       "      <td>none</td>\n",
       "      <td>7</td>\n",
       "      <td>3094</td>\n",
       "      <td>96</td>\n",
       "      <td>2</td>\n",
       "      <td>5278</td>\n",
       "      <td>117</td>\n",
       "      <td>7</td>\n",
       "      <td>Bangladesh</td>\n",
       "      <td>1</td>\n",
       "      <td>1</td>\n",
       "    </tr>\n",
       "    <tr>\n",
       "      <th>51</th>\n",
       "      <td>Ireland</td>\n",
       "      <td>Pakistan</td>\n",
       "      <td>Jamaica</td>\n",
       "      <td>none</td>\n",
       "      <td>10</td>\n",
       "      <td>549</td>\n",
       "      <td>50</td>\n",
       "      <td>9</td>\n",
       "      <td>3721</td>\n",
       "      <td>87</td>\n",
       "      <td>10</td>\n",
       "      <td>Ireland</td>\n",
       "      <td>1</td>\n",
       "      <td>1</td>\n",
       "    </tr>\n",
       "    <tr>\n",
       "      <th>52</th>\n",
       "      <td>West Indies</td>\n",
       "      <td>Zimbabwe</td>\n",
       "      <td>Jamaica</td>\n",
       "      <td>West Indies</td>\n",
       "      <td>8</td>\n",
       "      <td>2471</td>\n",
       "      <td>88</td>\n",
       "      <td>11</td>\n",
       "      <td>1250</td>\n",
       "      <td>45</td>\n",
       "      <td>8</td>\n",
       "      <td>West Indies</td>\n",
       "      <td>1</td>\n",
       "      <td>1</td>\n",
       "    </tr>\n",
       "    <tr>\n",
       "      <th>53</th>\n",
       "      <td>Scotland</td>\n",
       "      <td>South Africa</td>\n",
       "      <td>St Kitts</td>\n",
       "      <td>none</td>\n",
       "      <td>14</td>\n",
       "      <td>200</td>\n",
       "      <td>25</td>\n",
       "      <td>4</td>\n",
       "      <td>5131</td>\n",
       "      <td>112</td>\n",
       "      <td>4</td>\n",
       "      <td>South Africa</td>\n",
       "      <td>2</td>\n",
       "      <td>1</td>\n",
       "    </tr>\n",
       "    <tr>\n",
       "      <th>54</th>\n",
       "      <td>Bangladesh</td>\n",
       "      <td>Sri Lanka</td>\n",
       "      <td>Trinidad</td>\n",
       "      <td>none</td>\n",
       "      <td>7</td>\n",
       "      <td>3094</td>\n",
       "      <td>96</td>\n",
       "      <td>5</td>\n",
       "      <td>5811</td>\n",
       "      <td>106</td>\n",
       "      <td>5</td>\n",
       "      <td>Sri Lanka</td>\n",
       "      <td>2</td>\n",
       "      <td>1</td>\n",
       "    </tr>\n",
       "    <tr>\n",
       "      <th>55</th>\n",
       "      <td>Pakistan</td>\n",
       "      <td>Zimbabwe</td>\n",
       "      <td>Jamaica</td>\n",
       "      <td>none</td>\n",
       "      <td>9</td>\n",
       "      <td>3721</td>\n",
       "      <td>87</td>\n",
       "      <td>11</td>\n",
       "      <td>1250</td>\n",
       "      <td>45</td>\n",
       "      <td>9</td>\n",
       "      <td>Pakistan</td>\n",
       "      <td>1</td>\n",
       "      <td>1</td>\n",
       "    </tr>\n",
       "  </tbody>\n",
       "</table>\n",
       "</div>"
      ],
      "text/plain": [
       "          teamA         teamB      city home_ground_of  rankTeamA  \\\n",
       "50   Bangladesh         India  Trinidad           none          7   \n",
       "51      Ireland      Pakistan   Jamaica           none         10   \n",
       "52  West Indies      Zimbabwe   Jamaica    West Indies          8   \n",
       "53     Scotland  South Africa  St Kitts           none         14   \n",
       "54   Bangladesh     Sri Lanka  Trinidad           none          7   \n",
       "55     Pakistan      Zimbabwe   Jamaica           none          9   \n",
       "\n",
       "    pointsTeamA  RatingTeamA  rankTeamB  pointsTeamB  RatingTeamB  \\\n",
       "50         3094           96          2         5278          117   \n",
       "51          549           50          9         3721           87   \n",
       "52         2471           88         11         1250           45   \n",
       "53          200           25          4         5131          112   \n",
       "54         3094           96          5         5811          106   \n",
       "55         3721           87         11         1250           45   \n",
       "\n",
       "    winnerNumber    winnerName  winnerIsAorB_1or2  home_groundOfAorB_1or2  \n",
       "50             7    Bangladesh                  1                       1  \n",
       "51            10       Ireland                  1                       1  \n",
       "52             8   West Indies                  1                       1  \n",
       "53             4  South Africa                  2                       1  \n",
       "54             5     Sri Lanka                  2                       1  \n",
       "55             9      Pakistan                  1                       1  "
      ]
     },
     "execution_count": 44,
     "metadata": {},
     "output_type": "execute_result"
    }
   ],
   "source": [
    "results.ix[50:55]"
   ]
  },
  {
   "cell_type": "markdown",
   "metadata": {},
   "source": [
    "## Now let's programatically modify it to hold [0, 1 or 2], as described earlier"
   ]
  },
  {
   "cell_type": "code",
   "execution_count": 45,
   "metadata": {
    "collapsed": false,
    "scrolled": true
   },
   "outputs": [
    {
     "name": "stderr",
     "output_type": "stream",
     "text": [
      "C:\\Anaconda2\\lib\\site-packages\\ipykernel\\__main__.py:7: SettingWithCopyWarning: \n",
      "A value is trying to be set on a copy of a slice from a DataFrame\n",
      "\n",
      "See the caveats in the documentation: http://pandas.pydata.org/pandas-docs/stable/indexing.html#indexing-view-versus-copy\n",
      "C:\\Anaconda2\\lib\\site-packages\\ipykernel\\__main__.py:3: SettingWithCopyWarning: \n",
      "A value is trying to be set on a copy of a slice from a DataFrame\n",
      "\n",
      "See the caveats in the documentation: http://pandas.pydata.org/pandas-docs/stable/indexing.html#indexing-view-versus-copy\n",
      "  app.launch_new_instance()\n"
     ]
    }
   ],
   "source": [
    "for i in range(len(results[\"teamA\"].values)):\n",
    "    if results[\"home_ground_of\"][i] == results[\"teamA\"][i]:\n",
    "        results[\"home_groundOfAorB_1or2\"][i] = 1\n",
    "    elif results[\"home_ground_of\"][i] == results[\"teamB\"][i]:\n",
    "        results[\"home_groundOfAorB_1or2\"][i] = 2\n",
    "    else:\n",
    "        results[\"home_groundOfAorB_1or2\"][i] = 0   #To handle the case of Neutral Venue, this is another class. "
   ]
  },
  {
   "cell_type": "markdown",
   "metadata": {},
   "source": [
    "## Yes, it has been modified as desired, check below for evidence"
   ]
  },
  {
   "cell_type": "code",
   "execution_count": 152,
   "metadata": {
    "collapsed": false
   },
   "outputs": [
    {
     "data": {
      "text/html": [
       "<div>\n",
       "<table border=\"1\" class=\"dataframe\">\n",
       "  <thead>\n",
       "    <tr style=\"text-align: right;\">\n",
       "      <th></th>\n",
       "      <th>teamA</th>\n",
       "      <th>teamB</th>\n",
       "      <th>city</th>\n",
       "      <th>home_ground_of</th>\n",
       "      <th>rankTeamA</th>\n",
       "      <th>pointsTeamA</th>\n",
       "      <th>RatingTeamA</th>\n",
       "      <th>rankTeamB</th>\n",
       "      <th>pointsTeamB</th>\n",
       "      <th>RatingTeamB</th>\n",
       "      <th>winnerNumber</th>\n",
       "      <th>winnerName</th>\n",
       "      <th>winnerIsAorB_1or2</th>\n",
       "      <th>home_groundOfAorB_1or2</th>\n",
       "    </tr>\n",
       "  </thead>\n",
       "  <tbody>\n",
       "    <tr>\n",
       "      <th>795</th>\n",
       "      <td>Afghanistan</td>\n",
       "      <td>Pakistan</td>\n",
       "      <td>Fatullah</td>\n",
       "      <td>none</td>\n",
       "      <td>12</td>\n",
       "      <td>618</td>\n",
       "      <td>41</td>\n",
       "      <td>9</td>\n",
       "      <td>3721</td>\n",
       "      <td>87</td>\n",
       "      <td>9</td>\n",
       "      <td>Pakistan</td>\n",
       "      <td>2</td>\n",
       "      <td>0</td>\n",
       "    </tr>\n",
       "    <tr>\n",
       "      <th>796</th>\n",
       "      <td>India</td>\n",
       "      <td>Sri Lanka</td>\n",
       "      <td>Fatullah</td>\n",
       "      <td>none</td>\n",
       "      <td>2</td>\n",
       "      <td>5278</td>\n",
       "      <td>117</td>\n",
       "      <td>5</td>\n",
       "      <td>5811</td>\n",
       "      <td>106</td>\n",
       "      <td>5</td>\n",
       "      <td>Sri Lanka</td>\n",
       "      <td>2</td>\n",
       "      <td>0</td>\n",
       "    </tr>\n",
       "    <tr>\n",
       "      <th>797</th>\n",
       "      <td>West Indies</td>\n",
       "      <td>England</td>\n",
       "      <td>Antigua</td>\n",
       "      <td>West Indies</td>\n",
       "      <td>8</td>\n",
       "      <td>2471</td>\n",
       "      <td>88</td>\n",
       "      <td>6</td>\n",
       "      <td>3968</td>\n",
       "      <td>98</td>\n",
       "      <td>8</td>\n",
       "      <td>West Indies</td>\n",
       "      <td>1</td>\n",
       "      <td>1</td>\n",
       "    </tr>\n",
       "    <tr>\n",
       "      <th>798</th>\n",
       "      <td>Bangladesh</td>\n",
       "      <td>Afghanistan</td>\n",
       "      <td>Fatullah</td>\n",
       "      <td>Bangladesh</td>\n",
       "      <td>7</td>\n",
       "      <td>3094</td>\n",
       "      <td>96</td>\n",
       "      <td>12</td>\n",
       "      <td>618</td>\n",
       "      <td>41</td>\n",
       "      <td>12</td>\n",
       "      <td>Afghanistan</td>\n",
       "      <td>2</td>\n",
       "      <td>1</td>\n",
       "    </tr>\n",
       "    <tr>\n",
       "      <th>799</th>\n",
       "      <td>India</td>\n",
       "      <td>Pakistan</td>\n",
       "      <td>Mirpur</td>\n",
       "      <td>none</td>\n",
       "      <td>2</td>\n",
       "      <td>5278</td>\n",
       "      <td>117</td>\n",
       "      <td>9</td>\n",
       "      <td>3721</td>\n",
       "      <td>87</td>\n",
       "      <td>9</td>\n",
       "      <td>Pakistan</td>\n",
       "      <td>2</td>\n",
       "      <td>0</td>\n",
       "    </tr>\n",
       "    <tr>\n",
       "      <th>800</th>\n",
       "      <td>West Indies</td>\n",
       "      <td>England</td>\n",
       "      <td>Antigua</td>\n",
       "      <td>West Indies</td>\n",
       "      <td>8</td>\n",
       "      <td>2471</td>\n",
       "      <td>88</td>\n",
       "      <td>6</td>\n",
       "      <td>3968</td>\n",
       "      <td>98</td>\n",
       "      <td>6</td>\n",
       "      <td>England</td>\n",
       "      <td>2</td>\n",
       "      <td>1</td>\n",
       "    </tr>\n",
       "  </tbody>\n",
       "</table>\n",
       "</div>"
      ],
      "text/plain": [
       "           teamA        teamB      city home_ground_of  rankTeamA  \\\n",
       "795  Afghanistan     Pakistan  Fatullah           none         12   \n",
       "796        India    Sri Lanka  Fatullah           none          2   \n",
       "797  West Indies      England   Antigua    West Indies          8   \n",
       "798   Bangladesh  Afghanistan  Fatullah     Bangladesh          7   \n",
       "799        India     Pakistan    Mirpur           none          2   \n",
       "800  West Indies      England   Antigua    West Indies          8   \n",
       "\n",
       "     pointsTeamA  RatingTeamA  rankTeamB  pointsTeamB  RatingTeamB  \\\n",
       "795          618           41          9         3721           87   \n",
       "796         5278          117          5         5811          106   \n",
       "797         2471           88          6         3968           98   \n",
       "798         3094           96         12          618           41   \n",
       "799         5278          117          9         3721           87   \n",
       "800         2471           88          6         3968           98   \n",
       "\n",
       "     winnerNumber   winnerName  winnerIsAorB_1or2  home_groundOfAorB_1or2  \n",
       "795             9     Pakistan                  2                       0  \n",
       "796             5    Sri Lanka                  2                       0  \n",
       "797             8  West Indies                  1                       1  \n",
       "798            12  Afghanistan                  2                       1  \n",
       "799             9     Pakistan                  2                       0  \n",
       "800             6      England                  2                       1  "
      ]
     },
     "execution_count": 152,
     "metadata": {},
     "output_type": "execute_result"
    }
   ],
   "source": [
    "results.ix[795:800]  #Taking values from a random range."
   ]
  },
  {
   "cell_type": "markdown",
   "metadata": {},
   "source": [
    "### To my surprise, there is no entry as 2 for that column, I tested it. So either it is HG of teamA or Neutral Venue."
   ]
  },
  {
   "cell_type": "code",
   "execution_count": 47,
   "metadata": {
    "collapsed": true
   },
   "outputs": [],
   "source": [
    "for i in range(len(results[\"teamA\"].values)):\n",
    "    if results[\"home_groundOfAorB_1or2\"][i] == 2:\n",
    "        print \"Found\""
   ]
  },
  {
   "cell_type": "markdown",
   "metadata": {},
   "source": [
    "## Let's check the F1_Score by keeping features just HomeGround and just as Higher Rank and then will include more features\n",
    "- Also check the cross Validation Score"
   ]
  },
  {
   "cell_type": "code",
   "execution_count": 153,
   "metadata": {
    "collapsed": false,
    "scrolled": true
   },
   "outputs": [
    {
     "name": "stdout",
     "output_type": "stream",
     "text": [
      "F1 Score using just HomeGround as our feature: 0.3520\n",
      "F1 Score using just HigherRankIsWinner as our feature: 0.3333\n",
      "So we are choosing HigherRankIsWinner to construct our Baseline Model\n"
     ]
    }
   ],
   "source": [
    "from sklearn.metrics import f1_score\n",
    "features = results[\"home_groundOfAorB_1or2\"].tolist()  ##With assumption that team playing at the home ground wins always. But surprisingly that gives a lo score of 0.35. This is F1_Score though, cross_valscore is around 0.3906\n",
    "y_true = results[\"winnerIsAorB_1or2\"].values\n",
    "\n",
    "print(\"F1 Score using just HomeGround as our feature: {:.4f}\".format(f1_score(y_true, features, pos_label=None, average='weighted')))\n",
    "print(\"F1 Score using just HigherRankIsWinner as our feature: {:.4f}\".format(f1_score(y_true, winnerList, pos_label=None, average='weighted')))\n",
    "print \"So we are choosing HigherRankIsWinner to construct our Baseline Model\"\n"
   ]
  },
  {
   "cell_type": "markdown",
   "metadata": {},
   "source": [
    "# SPLIT it into Test/Training\n",
    "- Before we start with classification, let's split the data into Train(80%) and test(20%)\n",
    "- This need to be done carefully as we just don't simply want to take the first 80% matches. Why? Because what if Scotland just started playing and has not been recorded at all in those 80% matches.\n",
    "- So take each pairs (14c2) and ensure they have 80% of their data in train set and 20% in testing set.\n",
    "- Consider Aus Vs. India same as India Vs India."
   ]
  },
  {
   "cell_type": "code",
   "execution_count": 236,
   "metadata": {
    "collapsed": true
   },
   "outputs": [],
   "source": [
    "def getDictWithTeamPairs(results):\n",
    "    \n",
    "    dictTeamPairs = {}\n",
    "    teamA = results['teamA']\n",
    "    teamB = results['teamB']\n",
    "    combinedTeamAB = list(zip(teamA, teamB))\n",
    "    # combinedTeamAB\n",
    "\n",
    "    for teamPair in combinedTeamAB:\n",
    "        teamPairAsIs = teamPair[0] +\"__\"+ teamPair[1]   ## Need to consider India__Australia same as Australi__India\n",
    "        teamPairRev = teamPair[1] +\"__\"+ teamPair[0]\n",
    "\n",
    "        if teamPairAsIs not in dictTeamPairs and teamPairRev not in dictTeamPairs:\n",
    "            dictTeamPairs[teamPairAsIs] = 1\n",
    "        elif teamPairRev in dictTeamPairs:\n",
    "            dictTeamPairs[teamPairRev] = dictTeamPairs[teamPairRev]+1\n",
    "        else:\n",
    "            dictTeamPairs[teamPairAsIs] = dictTeamPairs[teamPairAsIs] +1\n",
    "\n",
    "    return dictTeamPairs\n",
    "\n"
   ]
  },
  {
   "cell_type": "markdown",
   "metadata": {},
   "source": [
    "## Deep Copy Saved me"
   ]
  },
  {
   "cell_type": "code",
   "execution_count": 235,
   "metadata": {
    "collapsed": true
   },
   "outputs": [],
   "source": [
    "#Make two dicts, one for Training, one for Testnig\n",
    "# dictTeamPairsTrain80 = dictTeamPairs  ## No this won't work, do deepcopy\n",
    "# dictTeamPairsTest20 = dictTeamPairs   ## No this won't work, do deepcopy\n",
    "def getTrainTestTeamPairDicts(dictTeamPairs):\n",
    "    \n",
    "    import copy\n",
    "    dictTeamPairsTrain80 = copy.deepcopy(dictTeamPairs)\n",
    "    dictTeamPairsTest20 = copy.deepcopy(dictTeamPairs)\n",
    "\n",
    "    ## Now programatically make the counts = 0 in each of these dicts\n",
    "    for key, vlaue in dictTeamPairs.items():\n",
    "        value = dictTeamPairs[key]\n",
    "        dictTeamPairsTrain80[key] = int(round(value * 0.8) )\n",
    "        dictTeamPairsTest20[key] = int(round(value * 0.2))\n",
    "        \n",
    "    return dictTeamPairsTrain80, dictTeamPairsTest20\n"
   ]
  },
  {
   "cell_type": "markdown",
   "metadata": {},
   "source": [
    "## Now I know how many of first Ind_Aus Matches to be kept in Training and the rest of them to be kept in training\n",
    "- Will Create teo dataframes after deepcopy and keep appending the lines to the respective dataframes."
   ]
  },
  {
   "cell_type": "code",
   "execution_count": 234,
   "metadata": {
    "collapsed": false,
    "scrolled": true
   },
   "outputs": [],
   "source": [
    "def splitIntoTrainingAndTesting(results):\n",
    "    dictTeamPairs = getDictWithTeamPairs(results)\n",
    "    dictTeamPairsTrain80, dictTeamPairsTest20 = getTrainTestTeamPairDicts(dictTeamPairs)\n",
    "    \n",
    "    ## Create Exact copy of the DataFrame\n",
    "    resultsTrain80 = results.copy(deep=True)\n",
    "    resultsTest20 = results.copy(deep=True)\n",
    "\n",
    "    ## Now Iterate over the resluts and keep comparing with the dict values, until the trainDict's value for teamA__teamB reaches 0, \n",
    "    ## keep putting 'delete' in teamA and teamB in resultsTest20.\n",
    "    ## The moment it reaches 0 in trainDict, see if it has already reached 0 in testDict. If yes, u will not even encounter that pair.\n",
    "    ## If trainDict has reached 0, but testDict is non zero then keep putting 'delete' in resultsTrain80.\n",
    "    # In the end, take both dataframes and delete all rows where teamA says 'delete'.\n",
    "    # check the count of both to verify\n",
    "\n",
    "    for i in range(len(results[\"teamA\"].values)):\n",
    "        teamPairAsIs = results[\"teamA\"][i] + \"__\" +  results[\"teamB\"][i]\n",
    "        teamPairRev = results[\"teamB\"][i] + \"__\" +  results[\"teamA\"][i]\n",
    "\n",
    "        if teamPairAsIs in dictTeamPairs:\n",
    "            teamPairToDelete = teamPairAsIs\n",
    "        else:\n",
    "            teamPairToDelete = teamPairRev\n",
    "\n",
    "        if dictTeamPairsTrain80[teamPairToDelete] > 0:\n",
    "            dictTeamPairsTrain80[teamPairToDelete] = dictTeamPairsTrain80[teamPairToDelete] - 1\n",
    "            #Put delete in test wale ke teamA me\n",
    "            resultsTest20[\"teamA\"][i] = \"delete\"\n",
    "        elif dictTeamPairsTrain80[teamPairToDelete] == 0 and dictTeamPairsTest20[teamPairToDelete] > 0:\n",
    "            dictTeamPairsTest20[teamPairToDelete] = dictTeamPairsTest20[teamPairToDelete] -1\n",
    "            #Put delete in train wale ke team a me\n",
    "            resultsTrain80[\"teamA\"][i] = \"delete\"\n",
    "\n",
    "    print 'loop ended successfully'\n",
    "\n",
    "    resultsTrainFinal = resultsTrain80[resultsTrain80.teamA != 'delete']\n",
    "    resultsTestFinal = resultsTest20[resultsTest20.teamA != 'delete']\n",
    "    print \"length of training\", len(resultsTrainFinal)\n",
    "    print \"length of testing\", len(resultsTestFinal)\n",
    "    \n",
    "    return resultsTrainFinal, resultsTestFinal"
   ]
  },
  {
   "cell_type": "markdown",
   "metadata": {},
   "source": [
    "## Calling the splitting Data Method"
   ]
  },
  {
   "cell_type": "code",
   "execution_count": 237,
   "metadata": {
    "collapsed": false,
    "scrolled": true
   },
   "outputs": [
    {
     "name": "stderr",
     "output_type": "stream",
     "text": [
      "C:\\Anaconda2\\lib\\site-packages\\ipykernel\\__main__.py:28: SettingWithCopyWarning: \n",
      "A value is trying to be set on a copy of a slice from a DataFrame\n",
      "\n",
      "See the caveats in the documentation: http://pandas.pydata.org/pandas-docs/stable/indexing.html#indexing-view-versus-copy\n",
      "C:\\Anaconda2\\lib\\site-packages\\ipykernel\\__main__.py:32: SettingWithCopyWarning: \n",
      "A value is trying to be set on a copy of a slice from a DataFrame\n",
      "\n",
      "See the caveats in the documentation: http://pandas.pydata.org/pandas-docs/stable/indexing.html#indexing-view-versus-copy\n"
     ]
    },
    {
     "name": "stdout",
     "output_type": "stream",
     "text": [
      "loop ended successfully\n",
      "length of training 807\n",
      "length of testing 198\n"
     ]
    }
   ],
   "source": [
    "## Kept everything in methods, check if this works?\n",
    "resultsTrainFinal, resultsTestFinal = splitIntoTrainingAndTesting(results)"
   ]
  },
  {
   "cell_type": "markdown",
   "metadata": {},
   "source": [
    "# Awesome Awesome Awesome - What a split man!!!!\n",
    "- Now your training dataFrame is resultsTrainFinal\n",
    "- Testing Dataframe is resultsTestFinal\n",
    "\n",
    "# Splitting Ends Here \n"
   ]
  },
  {
   "cell_type": "markdown",
   "metadata": {},
   "source": [
    "## This gives us a very low F1 Score, lets determine cross_val_score\n",
    "- Feature 1 --> Home_ground_Information (Cross Val Score = 0.3906)\n",
    "- Feature 2 --> Ranking of team A only (Cross Val Score = 0.5370)\n",
    "- Feature 3 --> Ranking of team B only (Cross Val Score = 0.5659)\n",
    "- Feature 4 --> Two featutes, rank of Team A and of team B (Cross Val Score = 0.5601)  Reduces after including Team A ranking\n",
    "- Feature 5 --> Home Ground info and Rank of team A (Score = 0.5352)\n",
    "- Feature 6 --> Home Ground info and Rank of team B (Score = 0.5529) \n",
    "- Feature 7 --> Home Ground info and Rank of team A and of B (Score = 0.5497)\n",
    "\n",
    "- So Better do not include ranking of team A"
   ]
  },
  {
   "cell_type": "markdown",
   "metadata": {},
   "source": [
    "# Prediction\n",
    "## Features = Ranks of both teams + HomeGroundOfWhichTeam\n",
    "## Classifier = Decision Tree Classifier"
   ]
  },
  {
   "cell_type": "code",
   "execution_count": 154,
   "metadata": {
    "collapsed": true
   },
   "outputs": [],
   "source": [
    "from sklearn.tree import DecisionTreeClassifier\n",
    "clf = DecisionTreeClassifier(random_state=14)"
   ]
  },
  {
   "cell_type": "code",
   "execution_count": 378,
   "metadata": {
    "collapsed": false,
    "scrolled": true
   },
   "outputs": [
    {
     "name": "stdout",
     "output_type": "stream",
     "text": [
      "Here is the cross val score for above sets of features\n",
      "F1: 0.5043\n"
     ]
    }
   ],
   "source": [
    "from sklearn.cross_validation import cross_val_score\n",
    "\n",
    "# features = resultsTrainFinal[[\"rankTeamB\", \"rankTeamA\"]].values #This is fine\n",
    "# features = results[[\"rankTeamA\", \"rankTeamB\"]].values #This is fine, and same as above\n",
    "# features = results[[\"home_groundOfAorB_1or2\"]].values #This just takes the home ground as the feature\n",
    "# features = resultsTrainFinal[[\"rankTeamA\", \"rankTeamB\",\"home_groundOfAorB_1or2\"]].values #Takes all three features. Note I am going to introduce more features. This is a baseline model\n",
    "y_true = resultsTrainFinal[[\"winnerIsAorB_1or2\"][0]].values\n",
    "y_true_test = resultsTestFinal[[\"winnerIsAorB_1or2\"][0]].values\n",
    "# print features type is ndarray, but to list is also fine\n",
    "# print type(y_true) is nd array\n",
    "clf = DecisionTreeClassifier(random_state=14)\n",
    "\n",
    "scores = cross_val_score(clf, features, y_true)\n",
    "print \"Here is the cross val score for above sets of features\"\n",
    "print \"F1: {0:.4f}\".format(np.mean(scores))\n",
    "\n",
    "# print y_true"
   ]
  },
  {
   "cell_type": "code",
   "execution_count": 212,
   "metadata": {
    "collapsed": false,
    "scrolled": true
   },
   "outputs": [
    {
     "data": {
      "text/plain": [
       "DecisionTreeClassifier(class_weight=None, criterion='gini', max_depth=None,\n",
       "            max_features=None, max_leaf_nodes=None, min_samples_leaf=1,\n",
       "            min_samples_split=2, min_weight_fraction_leaf=0.0,\n",
       "            random_state=14, splitter='best')"
      ]
     },
     "execution_count": 212,
     "metadata": {},
     "output_type": "execute_result"
    }
   ],
   "source": [
    "clf.fit(features, y_true)"
   ]
  },
  {
   "cell_type": "code",
   "execution_count": 213,
   "metadata": {
    "collapsed": false
   },
   "outputs": [
    {
     "name": "stdout",
     "output_type": "stream",
     "text": [
      "Accuracy on test data using Decision Tree Classifier with ranks of teams and homeground as features =  0.575757575758\n"
     ]
    }
   ],
   "source": [
    "featureVector = resultsTestFinal[[\"rankTeamA\", \"rankTeamB\",\"home_groundOfAorB_1or2\"]].values\n",
    "predictedVector = resultsTestFinal[[\"winnerIsAorB_1or2\"][0]].values\n",
    "# print featureVector[1]\n",
    "# print predictedVector\n",
    "\n",
    "correctlyPredicted = 0 \n",
    "for i in range(len(resultsTestFinal[\"teamA\"].values)):\n",
    "    input = featureVector[i]\n",
    "    if clf.predict(input)[0] == predictedVector[i]:\n",
    "        correctlyPredicted = correctlyPredicted +1\n",
    "#     print clf.predict(input)[0], predictedVector[i]\n",
    "\n",
    "accuracy_on_testData =  correctlyPredicted/float(len(resultsTestFinal[\"teamA\"].values))\n",
    "print \"Accuracy on test data using Decision Tree Classifier with ranks of teams and homeground as features = \", accuracy_on_testData \n",
    "\n",
    "    "
   ]
  },
  {
   "cell_type": "markdown",
   "metadata": {},
   "source": [
    "# Let's try to predict the test accuracy by predicting the results for this test data"
   ]
  },
  {
   "cell_type": "markdown",
   "metadata": {},
   "source": [
    "## The predicted results above are biased more towards which team is ranked higher. \n",
    "- It almost ignores the HomeGround win feature. And to me it makes sense as well. \n",
    "- This is because when we have only two features namely rank of Team A and of team B (Cross Val Score = 0.5601) where as if we add homeground wins as the third feature, it reduces the overall score to (Score = 0.5497)"
   ]
  },
  {
   "cell_type": "markdown",
   "metadata": {},
   "source": [
    "## Let Add more features, \"teamALastWin\" and \"teamBLastWin\" (True/False)"
   ]
  },
  {
   "cell_type": "code",
   "execution_count": 215,
   "metadata": {
    "collapsed": true
   },
   "outputs": [],
   "source": [
    "# Execute this only once in order to add this feature, then modify it programatically.\n",
    "results[\"teamALastWin\"] = True\n",
    "results[\"teamBLastWin\"] = True"
   ]
  },
  {
   "cell_type": "code",
   "execution_count": 216,
   "metadata": {
    "collapsed": false,
    "scrolled": true
   },
   "outputs": [
    {
     "data": {
      "text/html": [
       "<div>\n",
       "<table border=\"1\" class=\"dataframe\">\n",
       "  <thead>\n",
       "    <tr style=\"text-align: right;\">\n",
       "      <th></th>\n",
       "      <th>teamA</th>\n",
       "      <th>teamB</th>\n",
       "      <th>city</th>\n",
       "      <th>home_ground_of</th>\n",
       "      <th>rankTeamA</th>\n",
       "      <th>pointsTeamA</th>\n",
       "      <th>RatingTeamA</th>\n",
       "      <th>rankTeamB</th>\n",
       "      <th>pointsTeamB</th>\n",
       "      <th>RatingTeamB</th>\n",
       "      <th>winnerNumber</th>\n",
       "      <th>winnerName</th>\n",
       "      <th>winnerIsAorB_1or2</th>\n",
       "      <th>home_groundOfAorB_1or2</th>\n",
       "      <th>teamALastWin</th>\n",
       "      <th>teamBLastWin</th>\n",
       "    </tr>\n",
       "  </thead>\n",
       "  <tbody>\n",
       "    <tr>\n",
       "      <th>795</th>\n",
       "      <td>Afghanistan</td>\n",
       "      <td>Pakistan</td>\n",
       "      <td>Fatullah</td>\n",
       "      <td>none</td>\n",
       "      <td>12</td>\n",
       "      <td>618</td>\n",
       "      <td>41</td>\n",
       "      <td>9</td>\n",
       "      <td>3721</td>\n",
       "      <td>87</td>\n",
       "      <td>9</td>\n",
       "      <td>Pakistan</td>\n",
       "      <td>2</td>\n",
       "      <td>0</td>\n",
       "      <td>True</td>\n",
       "      <td>True</td>\n",
       "    </tr>\n",
       "    <tr>\n",
       "      <th>796</th>\n",
       "      <td>India</td>\n",
       "      <td>Sri Lanka</td>\n",
       "      <td>Fatullah</td>\n",
       "      <td>none</td>\n",
       "      <td>2</td>\n",
       "      <td>5278</td>\n",
       "      <td>117</td>\n",
       "      <td>5</td>\n",
       "      <td>5811</td>\n",
       "      <td>106</td>\n",
       "      <td>5</td>\n",
       "      <td>Sri Lanka</td>\n",
       "      <td>2</td>\n",
       "      <td>0</td>\n",
       "      <td>True</td>\n",
       "      <td>True</td>\n",
       "    </tr>\n",
       "    <tr>\n",
       "      <th>797</th>\n",
       "      <td>West Indies</td>\n",
       "      <td>England</td>\n",
       "      <td>Antigua</td>\n",
       "      <td>West Indies</td>\n",
       "      <td>8</td>\n",
       "      <td>2471</td>\n",
       "      <td>88</td>\n",
       "      <td>6</td>\n",
       "      <td>3968</td>\n",
       "      <td>98</td>\n",
       "      <td>8</td>\n",
       "      <td>West Indies</td>\n",
       "      <td>1</td>\n",
       "      <td>1</td>\n",
       "      <td>True</td>\n",
       "      <td>True</td>\n",
       "    </tr>\n",
       "    <tr>\n",
       "      <th>798</th>\n",
       "      <td>Bangladesh</td>\n",
       "      <td>Afghanistan</td>\n",
       "      <td>Fatullah</td>\n",
       "      <td>Bangladesh</td>\n",
       "      <td>7</td>\n",
       "      <td>3094</td>\n",
       "      <td>96</td>\n",
       "      <td>12</td>\n",
       "      <td>618</td>\n",
       "      <td>41</td>\n",
       "      <td>12</td>\n",
       "      <td>Afghanistan</td>\n",
       "      <td>2</td>\n",
       "      <td>1</td>\n",
       "      <td>True</td>\n",
       "      <td>True</td>\n",
       "    </tr>\n",
       "    <tr>\n",
       "      <th>799</th>\n",
       "      <td>India</td>\n",
       "      <td>Pakistan</td>\n",
       "      <td>Mirpur</td>\n",
       "      <td>none</td>\n",
       "      <td>2</td>\n",
       "      <td>5278</td>\n",
       "      <td>117</td>\n",
       "      <td>9</td>\n",
       "      <td>3721</td>\n",
       "      <td>87</td>\n",
       "      <td>9</td>\n",
       "      <td>Pakistan</td>\n",
       "      <td>2</td>\n",
       "      <td>0</td>\n",
       "      <td>True</td>\n",
       "      <td>True</td>\n",
       "    </tr>\n",
       "    <tr>\n",
       "      <th>800</th>\n",
       "      <td>West Indies</td>\n",
       "      <td>England</td>\n",
       "      <td>Antigua</td>\n",
       "      <td>West Indies</td>\n",
       "      <td>8</td>\n",
       "      <td>2471</td>\n",
       "      <td>88</td>\n",
       "      <td>6</td>\n",
       "      <td>3968</td>\n",
       "      <td>98</td>\n",
       "      <td>6</td>\n",
       "      <td>England</td>\n",
       "      <td>2</td>\n",
       "      <td>1</td>\n",
       "      <td>True</td>\n",
       "      <td>True</td>\n",
       "    </tr>\n",
       "  </tbody>\n",
       "</table>\n",
       "</div>"
      ],
      "text/plain": [
       "           teamA        teamB      city home_ground_of  rankTeamA  \\\n",
       "795  Afghanistan     Pakistan  Fatullah           none         12   \n",
       "796        India    Sri Lanka  Fatullah           none          2   \n",
       "797  West Indies      England   Antigua    West Indies          8   \n",
       "798   Bangladesh  Afghanistan  Fatullah     Bangladesh          7   \n",
       "799        India     Pakistan    Mirpur           none          2   \n",
       "800  West Indies      England   Antigua    West Indies          8   \n",
       "\n",
       "     pointsTeamA  RatingTeamA  rankTeamB  pointsTeamB  RatingTeamB  \\\n",
       "795          618           41          9         3721           87   \n",
       "796         5278          117          5         5811          106   \n",
       "797         2471           88          6         3968           98   \n",
       "798         3094           96         12          618           41   \n",
       "799         5278          117          9         3721           87   \n",
       "800         2471           88          6         3968           98   \n",
       "\n",
       "     winnerNumber   winnerName  winnerIsAorB_1or2  home_groundOfAorB_1or2  \\\n",
       "795             9     Pakistan                  2                       0   \n",
       "796             5    Sri Lanka                  2                       0   \n",
       "797             8  West Indies                  1                       1   \n",
       "798            12  Afghanistan                  2                       1   \n",
       "799             9     Pakistan                  2                       0   \n",
       "800             6      England                  2                       1   \n",
       "\n",
       "    teamALastWin teamBLastWin  \n",
       "795         True         True  \n",
       "796         True         True  \n",
       "797         True         True  \n",
       "798         True         True  \n",
       "799         True         True  \n",
       "800         True         True  "
      ]
     },
     "execution_count": 216,
     "metadata": {},
     "output_type": "execute_result"
    }
   ],
   "source": [
    "results.ix[795:800]  #Taking values from a random range."
   ]
  },
  {
   "cell_type": "code",
   "execution_count": 217,
   "metadata": {
    "collapsed": false
   },
   "outputs": [
    {
     "name": "stdout",
     "output_type": "stream",
     "text": [
      "{'Pakistan': False, 'Australia': False, 'England': False, 'Bangladesh': False, 'South Africa': False, 'Afghanistan': False, 'Scotland': False, 'India': False, 'Sri Lanka': False, 'Zimbabwe': False, 'Ireland': False, 'United Arab Emirates': False, 'West Indies': False, 'New Zealand': False}\n"
     ]
    }
   ],
   "source": [
    "#Now let's programatically modify two newly added features A) teamALastWin B) teamBLastWin.\n",
    "#If they won their last match irrespective of who they played it against, then the value corresponding to that row will be true for that team, else false\n",
    "dictTeams={}\n",
    "distinctTeams = results[\"teamA\"].unique()\n",
    "\n",
    "## Add them to dictionary dictTeams and Initialize everyteam with False-\n",
    "for i in range(len(distinctTeams)):\n",
    "    dictTeams[distinctTeams[i]] = False\n",
    "\n",
    "print dictTeams"
   ]
  },
  {
   "cell_type": "markdown",
   "metadata": {},
   "source": [
    "### So far, we have added all teams in dictTeams and initialized their last wins to be False\n",
    "#### Now Let's modify the column with their actual last win after determining this from the data"
   ]
  },
  {
   "cell_type": "code",
   "execution_count": 238,
   "metadata": {
    "collapsed": false
   },
   "outputs": [
    {
     "name": "stderr",
     "output_type": "stream",
     "text": [
      "C:\\Anaconda2\\lib\\site-packages\\ipykernel\\__main__.py:6: SettingWithCopyWarning: \n",
      "A value is trying to be set on a copy of a slice from a DataFrame\n",
      "\n",
      "See the caveats in the documentation: http://pandas.pydata.org/pandas-docs/stable/indexing.html#indexing-view-versus-copy\n",
      "C:\\Anaconda2\\lib\\site-packages\\ipykernel\\__main__.py:7: SettingWithCopyWarning: \n",
      "A value is trying to be set on a copy of a slice from a DataFrame\n",
      "\n",
      "See the caveats in the documentation: http://pandas.pydata.org/pandas-docs/stable/indexing.html#indexing-view-versus-copy\n"
     ]
    }
   ],
   "source": [
    "for i in range(len(results[\"teamA\"].values)):\n",
    "    teamA = results[\"teamA\"][i]\n",
    "    teamB = results[\"teamB\"][i]\n",
    "    winner = results[\"winnerName\"][i]\n",
    "    \n",
    "    results[\"teamALastWin\"][i] = dictTeams[teamA]\n",
    "    results[\"teamBLastWin\"][i] = dictTeams[teamB]\n",
    "    \n",
    "    \n",
    "    # Update dict with current match to hold the latest wins of teamA and teamB\n",
    "    if winner == teamA:\n",
    "        dictTeams[teamA] = True\n",
    "        dictTeams[teamB] = False\n",
    "    elif winner == teamB:\n",
    "        dictTeams[teamA] = False\n",
    "        dictTeams[teamB] = True\n",
    "        #else, the match has been drawn with winner = no result, so need not to update the dict in this case."
   ]
  },
  {
   "cell_type": "markdown",
   "metadata": {},
   "source": [
    "## Added a new feature? U will have to split the dataset again to obtain latest Training and Testing Dataset."
   ]
  },
  {
   "cell_type": "code",
   "execution_count": 239,
   "metadata": {
    "collapsed": false
   },
   "outputs": [
    {
     "name": "stderr",
     "output_type": "stream",
     "text": [
      "C:\\Anaconda2\\lib\\site-packages\\ipykernel\\__main__.py:28: SettingWithCopyWarning: \n",
      "A value is trying to be set on a copy of a slice from a DataFrame\n",
      "\n",
      "See the caveats in the documentation: http://pandas.pydata.org/pandas-docs/stable/indexing.html#indexing-view-versus-copy\n",
      "C:\\Anaconda2\\lib\\site-packages\\ipykernel\\__main__.py:32: SettingWithCopyWarning: \n",
      "A value is trying to be set on a copy of a slice from a DataFrame\n",
      "\n",
      "See the caveats in the documentation: http://pandas.pydata.org/pandas-docs/stable/indexing.html#indexing-view-versus-copy\n"
     ]
    },
    {
     "name": "stdout",
     "output_type": "stream",
     "text": [
      "loop ended successfully\n",
      "length of training 807\n",
      "length of testing 198\n"
     ]
    }
   ],
   "source": [
    "resultsTrainFinal, resultsTestFinal = splitIntoTrainingAndTesting(results)"
   ]
  },
  {
   "cell_type": "markdown",
   "metadata": {},
   "source": [
    "### Yes, it has been modified and it looks perfectly fine, I have verified, check below for evidence"
   ]
  },
  {
   "cell_type": "code",
   "execution_count": 251,
   "metadata": {
    "collapsed": false
   },
   "outputs": [
    {
     "data": {
      "text/html": [
       "<div>\n",
       "<table border=\"1\" class=\"dataframe\">\n",
       "  <thead>\n",
       "    <tr style=\"text-align: right;\">\n",
       "      <th></th>\n",
       "      <th>teamA</th>\n",
       "      <th>teamB</th>\n",
       "      <th>city</th>\n",
       "      <th>home_ground_of</th>\n",
       "      <th>rankTeamA</th>\n",
       "      <th>pointsTeamA</th>\n",
       "      <th>RatingTeamA</th>\n",
       "      <th>rankTeamB</th>\n",
       "      <th>pointsTeamB</th>\n",
       "      <th>RatingTeamB</th>\n",
       "      <th>winnerNumber</th>\n",
       "      <th>winnerName</th>\n",
       "      <th>winnerIsAorB_1or2</th>\n",
       "      <th>home_groundOfAorB_1or2</th>\n",
       "      <th>teamALastWin</th>\n",
       "      <th>teamBLastWin</th>\n",
       "    </tr>\n",
       "  </thead>\n",
       "  <tbody>\n",
       "    <tr>\n",
       "      <th>384</th>\n",
       "      <td>New Zealand</td>\n",
       "      <td>Australia</td>\n",
       "      <td>Wellington</td>\n",
       "      <td>New Zealand</td>\n",
       "      <td>3</td>\n",
       "      <td>4284</td>\n",
       "      <td>116</td>\n",
       "      <td>1</td>\n",
       "      <td>4889</td>\n",
       "      <td>129</td>\n",
       "      <td>3</td>\n",
       "      <td>New Zealand</td>\n",
       "      <td>1</td>\n",
       "      <td>1</td>\n",
       "      <td>False</td>\n",
       "      <td>True</td>\n",
       "    </tr>\n",
       "    <tr>\n",
       "      <th>657</th>\n",
       "      <td>India</td>\n",
       "      <td>Pakistan</td>\n",
       "      <td>Delhi</td>\n",
       "      <td>India</td>\n",
       "      <td>2</td>\n",
       "      <td>5278</td>\n",
       "      <td>117</td>\n",
       "      <td>9</td>\n",
       "      <td>3721</td>\n",
       "      <td>87</td>\n",
       "      <td>2</td>\n",
       "      <td>India</td>\n",
       "      <td>1</td>\n",
       "      <td>1</td>\n",
       "      <td>False</td>\n",
       "      <td>True</td>\n",
       "    </tr>\n",
       "    <tr>\n",
       "      <th>671</th>\n",
       "      <td>Australia</td>\n",
       "      <td>West Indies</td>\n",
       "      <td>Perth</td>\n",
       "      <td>Australia</td>\n",
       "      <td>1</td>\n",
       "      <td>4889</td>\n",
       "      <td>129</td>\n",
       "      <td>8</td>\n",
       "      <td>2471</td>\n",
       "      <td>88</td>\n",
       "      <td>1</td>\n",
       "      <td>Australia</td>\n",
       "      <td>1</td>\n",
       "      <td>1</td>\n",
       "      <td>True</td>\n",
       "      <td>False</td>\n",
       "    </tr>\n",
       "    <tr>\n",
       "      <th>672</th>\n",
       "      <td>Australia</td>\n",
       "      <td>West Indies</td>\n",
       "      <td>Perth</td>\n",
       "      <td>Australia</td>\n",
       "      <td>1</td>\n",
       "      <td>4889</td>\n",
       "      <td>129</td>\n",
       "      <td>8</td>\n",
       "      <td>2471</td>\n",
       "      <td>88</td>\n",
       "      <td>1</td>\n",
       "      <td>Australia</td>\n",
       "      <td>1</td>\n",
       "      <td>1</td>\n",
       "      <td>True</td>\n",
       "      <td>False</td>\n",
       "    </tr>\n",
       "    <tr>\n",
       "      <th>...</th>\n",
       "      <td>...</td>\n",
       "      <td>...</td>\n",
       "      <td>...</td>\n",
       "      <td>...</td>\n",
       "      <td>...</td>\n",
       "      <td>...</td>\n",
       "      <td>...</td>\n",
       "      <td>...</td>\n",
       "      <td>...</td>\n",
       "      <td>...</td>\n",
       "      <td>...</td>\n",
       "      <td>...</td>\n",
       "      <td>...</td>\n",
       "      <td>...</td>\n",
       "      <td>...</td>\n",
       "      <td>...</td>\n",
       "    </tr>\n",
       "    <tr>\n",
       "      <th>997</th>\n",
       "      <td>Zimbabwe</td>\n",
       "      <td>Pakistan</td>\n",
       "      <td>NaN</td>\n",
       "      <td>Zimbabwe</td>\n",
       "      <td>11</td>\n",
       "      <td>1250</td>\n",
       "      <td>45</td>\n",
       "      <td>9</td>\n",
       "      <td>3721</td>\n",
       "      <td>87</td>\n",
       "      <td>11</td>\n",
       "      <td>Zimbabwe</td>\n",
       "      <td>1</td>\n",
       "      <td>1</td>\n",
       "      <td>False</td>\n",
       "      <td>True</td>\n",
       "    </tr>\n",
       "    <tr>\n",
       "      <th>998</th>\n",
       "      <td>Zimbabwe</td>\n",
       "      <td>Pakistan</td>\n",
       "      <td>NaN</td>\n",
       "      <td>Zimbabwe</td>\n",
       "      <td>11</td>\n",
       "      <td>1250</td>\n",
       "      <td>45</td>\n",
       "      <td>9</td>\n",
       "      <td>3721</td>\n",
       "      <td>87</td>\n",
       "      <td>9</td>\n",
       "      <td>Pakistan</td>\n",
       "      <td>2</td>\n",
       "      <td>1</td>\n",
       "      <td>True</td>\n",
       "      <td>False</td>\n",
       "    </tr>\n",
       "    <tr>\n",
       "      <th>1000</th>\n",
       "      <td>India</td>\n",
       "      <td>South Africa</td>\n",
       "      <td>Kanpur</td>\n",
       "      <td>India</td>\n",
       "      <td>2</td>\n",
       "      <td>5278</td>\n",
       "      <td>117</td>\n",
       "      <td>4</td>\n",
       "      <td>5131</td>\n",
       "      <td>112</td>\n",
       "      <td>4</td>\n",
       "      <td>South Africa</td>\n",
       "      <td>2</td>\n",
       "      <td>1</td>\n",
       "      <td>True</td>\n",
       "      <td>True</td>\n",
       "    </tr>\n",
       "    <tr>\n",
       "      <th>1002</th>\n",
       "      <td>Zimbabwe</td>\n",
       "      <td>Ireland</td>\n",
       "      <td>NaN</td>\n",
       "      <td>Zimbabwe</td>\n",
       "      <td>11</td>\n",
       "      <td>1250</td>\n",
       "      <td>45</td>\n",
       "      <td>10</td>\n",
       "      <td>549</td>\n",
       "      <td>50</td>\n",
       "      <td>10</td>\n",
       "      <td>Ireland</td>\n",
       "      <td>2</td>\n",
       "      <td>1</td>\n",
       "      <td>True</td>\n",
       "      <td>False</td>\n",
       "    </tr>\n",
       "    <tr>\n",
       "      <th>1003</th>\n",
       "      <td>India</td>\n",
       "      <td>South Africa</td>\n",
       "      <td>Indore</td>\n",
       "      <td>India</td>\n",
       "      <td>2</td>\n",
       "      <td>5278</td>\n",
       "      <td>117</td>\n",
       "      <td>4</td>\n",
       "      <td>5131</td>\n",
       "      <td>112</td>\n",
       "      <td>2</td>\n",
       "      <td>India</td>\n",
       "      <td>1</td>\n",
       "      <td>1</td>\n",
       "      <td>False</td>\n",
       "      <td>True</td>\n",
       "    </tr>\n",
       "    <tr>\n",
       "      <th>1004</th>\n",
       "      <td>Zimbabwe</td>\n",
       "      <td>Afghanistan</td>\n",
       "      <td>Bulawayo</td>\n",
       "      <td>Zimbabwe</td>\n",
       "      <td>11</td>\n",
       "      <td>1250</td>\n",
       "      <td>45</td>\n",
       "      <td>12</td>\n",
       "      <td>618</td>\n",
       "      <td>41</td>\n",
       "      <td>11</td>\n",
       "      <td>Zimbabwe</td>\n",
       "      <td>1</td>\n",
       "      <td>1</td>\n",
       "      <td>False</td>\n",
       "      <td>False</td>\n",
       "    </tr>\n",
       "  </tbody>\n",
       "</table>\n",
       "<p>198 rows × 16 columns</p>\n",
       "</div>"
      ],
      "text/plain": [
       "             teamA         teamB               city home_ground_of  rankTeamA  \\\n",
       "384    New Zealand     Australia         Wellington    New Zealand          3   \n",
       "397       Zimbabwe     Sri Lanka                NaN       Zimbabwe         11   \n",
       "478      Australia   New Zealand             Nagpur           none          1   \n",
       "479     Bangladesh       Ireland             Mirpur     Bangladesh          7   \n",
       "489      Sri Lanka      Zimbabwe                NaN      Sri Lanka          5   \n",
       "490     Bangladesh       England         Chittagong     Bangladesh          7   \n",
       "509     Bangladesh     Australia             Mirpur     Bangladesh          7   \n",
       "588        England      Pakistan                NaN           none          6   \n",
       "590        England      Pakistan                NaN           none          6   \n",
       "635      Sri Lanka         India            Colombo      Sri Lanka          5   \n",
       "636      Sri Lanka         India                NaN      Sri Lanka          5   \n",
       "643        England  South Africa             London        England          6   \n",
       "645        England  South Africa         Nottingham        England          6   \n",
       "657          India      Pakistan              Delhi          India          2   \n",
       "660      Australia     Sri Lanka                NaN      Australia          1   \n",
       "662      Australia     Sri Lanka           Brisbane      Australia          1   \n",
       "665      Australia     Sri Lanka                NaN      Australia          1   \n",
       "667      Australia     Sri Lanka             Hobart      Australia          1   \n",
       "671      Australia   West Indies              Perth      Australia          1   \n",
       "672      Australia   West Indies              Perth      Australia          1   \n",
       "673      Australia   West Indies           Canberra      Australia          1   \n",
       "674      Australia   West Indies                NaN      Australia          1   \n",
       "675      Australia   West Indies                NaN      Australia          1   \n",
       "680    West Indies      Zimbabwe            Grenada    West Indies          8   \n",
       "690       Zimbabwe    Bangladesh           Bulawayo       Zimbabwe         11   \n",
       "691       Zimbabwe    Bangladesh           Bulawayo       Zimbabwe         11   \n",
       "704      Australia   New Zealand         Birmingham           none          1   \n",
       "707          India      Pakistan         Birmingham           none          2   \n",
       "709      Australia     Sri Lanka             London           none          1   \n",
       "710        England  South Africa             London        England          6   \n",
       "...            ...           ...                ...            ...        ...   \n",
       "970        England   New Zealand  Chester-le-Street        England          6   \n",
       "971     Bangladesh         India             Mirpur     Bangladesh          7   \n",
       "972     Bangladesh         India             Mirpur     Bangladesh          7   \n",
       "975      Sri Lanka      Pakistan                NaN      Sri Lanka          5   \n",
       "976     Bangladesh  South Africa             Mirpur     Bangladesh          7   \n",
       "977       Zimbabwe         India                NaN       Zimbabwe         11   \n",
       "978       Zimbabwe         India                NaN       Zimbabwe         11   \n",
       "979     Bangladesh  South Africa         Chittagong     Bangladesh          7   \n",
       "980      Sri Lanka      Pakistan                NaN      Sri Lanka          5   \n",
       "981      Sri Lanka      Pakistan            Colombo      Sri Lanka          5   \n",
       "982      Sri Lanka      Pakistan            Colombo      Sri Lanka          5   \n",
       "983      Sri Lanka      Pakistan         Hambantota      Sri Lanka          5   \n",
       "985       Zimbabwe   New Zealand                NaN       Zimbabwe         11   \n",
       "986       Zimbabwe   New Zealand                NaN       Zimbabwe         11   \n",
       "987   South Africa   New Zealand          Centurion   South Africa          4   \n",
       "988   South Africa   New Zealand      Potchefstroom   South Africa          4   \n",
       "989   South Africa   New Zealand             Durban   South Africa          4   \n",
       "990        Ireland     Australia            Belfast        Ireland         10   \n",
       "991        England     Australia        Southampton        England          6   \n",
       "992        England     Australia             London        England          6   \n",
       "993        England     Australia         Manchester        England          6   \n",
       "994        England     Australia              Leeds        England          6   \n",
       "995        England     Australia         Manchester        England          6   \n",
       "996       Zimbabwe      Pakistan                NaN       Zimbabwe         11   \n",
       "997       Zimbabwe      Pakistan                NaN       Zimbabwe         11   \n",
       "998       Zimbabwe      Pakistan                NaN       Zimbabwe         11   \n",
       "1000         India  South Africa             Kanpur          India          2   \n",
       "1002      Zimbabwe       Ireland                NaN       Zimbabwe         11   \n",
       "1003         India  South Africa             Indore          India          2   \n",
       "1004      Zimbabwe   Afghanistan           Bulawayo       Zimbabwe         11   \n",
       "\n",
       "      pointsTeamA  RatingTeamA  rankTeamB  pointsTeamB  RatingTeamB  \\\n",
       "384          4284          116          1         4889          129   \n",
       "397          1250           45          5         5811          106   \n",
       "478          4889          129          3         4284          116   \n",
       "479          3094           96         10          549           50   \n",
       "489          5811          106         11         1250           45   \n",
       "490          3094           96          6         3968           98   \n",
       "509          3094           96          1         4889          129   \n",
       "588          3968           98          9         3721           87   \n",
       "590          3968           98          9         3721           87   \n",
       "635          5811          106          2         5278          117   \n",
       "636          5811          106          2         5278          117   \n",
       "643          3968           98          4         5131          112   \n",
       "645          3968           98          4         5131          112   \n",
       "657          5278          117          9         3721           87   \n",
       "660          4889          129          5         5811          106   \n",
       "662          4889          129          5         5811          106   \n",
       "665          4889          129          5         5811          106   \n",
       "667          4889          129          5         5811          106   \n",
       "671          4889          129          8         2471           88   \n",
       "672          4889          129          8         2471           88   \n",
       "673          4889          129          8         2471           88   \n",
       "674          4889          129          8         2471           88   \n",
       "675          4889          129          8         2471           88   \n",
       "680          2471           88         11         1250           45   \n",
       "690          1250           45          7         3094           96   \n",
       "691          1250           45          7         3094           96   \n",
       "704          4889          129          3         4284          116   \n",
       "707          5278          117          9         3721           87   \n",
       "709          4889          129          5         5811          106   \n",
       "710          3968           98          4         5131          112   \n",
       "...           ...          ...        ...          ...          ...   \n",
       "970          3968           98          3         4284          116   \n",
       "971          3094           96          2         5278          117   \n",
       "972          3094           96          2         5278          117   \n",
       "975          5811          106          9         3721           87   \n",
       "976          3094           96          4         5131          112   \n",
       "977          1250           45          2         5278          117   \n",
       "978          1250           45          2         5278          117   \n",
       "979          3094           96          4         5131          112   \n",
       "980          5811          106          9         3721           87   \n",
       "981          5811          106          9         3721           87   \n",
       "982          5811          106          9         3721           87   \n",
       "983          5811          106          9         3721           87   \n",
       "985          1250           45          3         4284          116   \n",
       "986          1250           45          3         4284          116   \n",
       "987          5131          112          3         4284          116   \n",
       "988          5131          112          3         4284          116   \n",
       "989          5131          112          3         4284          116   \n",
       "990           549           50          1         4889          129   \n",
       "991          3968           98          1         4889          129   \n",
       "992          3968           98          1         4889          129   \n",
       "993          3968           98          1         4889          129   \n",
       "994          3968           98          1         4889          129   \n",
       "995          3968           98          1         4889          129   \n",
       "996          1250           45          9         3721           87   \n",
       "997          1250           45          9         3721           87   \n",
       "998          1250           45          9         3721           87   \n",
       "1000         5278          117          4         5131          112   \n",
       "1002         1250           45         10          549           50   \n",
       "1003         5278          117          4         5131          112   \n",
       "1004         1250           45         12          618           41   \n",
       "\n",
       "      winnerNumber    winnerName  winnerIsAorB_1or2  home_groundOfAorB_1or2  \\\n",
       "384              3   New Zealand                  1                       1   \n",
       "397              5     Sri Lanka                  2                       1   \n",
       "478              1     Australia                  1                       0   \n",
       "479              7    Bangladesh                  1                       1   \n",
       "489              5     Sri Lanka                  1                       1   \n",
       "490              7    Bangladesh                  1                       1   \n",
       "509              1     Australia                  2                       1   \n",
       "588              6       England                  1                       0   \n",
       "590              6       England                  1                       0   \n",
       "635              2         India                  2                       1   \n",
       "636              2         India                  2                       1   \n",
       "643              6       England                  1                       1   \n",
       "645              4  South Africa                  2                       1   \n",
       "657              2         India                  1                       1   \n",
       "660              5     Sri Lanka                  2                       1   \n",
       "662              5     Sri Lanka                  2                       1   \n",
       "665              0     no result                  0                       1   \n",
       "667              1     Australia                  1                       1   \n",
       "671              1     Australia                  1                       1   \n",
       "672              1     Australia                  1                       1   \n",
       "673              1     Australia                  1                       1   \n",
       "674              1     Australia                  1                       1   \n",
       "675              1     Australia                  1                       1   \n",
       "680              8   West Indies                  1                       1   \n",
       "690             11      Zimbabwe                  1                       1   \n",
       "691             11      Zimbabwe                  1                       1   \n",
       "704              0     no result                  0                       0   \n",
       "707              2         India                  1                       0   \n",
       "709              5     Sri Lanka                  2                       0   \n",
       "710              6       England                  1                       1   \n",
       "...            ...           ...                ...                     ...   \n",
       "970              6       England                  1                       1   \n",
       "971              7    Bangladesh                  1                       1   \n",
       "972              2         India                  2                       1   \n",
       "975              9      Pakistan                  2                       1   \n",
       "976              7    Bangladesh                  1                       1   \n",
       "977              2         India                  2                       1   \n",
       "978              2         India                  2                       1   \n",
       "979              7    Bangladesh                  1                       1   \n",
       "980              5     Sri Lanka                  1                       1   \n",
       "981              9      Pakistan                  2                       1   \n",
       "982              9      Pakistan                  2                       1   \n",
       "983              5     Sri Lanka                  1                       1   \n",
       "985              3   New Zealand                  2                       1   \n",
       "986              3   New Zealand                  2                       1   \n",
       "987              4  South Africa                  1                       1   \n",
       "988              3   New Zealand                  2                       1   \n",
       "989              4  South Africa                  1                       1   \n",
       "990              1     Australia                  2                       1   \n",
       "991              1     Australia                  2                       1   \n",
       "992              1     Australia                  2                       1   \n",
       "993              6       England                  1                       1   \n",
       "994              6       England                  1                       1   \n",
       "995              1     Australia                  2                       1   \n",
       "996              9      Pakistan                  2                       1   \n",
       "997             11      Zimbabwe                  1                       1   \n",
       "998              9      Pakistan                  2                       1   \n",
       "1000             4  South Africa                  2                       1   \n",
       "1002            10       Ireland                  2                       1   \n",
       "1003             2         India                  1                       1   \n",
       "1004            11      Zimbabwe                  1                       1   \n",
       "\n",
       "     teamALastWin teamBLastWin  \n",
       "384         False         True  \n",
       "397          True        False  \n",
       "478          True         True  \n",
       "479         False        False  \n",
       "489         False        False  \n",
       "490         False         True  \n",
       "509         False         True  \n",
       "588          True        False  \n",
       "590          True        False  \n",
       "635         False         True  \n",
       "636         False         True  \n",
       "643          True        False  \n",
       "645          True        False  \n",
       "657         False         True  \n",
       "660          True        False  \n",
       "662         False         True  \n",
       "665         False         True  \n",
       "667         False         True  \n",
       "671          True        False  \n",
       "672          True        False  \n",
       "673          True        False  \n",
       "674          True        False  \n",
       "675          True        False  \n",
       "680          True        False  \n",
       "690         False         True  \n",
       "691          True        False  \n",
       "704         False         True  \n",
       "707          True        False  \n",
       "709         False         True  \n",
       "710          True         True  \n",
       "...           ...          ...  \n",
       "970          True        False  \n",
       "971          True        False  \n",
       "972          True        False  \n",
       "975         False         True  \n",
       "976         False         True  \n",
       "977         False         True  \n",
       "978         False         True  \n",
       "979          True        False  \n",
       "980         False         True  \n",
       "981          True        False  \n",
       "982         False         True  \n",
       "983         False         True  \n",
       "985          True        False  \n",
       "986         False         True  \n",
       "987         False         True  \n",
       "988          True        False  \n",
       "989         False         True  \n",
       "990         False         True  \n",
       "991          True         True  \n",
       "992         False         True  \n",
       "993         False         True  \n",
       "994          True        False  \n",
       "995          True        False  \n",
       "996         False        False  \n",
       "997         False         True  \n",
       "998          True        False  \n",
       "1000         True         True  \n",
       "1002         True        False  \n",
       "1003        False         True  \n",
       "1004        False        False  \n",
       "\n",
       "[198 rows x 16 columns]"
      ]
     },
     "execution_count": 251,
     "metadata": {},
     "output_type": "execute_result"
    }
   ],
   "source": [
    "# results.ix[:5]  #Taking values from a random range.\n",
    "# resultsTrainFinal.ix[:5]\n",
    "resultsTestFinal.ix[:]\n"
   ]
  },
  {
   "cell_type": "markdown",
   "metadata": {},
   "source": [
    "### Let See if the cross_val_score improved or not? oh snap! It actually reduces after including some specific features\n",
    "- We will deivce an algorithm to improve the feature selection, and then will come up with best possible moodel on this"
   ]
  },
  {
   "cell_type": "markdown",
   "metadata": {},
   "source": [
    "## rakesh Jumped in\n",
    "- Taking out all the numerical features only. Right now the available features doe not include the one hot encoding of teams.\n",
    "- Ranks of teams, Pints, Ratings, HomGroung info, Team's Last wins against any opponent.\n",
    "\n",
    "## Future addition of features\n",
    "- Add who won the match (teamA or teamB) in their most recent encounter in the past. 1 for A, 2 for B and 0 for the draw.\n"
   ]
  },
  {
   "cell_type": "code",
   "execution_count": 371,
   "metadata": {
    "collapsed": false,
    "scrolled": true
   },
   "outputs": [
    {
     "data": {
      "text/html": [
       "<div>\n",
       "<table border=\"1\" class=\"dataframe\">\n",
       "  <thead>\n",
       "    <tr style=\"text-align: right;\">\n",
       "      <th></th>\n",
       "      <th>rankTeamA</th>\n",
       "      <th>pointsTeamA</th>\n",
       "      <th>RatingTeamA</th>\n",
       "      <th>rankTeamB</th>\n",
       "      <th>pointsTeamB</th>\n",
       "      <th>RatingTeamB</th>\n",
       "      <th>home_groundOfAorB_1or2</th>\n",
       "      <th>teamALastWin</th>\n",
       "      <th>teamBLastWin</th>\n",
       "    </tr>\n",
       "  </thead>\n",
       "  <tbody>\n",
       "    <tr>\n",
       "      <th>0</th>\n",
       "      <td>1</td>\n",
       "      <td>4889</td>\n",
       "      <td>129</td>\n",
       "      <td>3</td>\n",
       "      <td>4284</td>\n",
       "      <td>116</td>\n",
       "      <td>0</td>\n",
       "      <td>True</td>\n",
       "      <td>False</td>\n",
       "    </tr>\n",
       "    <tr>\n",
       "      <th>1</th>\n",
       "      <td>4</td>\n",
       "      <td>5131</td>\n",
       "      <td>112</td>\n",
       "      <td>8</td>\n",
       "      <td>2471</td>\n",
       "      <td>88</td>\n",
       "      <td>0</td>\n",
       "      <td>False</td>\n",
       "      <td>False</td>\n",
       "    </tr>\n",
       "    <tr>\n",
       "      <th>2</th>\n",
       "      <td>1</td>\n",
       "      <td>4889</td>\n",
       "      <td>129</td>\n",
       "      <td>8</td>\n",
       "      <td>2471</td>\n",
       "      <td>88</td>\n",
       "      <td>0</td>\n",
       "      <td>True</td>\n",
       "      <td>True</td>\n",
       "    </tr>\n",
       "    <tr>\n",
       "      <th>3</th>\n",
       "      <td>4</td>\n",
       "      <td>5131</td>\n",
       "      <td>112</td>\n",
       "      <td>2</td>\n",
       "      <td>5278</td>\n",
       "      <td>117</td>\n",
       "      <td>1</td>\n",
       "      <td>False</td>\n",
       "      <td>True</td>\n",
       "    </tr>\n",
       "    <tr>\n",
       "      <th>4</th>\n",
       "      <td>4</td>\n",
       "      <td>5131</td>\n",
       "      <td>112</td>\n",
       "      <td>2</td>\n",
       "      <td>5278</td>\n",
       "      <td>117</td>\n",
       "      <td>1</td>\n",
       "      <td>True</td>\n",
       "      <td>False</td>\n",
       "    </tr>\n",
       "    <tr>\n",
       "      <th>5</th>\n",
       "      <td>4</td>\n",
       "      <td>5131</td>\n",
       "      <td>112</td>\n",
       "      <td>2</td>\n",
       "      <td>5278</td>\n",
       "      <td>117</td>\n",
       "      <td>1</td>\n",
       "      <td>True</td>\n",
       "      <td>False</td>\n",
       "    </tr>\n",
       "    <tr>\n",
       "      <th>6</th>\n",
       "      <td>7</td>\n",
       "      <td>3094</td>\n",
       "      <td>96</td>\n",
       "      <td>11</td>\n",
       "      <td>1250</td>\n",
       "      <td>45</td>\n",
       "      <td>1</td>\n",
       "      <td>True</td>\n",
       "      <td>True</td>\n",
       "    </tr>\n",
       "    <tr>\n",
       "      <th>...</th>\n",
       "      <td>...</td>\n",
       "      <td>...</td>\n",
       "      <td>...</td>\n",
       "      <td>...</td>\n",
       "      <td>...</td>\n",
       "      <td>...</td>\n",
       "      <td>...</td>\n",
       "      <td>...</td>\n",
       "      <td>...</td>\n",
       "    </tr>\n",
       "    <tr>\n",
       "      <th>950</th>\n",
       "      <td>13</td>\n",
       "      <td>300</td>\n",
       "      <td>32</td>\n",
       "      <td>8</td>\n",
       "      <td>2471</td>\n",
       "      <td>88</td>\n",
       "      <td>0</td>\n",
       "      <td>False</td>\n",
       "      <td>False</td>\n",
       "    </tr>\n",
       "    <tr>\n",
       "      <th>962</th>\n",
       "      <td>9</td>\n",
       "      <td>3721</td>\n",
       "      <td>87</td>\n",
       "      <td>11</td>\n",
       "      <td>1250</td>\n",
       "      <td>45</td>\n",
       "      <td>1</td>\n",
       "      <td>False</td>\n",
       "      <td>False</td>\n",
       "    </tr>\n",
       "    <tr>\n",
       "      <th>963</th>\n",
       "      <td>9</td>\n",
       "      <td>3721</td>\n",
       "      <td>87</td>\n",
       "      <td>11</td>\n",
       "      <td>1250</td>\n",
       "      <td>45</td>\n",
       "      <td>1</td>\n",
       "      <td>True</td>\n",
       "      <td>False</td>\n",
       "    </tr>\n",
       "    <tr>\n",
       "      <th>973</th>\n",
       "      <td>7</td>\n",
       "      <td>3094</td>\n",
       "      <td>96</td>\n",
       "      <td>4</td>\n",
       "      <td>5131</td>\n",
       "      <td>112</td>\n",
       "      <td>1</td>\n",
       "      <td>False</td>\n",
       "      <td>False</td>\n",
       "    </tr>\n",
       "    <tr>\n",
       "      <th>974</th>\n",
       "      <td>11</td>\n",
       "      <td>1250</td>\n",
       "      <td>45</td>\n",
       "      <td>2</td>\n",
       "      <td>5278</td>\n",
       "      <td>117</td>\n",
       "      <td>1</td>\n",
       "      <td>False</td>\n",
       "      <td>True</td>\n",
       "    </tr>\n",
       "    <tr>\n",
       "      <th>984</th>\n",
       "      <td>11</td>\n",
       "      <td>1250</td>\n",
       "      <td>45</td>\n",
       "      <td>3</td>\n",
       "      <td>4284</td>\n",
       "      <td>116</td>\n",
       "      <td>1</td>\n",
       "      <td>False</td>\n",
       "      <td>False</td>\n",
       "    </tr>\n",
       "    <tr>\n",
       "      <th>999</th>\n",
       "      <td>11</td>\n",
       "      <td>1250</td>\n",
       "      <td>45</td>\n",
       "      <td>10</td>\n",
       "      <td>549</td>\n",
       "      <td>50</td>\n",
       "      <td>1</td>\n",
       "      <td>False</td>\n",
       "      <td>False</td>\n",
       "    </tr>\n",
       "    <tr>\n",
       "      <th>1001</th>\n",
       "      <td>11</td>\n",
       "      <td>1250</td>\n",
       "      <td>45</td>\n",
       "      <td>10</td>\n",
       "      <td>549</td>\n",
       "      <td>50</td>\n",
       "      <td>1</td>\n",
       "      <td>True</td>\n",
       "      <td>False</td>\n",
       "    </tr>\n",
       "  </tbody>\n",
       "</table>\n",
       "<p>807 rows × 9 columns</p>\n",
       "</div>"
      ],
      "text/plain": [
       "      rankTeamA  pointsTeamA  RatingTeamA  rankTeamB  pointsTeamB  \\\n",
       "0             1         4889          129          3         4284   \n",
       "1             4         5131          112          8         2471   \n",
       "2             1         4889          129          8         2471   \n",
       "3             4         5131          112          2         5278   \n",
       "4             4         5131          112          2         5278   \n",
       "5             4         5131          112          2         5278   \n",
       "6             7         3094           96         11         1250   \n",
       "7             4         5131          112          2         5278   \n",
       "8             7         3094           96         11         1250   \n",
       "9             9         3721           87          8         2471   \n",
       "10            7         3094           96         11         1250   \n",
       "11            7         3094           96         11         1250   \n",
       "12            9         3721           87          8         2471   \n",
       "13            9         3721           87          8         2471   \n",
       "14            9         3721           87          8         2471   \n",
       "15            3         4284          116          5         5811   \n",
       "16            3         4284          116          5         5811   \n",
       "17            3         4284          116          5         5811   \n",
       "18            1         4889          129          6         3968   \n",
       "19            1         4889          129          3         4284   \n",
       "20            6         3968           98          3         4284   \n",
       "21            1         4889          129          6         3968   \n",
       "22            1         4889          129          3         4284   \n",
       "23            6         3968           98          3         4284   \n",
       "24            1         4889          129          6         3968   \n",
       "25            2         5278          117          8         2471   \n",
       "26            1         4889          129          3         4284   \n",
       "27            6         3968           98          3         4284   \n",
       "28            2         5278          117          8         2471   \n",
       "29            1         4889          129          6         3968   \n",
       "...         ...          ...          ...        ...          ...   \n",
       "891           4         5131          112          8         2471   \n",
       "892          12          618           41         10          549   \n",
       "893           3         4284          116          5         5811   \n",
       "895           4         5131          112          8         2471   \n",
       "915           3         4284          116         14          200   \n",
       "916          12          618           41          7         3094   \n",
       "917          13          300           32         11         1250   \n",
       "920          12          618           41          5         5811   \n",
       "922           6         3968           98         14          200   \n",
       "924          10          549           50         13          300   \n",
       "928           2         5278          117         13          300   \n",
       "931           9         3721           87         11         1250   \n",
       "933           1         4889          129         12          618   \n",
       "934           9         3721           87         13          300   \n",
       "935           7         3094           96         14          200   \n",
       "937          10          549           50         11         1250   \n",
       "940           3         4284          116         12          618   \n",
       "943          14          200           25          5         5811   \n",
       "944           4         5131          112         13          300   \n",
       "945          12          618           41          6         3968   \n",
       "947           1         4889          129         14          200   \n",
       "948           2         5278          117         11         1250   \n",
       "950          13          300           32          8         2471   \n",
       "962           9         3721           87         11         1250   \n",
       "963           9         3721           87         11         1250   \n",
       "973           7         3094           96          4         5131   \n",
       "974          11         1250           45          2         5278   \n",
       "984          11         1250           45          3         4284   \n",
       "999          11         1250           45         10          549   \n",
       "1001         11         1250           45         10          549   \n",
       "\n",
       "      RatingTeamB  home_groundOfAorB_1or2 teamALastWin teamBLastWin  \n",
       "0             116                       0         True        False  \n",
       "1              88                       0        False        False  \n",
       "2              88                       0         True         True  \n",
       "3             117                       1        False         True  \n",
       "4             117                       1         True        False  \n",
       "5             117                       1         True        False  \n",
       "6              45                       1         True         True  \n",
       "7             117                       1         True        False  \n",
       "8              45                       1         True        False  \n",
       "9              88                       1         True        False  \n",
       "10             45                       1         True        False  \n",
       "11             45                       1         True        False  \n",
       "12             88                       1         True        False  \n",
       "13             88                       1         True        False  \n",
       "14             88                       1        False         True  \n",
       "15            106                       1        False         True  \n",
       "16            106                       1        False         True  \n",
       "17            106                       1         True        False  \n",
       "18             98                       1         True        False  \n",
       "19            116                       1         True        False  \n",
       "20            116                       0        False        False  \n",
       "21             98                       1         True         True  \n",
       "22            116                       1         True        False  \n",
       "23            116                       0        False        False  \n",
       "24             98                       1         True        False  \n",
       "25             88                       1        False        False  \n",
       "26            116                       1         True         True  \n",
       "27            116                       0        False        False  \n",
       "28             88                       1        False         True  \n",
       "29             98                       1         True        False  \n",
       "...           ...                     ...          ...          ...  \n",
       "891            88                       1        False        False  \n",
       "892            50                       0        False         True  \n",
       "893           106                       1        False         True  \n",
       "895            88                       1         True        False  \n",
       "915            25                       1         True         True  \n",
       "916            96                       0         True         True  \n",
       "917            45                       0         True        False  \n",
       "920           106                       0        False        False  \n",
       "922            25                       0        False        False  \n",
       "924            32                       0         True        False  \n",
       "928            32                       0         True        False  \n",
       "931            45                       0        False        False  \n",
       "933            41                       1        False         True  \n",
       "934            32                       0         True        False  \n",
       "935            25                       0        False        False  \n",
       "937            45                       0        False        False  \n",
       "940            41                       1         True        False  \n",
       "943           106                       0        False        False  \n",
       "944            32                       0        False        False  \n",
       "945            98                       0        False        False  \n",
       "947            25                       1         True        False  \n",
       "948            45                       0         True        False  \n",
       "950            88                       0        False        False  \n",
       "962            45                       1        False        False  \n",
       "963            45                       1         True        False  \n",
       "973           112                       1        False        False  \n",
       "974           117                       1        False         True  \n",
       "984           116                       1        False        False  \n",
       "999            50                       1        False        False  \n",
       "1001           50                       1         True        False  \n",
       "\n",
       "[807 rows x 9 columns]"
      ]
     },
     "execution_count": 371,
     "metadata": {},
     "output_type": "execute_result"
    }
   ],
   "source": [
    "# trainDf = results.ix[:,[4,5,6,7,8,9,13,14,15]]\n",
    "# trainDf = resultsTrainFinal.ix[:] #,[4,5,6,7,8,9,13,14,15]]\n",
    "# trainDf = resultsTrainFinal.ix[:,[4,7,13,14,15]]  # Ranks, HomeGrnd, TeamLastWin\n",
    "# trainDf = resultsTrainFinal.ix[:,[4,5,7,8,13,14,15]]  # Ranks, HomeGrnd, TeamLastWin, PointsGainedByTeams\n",
    "trainDf = resultsTrainFinal.ix[:,[4,5,6,7,8,9,13,14,15]] # Ranks, HomeGrnd, TeamLastWin, PointsGainedByTeams, RatingOfTeam\n",
    "testDf = resultsTestFinal.ix[:,[4,5,6,7,8,9,13,14,15]] # Ranks, HomeGrnd, TeamLastWin, PointsGainedByTeams, RatingOfTeam\n",
    "\n",
    "trainDf"
   ]
  },
  {
   "cell_type": "code",
   "execution_count": 260,
   "metadata": {
    "collapsed": false,
    "scrolled": true
   },
   "outputs": [
    {
     "name": "stdout",
     "output_type": "stream",
     "text": [
      "Here is the cross val score for above sets of features\n",
      "F1: 0.5003\n"
     ]
    }
   ],
   "source": [
    "from sklearn.cross_validation import cross_val_score\n",
    "\n",
    "# features = results[[\"teamALastWin\"]].values                                                      #Score --> 0.4245\n",
    "# features = results[[\"teamBLastWin\"]].values                                                      #Score --> 0.4274\n",
    "# features = results[[\"teamALastWin\", \"teamBLastWin\"]].values                                      #Score --> 0.4800\n",
    "# features = results[[\"rankTeamA\", \"teamALastWin\", \"teamBLastWin\"]].values                         #Score --> 0.5432\n",
    "# features = results[[\"rankTeamB\", \"teamALastWin\", \"teamBLastWin\"]].values                         #Score --> 0.5546 \n",
    "# features = results[[\"rankTeamA\", \"rankTeamB\",  \"teamALastWin\", \"teamBLastWin\"]].values           #Score --> 0.5151 (Reduced when rankTeamA and rankTeamB are feede together)\n",
    "\n",
    "# features = results[[\"home_groundOfAorB_1or2\", \"rankTeamB\", \"teamALastWin\", \"teamBLastWin\"]].values          # --> 0.5405\n",
    "# features = results[[\"home_groundOfAorB_1or2\", \"rankTeamA\", \"rankTeamB\", \"teamALastWin\", \"teamBLastWin\"]].values    # --> 0.4998\n",
    "# # So the best feature combination so far has been \"rankTeamB\", \"teamALastWin\", \"teamBLastWin\"\n",
    "# However, rankTeamB alone had given better score, infact the best so far of 0.5659\n",
    "\n",
    "\n",
    "clf = DecisionTreeClassifier(random_state=14)\n",
    "\n",
    "# scores = cross_val_score(clf, features, y_true,scoring=scorer) ## This was using the above feature list\n",
    "scores = cross_val_score(clf, trainDf, y_true,scoring=scorer)  ## This is using the newly created DF from Rakesh.\n",
    "print \"Here is the cross val score for above sets of features\"\n",
    "print \"F1: {0:.4f}\".format(np.mean(scores))"
   ]
  },
  {
   "cell_type": "markdown",
   "metadata": {},
   "source": [
    "## Feature Importance by Decision Tree Classifier"
   ]
  },
  {
   "cell_type": "code",
   "execution_count": 268,
   "metadata": {
    "collapsed": false
   },
   "outputs": [
    {
     "data": {
      "text/plain": [
       "array([ 0.08693525,  0.22469557,  0.04775404,  0.14454615,  0.15996553,\n",
       "        0.09024859,  0.07256618,  0.08562546,  0.08766324])"
      ]
     },
     "execution_count": 268,
     "metadata": {},
     "output_type": "execute_result"
    }
   ],
   "source": [
    "clf.fit(trainDf, y_true)\n",
    "clf.feature_importances_"
   ]
  },
  {
   "cell_type": "code",
   "execution_count": 269,
   "metadata": {
    "collapsed": false
   },
   "outputs": [
    {
     "name": "stdout",
     "output_type": "stream",
     "text": [
      "RatingTeamA               0.047754\n",
      "home_groundOfAorB_1or2    0.072566\n",
      "teamALastWin              0.085625\n",
      "rankTeamA                 0.086935\n",
      "teamBLastWin              0.087663\n",
      "RatingTeamB               0.090249\n",
      "rankTeamB                 0.144546\n",
      "pointsTeamB               0.159966\n",
      "pointsTeamA               0.224696\n",
      "dtype: float64 Index([u'rankTeamA', u'pointsTeamA', u'RatingTeamA', u'rankTeamB',\n",
      "       u'pointsTeamB', u'RatingTeamB', u'home_groundOfAorB_1or2',\n",
      "       u'teamALastWin', u'teamBLastWin'],\n",
      "      dtype='object')\n",
      "9\n"
     ]
    }
   ],
   "source": [
    "import matplotlib.pyplot as plt\n",
    "import matplotlib\n",
    "matplotlib.style.use('ggplot')\n",
    "feature_importance = pd.Series(clf.feature_importances_, index=trainDf.columns)\n",
    "feature_importance.sort_values(inplace=True)\n",
    "print feature_importance, trainDf.columns\n",
    "print len(trainDf.columns)\n",
    "feature_importance.plot(kind='barh', figsize=(7,6));\n",
    "trainDf.plot()\n",
    "plt.show()"
   ]
  },
  {
   "cell_type": "markdown",
   "metadata": {},
   "source": [
    "## Our algo to find the best combination of features giving highest score is ready.\n",
    "## So let's focus on adding more features\n",
    "## Let's start with the encoded feature. "
   ]
  },
  {
   "cell_type": "code",
   "execution_count": 261,
   "metadata": {
    "collapsed": false,
    "scrolled": true
   },
   "outputs": [
    {
     "data": {
      "text/plain": [
       "LabelEncoder()"
      ]
     },
     "execution_count": 261,
     "metadata": {},
     "output_type": "execute_result"
    }
   ],
   "source": [
    "from sklearn.preprocessing import LabelEncoder, OneHotEncoder\n",
    "encoding = LabelEncoder()\n",
    "encoding.fit(results[\"teamA\"].values)"
   ]
  },
  {
   "cell_type": "code",
   "execution_count": 262,
   "metadata": {
    "collapsed": false
   },
   "outputs": [
    {
     "data": {
      "text/plain": [
       "(array([[ 1,  6],\n",
       "        [ 9, 12],\n",
       "        [ 1, 12],\n",
       "        [ 9,  4],\n",
       "        [ 9,  4]], dtype=int64), (1005L, 2L))"
      ]
     },
     "execution_count": 262,
     "metadata": {},
     "output_type": "execute_result"
    }
   ],
   "source": [
    "team_A_encoded = encoding.transform(results[\"teamA\"].values)\n",
    "team_B_encoded = encoding.transform(results[\"teamB\"].values)\n",
    "X_teams = np.vstack([team_A_encoded, team_B_encoded]).T      # .T makes it look tabular\n",
    "X_teams[:5], X_teams.shape"
   ]
  },
  {
   "cell_type": "markdown",
   "metadata": {},
   "source": [
    "## One Hot EnCoding"
   ]
  },
  {
   "cell_type": "code",
   "execution_count": 263,
   "metadata": {
    "collapsed": false,
    "scrolled": false
   },
   "outputs": [
    {
     "name": "stdout",
     "output_type": "stream",
     "text": [
      "('teamA:', matrix([[ 0.,  1.,  0.,  0.,  0.,  0.,  0.,  0.,  0.,  0.,  0.,  0.,  0.,\n",
      "          0.]]))\n",
      "('teamB:', matrix([[ 0.,  0.,  0.,  0.,  0.,  0.,  1.,  0.,  0.,  0.,  0.,  0.,  0.,\n",
      "          0.]]))\n"
     ]
    }
   ],
   "source": [
    "onehot = OneHotEncoder()\n",
    "X_teams = onehot.fit_transform(X_teams).todense()\n",
    "X_teams.shape\n",
    "\n",
    "print(\"teamA:\", X_teams[0,:14])\n",
    "print(\"teamB:\", X_teams[0,14:])"
   ]
  },
  {
   "cell_type": "code",
   "execution_count": 265,
   "metadata": {
    "collapsed": false,
    "scrolled": true
   },
   "outputs": [
    {
     "data": {
      "text/html": [
       "<div>\n",
       "<table border=\"1\" class=\"dataframe\">\n",
       "  <thead>\n",
       "    <tr style=\"text-align: right;\">\n",
       "      <th></th>\n",
       "      <th>teamA1</th>\n",
       "      <th>teamA2</th>\n",
       "      <th>teamA3</th>\n",
       "      <th>teamA4</th>\n",
       "      <th>teamA5</th>\n",
       "      <th>teamA6</th>\n",
       "      <th>teamA7</th>\n",
       "      <th>teamA8</th>\n",
       "      <th>teamA9</th>\n",
       "      <th>teamA10</th>\n",
       "      <th>...</th>\n",
       "      <th>teamB5</th>\n",
       "      <th>teamB6</th>\n",
       "      <th>teamB7</th>\n",
       "      <th>teamB8</th>\n",
       "      <th>teamB9</th>\n",
       "      <th>teamB10</th>\n",
       "      <th>teamB11</th>\n",
       "      <th>teamB12</th>\n",
       "      <th>teamB13</th>\n",
       "      <th>teamB14</th>\n",
       "    </tr>\n",
       "  </thead>\n",
       "  <tbody>\n",
       "    <tr>\n",
       "      <th>0</th>\n",
       "      <td>0</td>\n",
       "      <td>0</td>\n",
       "      <td>0</td>\n",
       "      <td>0</td>\n",
       "      <td>0</td>\n",
       "      <td>0</td>\n",
       "      <td>0</td>\n",
       "      <td>0</td>\n",
       "      <td>0</td>\n",
       "      <td>0</td>\n",
       "      <td>...</td>\n",
       "      <td>0</td>\n",
       "      <td>0</td>\n",
       "      <td>0</td>\n",
       "      <td>0</td>\n",
       "      <td>0</td>\n",
       "      <td>0</td>\n",
       "      <td>0</td>\n",
       "      <td>0</td>\n",
       "      <td>0</td>\n",
       "      <td>0</td>\n",
       "    </tr>\n",
       "    <tr>\n",
       "      <th>1</th>\n",
       "      <td>1</td>\n",
       "      <td>1</td>\n",
       "      <td>1</td>\n",
       "      <td>1</td>\n",
       "      <td>1</td>\n",
       "      <td>1</td>\n",
       "      <td>1</td>\n",
       "      <td>1</td>\n",
       "      <td>1</td>\n",
       "      <td>1</td>\n",
       "      <td>...</td>\n",
       "      <td>1</td>\n",
       "      <td>1</td>\n",
       "      <td>1</td>\n",
       "      <td>1</td>\n",
       "      <td>1</td>\n",
       "      <td>1</td>\n",
       "      <td>1</td>\n",
       "      <td>1</td>\n",
       "      <td>1</td>\n",
       "      <td>1</td>\n",
       "    </tr>\n",
       "    <tr>\n",
       "      <th>2</th>\n",
       "      <td>2</td>\n",
       "      <td>2</td>\n",
       "      <td>2</td>\n",
       "      <td>2</td>\n",
       "      <td>2</td>\n",
       "      <td>2</td>\n",
       "      <td>2</td>\n",
       "      <td>2</td>\n",
       "      <td>2</td>\n",
       "      <td>2</td>\n",
       "      <td>...</td>\n",
       "      <td>2</td>\n",
       "      <td>2</td>\n",
       "      <td>2</td>\n",
       "      <td>2</td>\n",
       "      <td>2</td>\n",
       "      <td>2</td>\n",
       "      <td>2</td>\n",
       "      <td>2</td>\n",
       "      <td>2</td>\n",
       "      <td>2</td>\n",
       "    </tr>\n",
       "    <tr>\n",
       "      <th>3</th>\n",
       "      <td>3</td>\n",
       "      <td>3</td>\n",
       "      <td>3</td>\n",
       "      <td>3</td>\n",
       "      <td>3</td>\n",
       "      <td>3</td>\n",
       "      <td>3</td>\n",
       "      <td>3</td>\n",
       "      <td>3</td>\n",
       "      <td>3</td>\n",
       "      <td>...</td>\n",
       "      <td>3</td>\n",
       "      <td>3</td>\n",
       "      <td>3</td>\n",
       "      <td>3</td>\n",
       "      <td>3</td>\n",
       "      <td>3</td>\n",
       "      <td>3</td>\n",
       "      <td>3</td>\n",
       "      <td>3</td>\n",
       "      <td>3</td>\n",
       "    </tr>\n",
       "    <tr>\n",
       "      <th>4</th>\n",
       "      <td>4</td>\n",
       "      <td>4</td>\n",
       "      <td>4</td>\n",
       "      <td>4</td>\n",
       "      <td>4</td>\n",
       "      <td>4</td>\n",
       "      <td>4</td>\n",
       "      <td>4</td>\n",
       "      <td>4</td>\n",
       "      <td>4</td>\n",
       "      <td>...</td>\n",
       "      <td>4</td>\n",
       "      <td>4</td>\n",
       "      <td>4</td>\n",
       "      <td>4</td>\n",
       "      <td>4</td>\n",
       "      <td>4</td>\n",
       "      <td>4</td>\n",
       "      <td>4</td>\n",
       "      <td>4</td>\n",
       "      <td>4</td>\n",
       "    </tr>\n",
       "    <tr>\n",
       "      <th>5</th>\n",
       "      <td>5</td>\n",
       "      <td>5</td>\n",
       "      <td>5</td>\n",
       "      <td>5</td>\n",
       "      <td>5</td>\n",
       "      <td>5</td>\n",
       "      <td>5</td>\n",
       "      <td>5</td>\n",
       "      <td>5</td>\n",
       "      <td>5</td>\n",
       "      <td>...</td>\n",
       "      <td>5</td>\n",
       "      <td>5</td>\n",
       "      <td>5</td>\n",
       "      <td>5</td>\n",
       "      <td>5</td>\n",
       "      <td>5</td>\n",
       "      <td>5</td>\n",
       "      <td>5</td>\n",
       "      <td>5</td>\n",
       "      <td>5</td>\n",
       "    </tr>\n",
       "  </tbody>\n",
       "</table>\n",
       "<p>6 rows × 28 columns</p>\n",
       "</div>"
      ],
      "text/plain": [
       "   teamA1  teamA2  teamA3  teamA4  teamA5  teamA6  teamA7  teamA8  teamA9  \\\n",
       "0       0       0       0       0       0       0       0       0       0   \n",
       "1       1       1       1       1       1       1       1       1       1   \n",
       "2       2       2       2       2       2       2       2       2       2   \n",
       "3       3       3       3       3       3       3       3       3       3   \n",
       "4       4       4       4       4       4       4       4       4       4   \n",
       "5       5       5       5       5       5       5       5       5       5   \n",
       "\n",
       "   teamA10   ...     teamB5  teamB6  teamB7  teamB8  teamB9  teamB10  teamB11  \\\n",
       "0        0   ...          0       0       0       0       0        0        0   \n",
       "1        1   ...          1       1       1       1       1        1        1   \n",
       "2        2   ...          2       2       2       2       2        2        2   \n",
       "3        3   ...          3       3       3       3       3        3        3   \n",
       "4        4   ...          4       4       4       4       4        4        4   \n",
       "5        5   ...          5       5       5       5       5        5        5   \n",
       "\n",
       "   teamB12  teamB13  teamB14  \n",
       "0        0        0        0  \n",
       "1        1        1        1  \n",
       "2        2        2        2  \n",
       "3        3        3        3  \n",
       "4        4        4        4  \n",
       "5        5        5        5  \n",
       "\n",
       "[6 rows x 28 columns]"
      ]
     },
     "execution_count": 265,
     "metadata": {},
     "output_type": "execute_result"
    }
   ],
   "source": [
    "# Declared 14x2 columns to hold the one hot encoded teamA and teamB. 14 each since there are 14 disticnt teams.\n",
    "columns = ['teamA1','teamA2', 'teamA3', 'teamA4', 'teamA5', 'teamA6', 'teamA7', 'teamA8', 'teamA9', 'teamA10', 'teamA11', 'teamA12', 'teamA13', 'teamA14',\n",
    "           'teamB1','teamB2', 'teamB3', 'teamB4', 'teamB5', 'teamB6', 'teamB7', 'teamB8', 'teamB9', 'teamB10', 'teamB11', 'teamB12', 'teamB13', 'teamB14']\n",
    "\n",
    "# Create a numpy array of size 1005 x 28\n",
    "data = np.array([np.arange(1005)]*28).T   # Have hardCoded for simplicity to relate easily for the reader. I know it is not a good practice, I know the workaround.\n",
    "\n",
    "# Creating the dataframe out of this data using those columns\n",
    "df = pd.DataFrame(data, columns=columns)\n",
    "\n",
    "df.ix[:5]\n"
   ]
  },
  {
   "cell_type": "markdown",
   "metadata": {},
   "source": [
    "### Let's programatically fill the encoding to these columns"
   ]
  },
  {
   "cell_type": "code",
   "execution_count": 266,
   "metadata": {
    "collapsed": true
   },
   "outputs": [],
   "source": [
    "#Get list of all columns in DataFrame df\n",
    "column_header = list(df.columns.values)\n",
    "\n",
    "\n",
    "for i in range(1005):\n",
    "    for column in range(len(column_header)):\n",
    "        df[column_header[column]][i] = int(X_teams[i].tolist()[0][column])"
   ]
  },
  {
   "cell_type": "markdown",
   "metadata": {},
   "source": [
    "## Yes, it has been added, see below for evidence."
   ]
  },
  {
   "cell_type": "code",
   "execution_count": 267,
   "metadata": {
    "collapsed": false,
    "scrolled": true
   },
   "outputs": [
    {
     "data": {
      "text/html": [
       "<div>\n",
       "<table border=\"1\" class=\"dataframe\">\n",
       "  <thead>\n",
       "    <tr style=\"text-align: right;\">\n",
       "      <th></th>\n",
       "      <th>teamA1</th>\n",
       "      <th>teamA2</th>\n",
       "      <th>teamA3</th>\n",
       "      <th>teamA4</th>\n",
       "      <th>teamA5</th>\n",
       "      <th>teamA6</th>\n",
       "      <th>teamA7</th>\n",
       "      <th>teamA8</th>\n",
       "      <th>teamA9</th>\n",
       "      <th>teamA10</th>\n",
       "      <th>...</th>\n",
       "      <th>teamB5</th>\n",
       "      <th>teamB6</th>\n",
       "      <th>teamB7</th>\n",
       "      <th>teamB8</th>\n",
       "      <th>teamB9</th>\n",
       "      <th>teamB10</th>\n",
       "      <th>teamB11</th>\n",
       "      <th>teamB12</th>\n",
       "      <th>teamB13</th>\n",
       "      <th>teamB14</th>\n",
       "    </tr>\n",
       "  </thead>\n",
       "  <tbody>\n",
       "    <tr>\n",
       "      <th>0</th>\n",
       "      <td>0</td>\n",
       "      <td>1</td>\n",
       "      <td>0</td>\n",
       "      <td>0</td>\n",
       "      <td>0</td>\n",
       "      <td>0</td>\n",
       "      <td>0</td>\n",
       "      <td>0</td>\n",
       "      <td>0</td>\n",
       "      <td>0</td>\n",
       "      <td>...</td>\n",
       "      <td>0</td>\n",
       "      <td>0</td>\n",
       "      <td>1</td>\n",
       "      <td>0</td>\n",
       "      <td>0</td>\n",
       "      <td>0</td>\n",
       "      <td>0</td>\n",
       "      <td>0</td>\n",
       "      <td>0</td>\n",
       "      <td>0</td>\n",
       "    </tr>\n",
       "    <tr>\n",
       "      <th>1</th>\n",
       "      <td>0</td>\n",
       "      <td>0</td>\n",
       "      <td>0</td>\n",
       "      <td>0</td>\n",
       "      <td>0</td>\n",
       "      <td>0</td>\n",
       "      <td>0</td>\n",
       "      <td>0</td>\n",
       "      <td>0</td>\n",
       "      <td>1</td>\n",
       "      <td>...</td>\n",
       "      <td>0</td>\n",
       "      <td>0</td>\n",
       "      <td>0</td>\n",
       "      <td>0</td>\n",
       "      <td>0</td>\n",
       "      <td>0</td>\n",
       "      <td>0</td>\n",
       "      <td>0</td>\n",
       "      <td>1</td>\n",
       "      <td>0</td>\n",
       "    </tr>\n",
       "    <tr>\n",
       "      <th>2</th>\n",
       "      <td>0</td>\n",
       "      <td>1</td>\n",
       "      <td>0</td>\n",
       "      <td>0</td>\n",
       "      <td>0</td>\n",
       "      <td>0</td>\n",
       "      <td>0</td>\n",
       "      <td>0</td>\n",
       "      <td>0</td>\n",
       "      <td>0</td>\n",
       "      <td>...</td>\n",
       "      <td>0</td>\n",
       "      <td>0</td>\n",
       "      <td>0</td>\n",
       "      <td>0</td>\n",
       "      <td>0</td>\n",
       "      <td>0</td>\n",
       "      <td>0</td>\n",
       "      <td>0</td>\n",
       "      <td>1</td>\n",
       "      <td>0</td>\n",
       "    </tr>\n",
       "    <tr>\n",
       "      <th>3</th>\n",
       "      <td>0</td>\n",
       "      <td>0</td>\n",
       "      <td>0</td>\n",
       "      <td>0</td>\n",
       "      <td>0</td>\n",
       "      <td>0</td>\n",
       "      <td>0</td>\n",
       "      <td>0</td>\n",
       "      <td>0</td>\n",
       "      <td>1</td>\n",
       "      <td>...</td>\n",
       "      <td>1</td>\n",
       "      <td>0</td>\n",
       "      <td>0</td>\n",
       "      <td>0</td>\n",
       "      <td>0</td>\n",
       "      <td>0</td>\n",
       "      <td>0</td>\n",
       "      <td>0</td>\n",
       "      <td>0</td>\n",
       "      <td>0</td>\n",
       "    </tr>\n",
       "    <tr>\n",
       "      <th>4</th>\n",
       "      <td>0</td>\n",
       "      <td>0</td>\n",
       "      <td>0</td>\n",
       "      <td>0</td>\n",
       "      <td>0</td>\n",
       "      <td>0</td>\n",
       "      <td>0</td>\n",
       "      <td>0</td>\n",
       "      <td>0</td>\n",
       "      <td>1</td>\n",
       "      <td>...</td>\n",
       "      <td>1</td>\n",
       "      <td>0</td>\n",
       "      <td>0</td>\n",
       "      <td>0</td>\n",
       "      <td>0</td>\n",
       "      <td>0</td>\n",
       "      <td>0</td>\n",
       "      <td>0</td>\n",
       "      <td>0</td>\n",
       "      <td>0</td>\n",
       "    </tr>\n",
       "    <tr>\n",
       "      <th>5</th>\n",
       "      <td>0</td>\n",
       "      <td>0</td>\n",
       "      <td>0</td>\n",
       "      <td>0</td>\n",
       "      <td>0</td>\n",
       "      <td>0</td>\n",
       "      <td>0</td>\n",
       "      <td>0</td>\n",
       "      <td>0</td>\n",
       "      <td>1</td>\n",
       "      <td>...</td>\n",
       "      <td>1</td>\n",
       "      <td>0</td>\n",
       "      <td>0</td>\n",
       "      <td>0</td>\n",
       "      <td>0</td>\n",
       "      <td>0</td>\n",
       "      <td>0</td>\n",
       "      <td>0</td>\n",
       "      <td>0</td>\n",
       "      <td>0</td>\n",
       "    </tr>\n",
       "    <tr>\n",
       "      <th>...</th>\n",
       "      <td>...</td>\n",
       "      <td>...</td>\n",
       "      <td>...</td>\n",
       "      <td>...</td>\n",
       "      <td>...</td>\n",
       "      <td>...</td>\n",
       "      <td>...</td>\n",
       "      <td>...</td>\n",
       "      <td>...</td>\n",
       "      <td>...</td>\n",
       "      <td>...</td>\n",
       "      <td>...</td>\n",
       "      <td>...</td>\n",
       "      <td>...</td>\n",
       "      <td>...</td>\n",
       "      <td>...</td>\n",
       "      <td>...</td>\n",
       "      <td>...</td>\n",
       "      <td>...</td>\n",
       "      <td>...</td>\n",
       "      <td>...</td>\n",
       "    </tr>\n",
       "    <tr>\n",
       "      <th>108</th>\n",
       "      <td>0</td>\n",
       "      <td>0</td>\n",
       "      <td>0</td>\n",
       "      <td>1</td>\n",
       "      <td>0</td>\n",
       "      <td>0</td>\n",
       "      <td>0</td>\n",
       "      <td>0</td>\n",
       "      <td>0</td>\n",
       "      <td>0</td>\n",
       "      <td>...</td>\n",
       "      <td>1</td>\n",
       "      <td>0</td>\n",
       "      <td>0</td>\n",
       "      <td>0</td>\n",
       "      <td>0</td>\n",
       "      <td>0</td>\n",
       "      <td>0</td>\n",
       "      <td>0</td>\n",
       "      <td>0</td>\n",
       "      <td>0</td>\n",
       "    </tr>\n",
       "    <tr>\n",
       "      <th>109</th>\n",
       "      <td>0</td>\n",
       "      <td>0</td>\n",
       "      <td>0</td>\n",
       "      <td>1</td>\n",
       "      <td>0</td>\n",
       "      <td>0</td>\n",
       "      <td>0</td>\n",
       "      <td>0</td>\n",
       "      <td>0</td>\n",
       "      <td>0</td>\n",
       "      <td>...</td>\n",
       "      <td>1</td>\n",
       "      <td>0</td>\n",
       "      <td>0</td>\n",
       "      <td>0</td>\n",
       "      <td>0</td>\n",
       "      <td>0</td>\n",
       "      <td>0</td>\n",
       "      <td>0</td>\n",
       "      <td>0</td>\n",
       "      <td>0</td>\n",
       "    </tr>\n",
       "    <tr>\n",
       "      <th>110</th>\n",
       "      <td>0</td>\n",
       "      <td>0</td>\n",
       "      <td>0</td>\n",
       "      <td>1</td>\n",
       "      <td>0</td>\n",
       "      <td>0</td>\n",
       "      <td>0</td>\n",
       "      <td>0</td>\n",
       "      <td>0</td>\n",
       "      <td>0</td>\n",
       "      <td>...</td>\n",
       "      <td>1</td>\n",
       "      <td>0</td>\n",
       "      <td>0</td>\n",
       "      <td>0</td>\n",
       "      <td>0</td>\n",
       "      <td>0</td>\n",
       "      <td>0</td>\n",
       "      <td>0</td>\n",
       "      <td>0</td>\n",
       "      <td>0</td>\n",
       "    </tr>\n",
       "    <tr>\n",
       "      <th>111</th>\n",
       "      <td>0</td>\n",
       "      <td>0</td>\n",
       "      <td>0</td>\n",
       "      <td>0</td>\n",
       "      <td>1</td>\n",
       "      <td>0</td>\n",
       "      <td>0</td>\n",
       "      <td>0</td>\n",
       "      <td>0</td>\n",
       "      <td>0</td>\n",
       "      <td>...</td>\n",
       "      <td>0</td>\n",
       "      <td>0</td>\n",
       "      <td>0</td>\n",
       "      <td>0</td>\n",
       "      <td>0</td>\n",
       "      <td>0</td>\n",
       "      <td>0</td>\n",
       "      <td>0</td>\n",
       "      <td>0</td>\n",
       "      <td>0</td>\n",
       "    </tr>\n",
       "    <tr>\n",
       "      <th>112</th>\n",
       "      <td>0</td>\n",
       "      <td>0</td>\n",
       "      <td>0</td>\n",
       "      <td>0</td>\n",
       "      <td>0</td>\n",
       "      <td>0</td>\n",
       "      <td>0</td>\n",
       "      <td>0</td>\n",
       "      <td>0</td>\n",
       "      <td>0</td>\n",
       "      <td>...</td>\n",
       "      <td>0</td>\n",
       "      <td>0</td>\n",
       "      <td>0</td>\n",
       "      <td>0</td>\n",
       "      <td>0</td>\n",
       "      <td>0</td>\n",
       "      <td>0</td>\n",
       "      <td>0</td>\n",
       "      <td>0</td>\n",
       "      <td>0</td>\n",
       "    </tr>\n",
       "    <tr>\n",
       "      <th>113</th>\n",
       "      <td>0</td>\n",
       "      <td>0</td>\n",
       "      <td>0</td>\n",
       "      <td>0</td>\n",
       "      <td>1</td>\n",
       "      <td>0</td>\n",
       "      <td>0</td>\n",
       "      <td>0</td>\n",
       "      <td>0</td>\n",
       "      <td>0</td>\n",
       "      <td>...</td>\n",
       "      <td>0</td>\n",
       "      <td>0</td>\n",
       "      <td>0</td>\n",
       "      <td>0</td>\n",
       "      <td>0</td>\n",
       "      <td>0</td>\n",
       "      <td>0</td>\n",
       "      <td>0</td>\n",
       "      <td>0</td>\n",
       "      <td>0</td>\n",
       "    </tr>\n",
       "    <tr>\n",
       "      <th>114</th>\n",
       "      <td>0</td>\n",
       "      <td>0</td>\n",
       "      <td>0</td>\n",
       "      <td>0</td>\n",
       "      <td>0</td>\n",
       "      <td>0</td>\n",
       "      <td>0</td>\n",
       "      <td>0</td>\n",
       "      <td>0</td>\n",
       "      <td>0</td>\n",
       "      <td>...</td>\n",
       "      <td>0</td>\n",
       "      <td>0</td>\n",
       "      <td>0</td>\n",
       "      <td>0</td>\n",
       "      <td>0</td>\n",
       "      <td>0</td>\n",
       "      <td>0</td>\n",
       "      <td>0</td>\n",
       "      <td>0</td>\n",
       "      <td>0</td>\n",
       "    </tr>\n",
       "    <tr>\n",
       "      <th>115</th>\n",
       "      <td>0</td>\n",
       "      <td>0</td>\n",
       "      <td>0</td>\n",
       "      <td>0</td>\n",
       "      <td>1</td>\n",
       "      <td>0</td>\n",
       "      <td>0</td>\n",
       "      <td>0</td>\n",
       "      <td>0</td>\n",
       "      <td>0</td>\n",
       "      <td>...</td>\n",
       "      <td>0</td>\n",
       "      <td>0</td>\n",
       "      <td>0</td>\n",
       "      <td>0</td>\n",
       "      <td>0</td>\n",
       "      <td>0</td>\n",
       "      <td>0</td>\n",
       "      <td>0</td>\n",
       "      <td>0</td>\n",
       "      <td>0</td>\n",
       "    </tr>\n",
       "  </tbody>\n",
       "</table>\n",
       "<p>116 rows × 28 columns</p>\n",
       "</div>"
      ],
      "text/plain": [
       "     teamA1  teamA2  teamA3  teamA4  teamA5  teamA6  teamA7  teamA8  teamA9  \\\n",
       "0         0       1       0       0       0       0       0       0       0   \n",
       "1         0       0       0       0       0       0       0       0       0   \n",
       "2         0       1       0       0       0       0       0       0       0   \n",
       "3         0       0       0       0       0       0       0       0       0   \n",
       "4         0       0       0       0       0       0       0       0       0   \n",
       "5         0       0       0       0       0       0       0       0       0   \n",
       "6         0       0       1       0       0       0       0       0       0   \n",
       "7         0       0       0       0       0       0       0       0       0   \n",
       "8         0       0       1       0       0       0       0       0       0   \n",
       "9         0       0       0       0       0       0       0       1       0   \n",
       "10        0       0       1       0       0       0       0       0       0   \n",
       "11        0       0       1       0       0       0       0       0       0   \n",
       "12        0       0       0       0       0       0       0       1       0   \n",
       "13        0       0       0       0       0       0       0       1       0   \n",
       "14        0       0       0       0       0       0       0       1       0   \n",
       "15        0       0       0       0       0       0       1       0       0   \n",
       "16        0       0       0       0       0       0       1       0       0   \n",
       "17        0       0       0       0       0       0       1       0       0   \n",
       "18        0       1       0       0       0       0       0       0       0   \n",
       "19        0       1       0       0       0       0       0       0       0   \n",
       "20        0       0       0       1       0       0       0       0       0   \n",
       "21        0       1       0       0       0       0       0       0       0   \n",
       "22        0       1       0       0       0       0       0       0       0   \n",
       "23        0       0       0       1       0       0       0       0       0   \n",
       "24        0       1       0       0       0       0       0       0       0   \n",
       "25        0       0       0       0       1       0       0       0       0   \n",
       "26        0       1       0       0       0       0       0       0       0   \n",
       "27        0       0       0       1       0       0       0       0       0   \n",
       "28        0       0       0       0       1       0       0       0       0   \n",
       "29        0       1       0       0       0       0       0       0       0   \n",
       "..      ...     ...     ...     ...     ...     ...     ...     ...     ...   \n",
       "86        0       0       1       0       0       0       0       0       0   \n",
       "87        0       0       1       0       0       0       0       0       0   \n",
       "88        0       0       0       0       0       1       0       0       0   \n",
       "89        0       0       0       0       0       1       0       0       0   \n",
       "90        0       0       0       0       1       0       0       0       0   \n",
       "91        0       0       0       0       1       0       0       0       0   \n",
       "92        0       0       0       1       0       0       0       0       0   \n",
       "93        0       0       0       0       1       0       0       0       0   \n",
       "94        0       0       0       1       0       0       0       0       0   \n",
       "95        0       0       0       1       0       0       0       0       0   \n",
       "96        0       0       0       0       0       1       0       0       0   \n",
       "97        0       0       0       0       0       0       0       0       0   \n",
       "98        0       0       0       0       0       0       0       0       0   \n",
       "99        0       0       0       0       0       0       0       0       0   \n",
       "100       0       0       0       0       0       0       0       0       1   \n",
       "101       0       0       0       1       0       0       0       0       0   \n",
       "102       0       0       0       0       0       0       0       0       0   \n",
       "103       0       0       0       1       0       0       0       0       0   \n",
       "104       0       0       0       0       0       0       0       0       0   \n",
       "105       0       0       0       0       0       0       0       0       0   \n",
       "106       0       0       0       1       0       0       0       0       0   \n",
       "107       0       0       0       1       0       0       0       0       0   \n",
       "108       0       0       0       1       0       0       0       0       0   \n",
       "109       0       0       0       1       0       0       0       0       0   \n",
       "110       0       0       0       1       0       0       0       0       0   \n",
       "111       0       0       0       0       1       0       0       0       0   \n",
       "112       0       0       0       0       0       0       0       0       0   \n",
       "113       0       0       0       0       1       0       0       0       0   \n",
       "114       0       0       0       0       0       0       0       0       0   \n",
       "115       0       0       0       0       1       0       0       0       0   \n",
       "\n",
       "     teamA10   ...     teamB5  teamB6  teamB7  teamB8  teamB9  teamB10  \\\n",
       "0          0   ...          0       0       1       0       0        0   \n",
       "1          1   ...          0       0       0       0       0        0   \n",
       "2          0   ...          0       0       0       0       0        0   \n",
       "3          1   ...          1       0       0       0       0        0   \n",
       "4          1   ...          1       0       0       0       0        0   \n",
       "5          1   ...          1       0       0       0       0        0   \n",
       "6          0   ...          0       0       0       0       0        0   \n",
       "7          1   ...          1       0       0       0       0        0   \n",
       "8          0   ...          0       0       0       0       0        0   \n",
       "9          0   ...          0       0       0       0       0        0   \n",
       "10         0   ...          0       0       0       0       0        0   \n",
       "11         0   ...          0       0       0       0       0        0   \n",
       "12         0   ...          0       0       0       0       0        0   \n",
       "13         0   ...          0       0       0       0       0        0   \n",
       "14         0   ...          0       0       0       0       0        0   \n",
       "15         0   ...          0       0       0       0       0        0   \n",
       "16         0   ...          0       0       0       0       0        0   \n",
       "17         0   ...          0       0       0       0       0        0   \n",
       "18         0   ...          0       0       0       0       0        0   \n",
       "19         0   ...          0       0       1       0       0        0   \n",
       "20         0   ...          0       0       1       0       0        0   \n",
       "21         0   ...          0       0       0       0       0        0   \n",
       "22         0   ...          0       0       1       0       0        0   \n",
       "23         0   ...          0       0       1       0       0        0   \n",
       "24         0   ...          0       0       0       0       0        0   \n",
       "25         0   ...          0       0       0       0       0        0   \n",
       "26         0   ...          0       0       1       0       0        0   \n",
       "27         0   ...          0       0       1       0       0        0   \n",
       "28         0   ...          0       0       0       0       0        0   \n",
       "29         0   ...          0       0       0       0       0        0   \n",
       "..       ...   ...        ...     ...     ...     ...     ...      ...   \n",
       "86         0   ...          1       0       0       0       0        0   \n",
       "87         0   ...          1       0       0       0       0        0   \n",
       "88         0   ...          1       0       0       0       0        0   \n",
       "89         0   ...          0       0       0       0       0        1   \n",
       "90         0   ...          0       0       0       0       0        1   \n",
       "91         0   ...          0       0       0       0       0        1   \n",
       "92         0   ...          0       0       0       0       0        0   \n",
       "93         0   ...          0       0       0       0       0        1   \n",
       "94         0   ...          0       0       0       0       0        0   \n",
       "95         0   ...          0       0       0       0       0        0   \n",
       "96         0   ...          0       0       0       0       0        0   \n",
       "97         0   ...          0       0       0       0       0        0   \n",
       "98         0   ...          0       0       0       0       0        0   \n",
       "99         0   ...          0       0       0       0       0        0   \n",
       "100        0   ...          1       0       0       0       0        0   \n",
       "101        0   ...          1       0       0       0       0        0   \n",
       "102        0   ...          0       0       0       0       0        1   \n",
       "103        0   ...          1       0       0       0       0        0   \n",
       "104        0   ...          0       0       0       0       0        1   \n",
       "105        0   ...          0       0       0       0       0        1   \n",
       "106        0   ...          1       0       0       0       0        0   \n",
       "107        0   ...          1       0       0       0       0        0   \n",
       "108        0   ...          1       0       0       0       0        0   \n",
       "109        0   ...          1       0       0       0       0        0   \n",
       "110        0   ...          1       0       0       0       0        0   \n",
       "111        0   ...          0       0       0       0       0        0   \n",
       "112        0   ...          0       0       0       0       0        0   \n",
       "113        0   ...          0       0       0       0       0        0   \n",
       "114        0   ...          0       0       0       0       0        0   \n",
       "115        0   ...          0       0       0       0       0        0   \n",
       "\n",
       "     teamB11  teamB12  teamB13  teamB14  \n",
       "0          0        0        0        0  \n",
       "1          0        0        1        0  \n",
       "2          0        0        1        0  \n",
       "3          0        0        0        0  \n",
       "4          0        0        0        0  \n",
       "5          0        0        0        0  \n",
       "6          0        0        0        1  \n",
       "7          0        0        0        0  \n",
       "8          0        0        0        1  \n",
       "9          0        0        1        0  \n",
       "10         0        0        0        1  \n",
       "11         0        0        0        1  \n",
       "12         0        0        1        0  \n",
       "13         0        0        1        0  \n",
       "14         0        0        1        0  \n",
       "15         1        0        0        0  \n",
       "16         1        0        0        0  \n",
       "17         1        0        0        0  \n",
       "18         0        0        0        0  \n",
       "19         0        0        0        0  \n",
       "20         0        0        0        0  \n",
       "21         0        0        0        0  \n",
       "22         0        0        0        0  \n",
       "23         0        0        0        0  \n",
       "24         0        0        0        0  \n",
       "25         0        0        1        0  \n",
       "26         0        0        0        0  \n",
       "27         0        0        0        0  \n",
       "28         0        0        1        0  \n",
       "29         0        0        0        0  \n",
       "..       ...      ...      ...      ...  \n",
       "86         0        0        0        0  \n",
       "87         0        0        0        0  \n",
       "88         0        0        0        0  \n",
       "89         0        0        0        0  \n",
       "90         0        0        0        0  \n",
       "91         0        0        0        0  \n",
       "92         0        0        1        0  \n",
       "93         0        0        0        0  \n",
       "94         0        0        1        0  \n",
       "95         0        0        1        0  \n",
       "96         0        0        1        0  \n",
       "97         0        0        0        0  \n",
       "98         0        0        0        0  \n",
       "99         0        0        0        0  \n",
       "100        0        0        0        0  \n",
       "101        0        0        0        0  \n",
       "102        0        0        0        0  \n",
       "103        0        0        0        0  \n",
       "104        0        0        0        0  \n",
       "105        0        0        0        0  \n",
       "106        0        0        0        0  \n",
       "107        0        0        0        0  \n",
       "108        0        0        0        0  \n",
       "109        0        0        0        0  \n",
       "110        0        0        0        0  \n",
       "111        0        0        0        0  \n",
       "112        0        0        0        0  \n",
       "113        0        0        0        0  \n",
       "114        0        0        0        0  \n",
       "115        0        0        0        0  \n",
       "\n",
       "[116 rows x 28 columns]"
      ]
     },
     "execution_count": 267,
     "metadata": {},
     "output_type": "execute_result"
    }
   ],
   "source": [
    "df.ix[:115]"
   ]
  },
  {
   "cell_type": "markdown",
   "metadata": {},
   "source": [
    "# Now need to add these 28 columns to our original dataframe of results-\n",
    "## Actually not into results but make a copy of results and leave results untouched."
   ]
  },
  {
   "cell_type": "code",
   "execution_count": 280,
   "metadata": {
    "collapsed": false,
    "scrolled": true
   },
   "outputs": [
    {
     "data": {
      "text/html": [
       "<div>\n",
       "<table border=\"1\" class=\"dataframe\">\n",
       "  <thead>\n",
       "    <tr style=\"text-align: right;\">\n",
       "      <th></th>\n",
       "      <th>rankTeamA</th>\n",
       "      <th>pointsTeamA</th>\n",
       "      <th>RatingTeamA</th>\n",
       "      <th>rankTeamB</th>\n",
       "      <th>pointsTeamB</th>\n",
       "      <th>RatingTeamB</th>\n",
       "      <th>winnerNumber</th>\n",
       "      <th>winnerName</th>\n",
       "      <th>winnerIsAorB_1or2</th>\n",
       "      <th>home_groundOfAorB_1or2</th>\n",
       "      <th>...</th>\n",
       "      <th>teamB5</th>\n",
       "      <th>teamB6</th>\n",
       "      <th>teamB7</th>\n",
       "      <th>teamB8</th>\n",
       "      <th>teamB9</th>\n",
       "      <th>teamB10</th>\n",
       "      <th>teamB11</th>\n",
       "      <th>teamB12</th>\n",
       "      <th>teamB13</th>\n",
       "      <th>teamB14</th>\n",
       "    </tr>\n",
       "  </thead>\n",
       "  <tbody>\n",
       "    <tr>\n",
       "      <th>0</th>\n",
       "      <td>1</td>\n",
       "      <td>4889</td>\n",
       "      <td>129</td>\n",
       "      <td>3</td>\n",
       "      <td>4284</td>\n",
       "      <td>116</td>\n",
       "      <td>1</td>\n",
       "      <td>Australia</td>\n",
       "      <td>1</td>\n",
       "      <td>0</td>\n",
       "      <td>...</td>\n",
       "      <td>0</td>\n",
       "      <td>0</td>\n",
       "      <td>1</td>\n",
       "      <td>0</td>\n",
       "      <td>0</td>\n",
       "      <td>0</td>\n",
       "      <td>0</td>\n",
       "      <td>0</td>\n",
       "      <td>0</td>\n",
       "      <td>0</td>\n",
       "    </tr>\n",
       "    <tr>\n",
       "      <th>1</th>\n",
       "      <td>4</td>\n",
       "      <td>5131</td>\n",
       "      <td>112</td>\n",
       "      <td>8</td>\n",
       "      <td>2471</td>\n",
       "      <td>88</td>\n",
       "      <td>8</td>\n",
       "      <td>West Indies</td>\n",
       "      <td>2</td>\n",
       "      <td>0</td>\n",
       "      <td>...</td>\n",
       "      <td>0</td>\n",
       "      <td>0</td>\n",
       "      <td>0</td>\n",
       "      <td>0</td>\n",
       "      <td>0</td>\n",
       "      <td>0</td>\n",
       "      <td>0</td>\n",
       "      <td>0</td>\n",
       "      <td>1</td>\n",
       "      <td>0</td>\n",
       "    </tr>\n",
       "    <tr>\n",
       "      <th>2</th>\n",
       "      <td>1</td>\n",
       "      <td>4889</td>\n",
       "      <td>129</td>\n",
       "      <td>8</td>\n",
       "      <td>2471</td>\n",
       "      <td>88</td>\n",
       "      <td>1</td>\n",
       "      <td>Australia</td>\n",
       "      <td>1</td>\n",
       "      <td>0</td>\n",
       "      <td>...</td>\n",
       "      <td>0</td>\n",
       "      <td>0</td>\n",
       "      <td>0</td>\n",
       "      <td>0</td>\n",
       "      <td>0</td>\n",
       "      <td>0</td>\n",
       "      <td>0</td>\n",
       "      <td>0</td>\n",
       "      <td>1</td>\n",
       "      <td>0</td>\n",
       "    </tr>\n",
       "    <tr>\n",
       "      <th>3</th>\n",
       "      <td>4</td>\n",
       "      <td>5131</td>\n",
       "      <td>112</td>\n",
       "      <td>2</td>\n",
       "      <td>5278</td>\n",
       "      <td>117</td>\n",
       "      <td>4</td>\n",
       "      <td>South Africa</td>\n",
       "      <td>1</td>\n",
       "      <td>1</td>\n",
       "      <td>...</td>\n",
       "      <td>1</td>\n",
       "      <td>0</td>\n",
       "      <td>0</td>\n",
       "      <td>0</td>\n",
       "      <td>0</td>\n",
       "      <td>0</td>\n",
       "      <td>0</td>\n",
       "      <td>0</td>\n",
       "      <td>0</td>\n",
       "      <td>0</td>\n",
       "    </tr>\n",
       "    <tr>\n",
       "      <th>4</th>\n",
       "      <td>4</td>\n",
       "      <td>5131</td>\n",
       "      <td>112</td>\n",
       "      <td>2</td>\n",
       "      <td>5278</td>\n",
       "      <td>117</td>\n",
       "      <td>4</td>\n",
       "      <td>South Africa</td>\n",
       "      <td>1</td>\n",
       "      <td>1</td>\n",
       "      <td>...</td>\n",
       "      <td>1</td>\n",
       "      <td>0</td>\n",
       "      <td>0</td>\n",
       "      <td>0</td>\n",
       "      <td>0</td>\n",
       "      <td>0</td>\n",
       "      <td>0</td>\n",
       "      <td>0</td>\n",
       "      <td>0</td>\n",
       "      <td>0</td>\n",
       "    </tr>\n",
       "  </tbody>\n",
       "</table>\n",
       "<p>5 rows × 40 columns</p>\n",
       "</div>"
      ],
      "text/plain": [
       "   rankTeamA  pointsTeamA  RatingTeamA  rankTeamB  pointsTeamB  RatingTeamB  \\\n",
       "0          1         4889          129          3         4284          116   \n",
       "1          4         5131          112          8         2471           88   \n",
       "2          1         4889          129          8         2471           88   \n",
       "3          4         5131          112          2         5278          117   \n",
       "4          4         5131          112          2         5278          117   \n",
       "\n",
       "   winnerNumber    winnerName  winnerIsAorB_1or2  home_groundOfAorB_1or2  \\\n",
       "0             1     Australia                  1                       0   \n",
       "1             8   West Indies                  2                       0   \n",
       "2             1     Australia                  1                       0   \n",
       "3             4  South Africa                  1                       1   \n",
       "4             4  South Africa                  1                       1   \n",
       "\n",
       "    ...    teamB5 teamB6  teamB7  teamB8  teamB9  teamB10  teamB11  teamB12  \\\n",
       "0   ...         0      0       1       0       0        0        0        0   \n",
       "1   ...         0      0       0       0       0        0        0        0   \n",
       "2   ...         0      0       0       0       0        0        0        0   \n",
       "3   ...         1      0       0       0       0        0        0        0   \n",
       "4   ...         1      0       0       0       0        0        0        0   \n",
       "\n",
       "   teamB13  teamB14  \n",
       "0        0        0  \n",
       "1        1        0  \n",
       "2        1        0  \n",
       "3        0        0  \n",
       "4        0        0  \n",
       "\n",
       "[5 rows x 40 columns]"
      ]
     },
     "execution_count": 280,
     "metadata": {},
     "output_type": "execute_result"
    }
   ],
   "source": [
    "hotencodedDf = results.copy(deep=True)\n",
    "\n",
    "for i in range(14):\n",
    "    hotencodedDf[\"teamA\" + str(i+1)] = df[\"teamA\" + str(i+1)]\n",
    "    \n",
    "for i in range(14):\n",
    "    hotencodedDf[\"teamB\" + str(i+1)] = df[\"teamB\" + str(i+1)]\n",
    "\n",
    "hotencodedDf.ix[:4,4:]  ## Careful, u included the winner column too"
   ]
  },
  {
   "cell_type": "markdown",
   "metadata": {},
   "source": [
    "# You are ready to test but have you splitted the data yet?? So do it now."
   ]
  },
  {
   "cell_type": "code",
   "execution_count": 281,
   "metadata": {
    "collapsed": false,
    "scrolled": true
   },
   "outputs": [
    {
     "name": "stderr",
     "output_type": "stream",
     "text": [
      "C:\\Anaconda2\\lib\\site-packages\\ipykernel\\__main__.py:28: SettingWithCopyWarning: \n",
      "A value is trying to be set on a copy of a slice from a DataFrame\n",
      "\n",
      "See the caveats in the documentation: http://pandas.pydata.org/pandas-docs/stable/indexing.html#indexing-view-versus-copy\n",
      "C:\\Anaconda2\\lib\\site-packages\\ipykernel\\__main__.py:32: SettingWithCopyWarning: \n",
      "A value is trying to be set on a copy of a slice from a DataFrame\n",
      "\n",
      "See the caveats in the documentation: http://pandas.pydata.org/pandas-docs/stable/indexing.html#indexing-view-versus-copy\n"
     ]
    },
    {
     "name": "stdout",
     "output_type": "stream",
     "text": [
      "loop ended successfully\n",
      "length of training 807\n",
      "length of testing 198\n"
     ]
    }
   ],
   "source": [
    "train, test = splitIntoTrainingAndTesting(hotencodedDf)\n",
    "# And make deep copy to avoid any confusion\n",
    "\n",
    "trainDfAfterEncoding = train.copy(deep = True)\n",
    "testDfAfterEncoding = test.copy(deep = True)\n",
    "# hotencodedDf.ix[:4,4:]\n"
   ]
  },
  {
   "cell_type": "code",
   "execution_count": 328,
   "metadata": {
    "collapsed": false
   },
   "outputs": [
    {
     "data": {
      "text/html": [
       "<div>\n",
       "<table border=\"1\" class=\"dataframe\">\n",
       "  <thead>\n",
       "    <tr style=\"text-align: right;\">\n",
       "      <th></th>\n",
       "      <th>teamA</th>\n",
       "      <th>teamB</th>\n",
       "      <th>city</th>\n",
       "      <th>home_ground_of</th>\n",
       "      <th>rankTeamA</th>\n",
       "      <th>pointsTeamA</th>\n",
       "      <th>RatingTeamA</th>\n",
       "      <th>rankTeamB</th>\n",
       "      <th>pointsTeamB</th>\n",
       "      <th>RatingTeamB</th>\n",
       "      <th>...</th>\n",
       "      <th>teamB5</th>\n",
       "      <th>teamB6</th>\n",
       "      <th>teamB7</th>\n",
       "      <th>teamB8</th>\n",
       "      <th>teamB9</th>\n",
       "      <th>teamB10</th>\n",
       "      <th>teamB11</th>\n",
       "      <th>teamB12</th>\n",
       "      <th>teamB13</th>\n",
       "      <th>teamB14</th>\n",
       "    </tr>\n",
       "  </thead>\n",
       "  <tbody>\n",
       "    <tr>\n",
       "      <th>0</th>\n",
       "      <td>Australia</td>\n",
       "      <td>New Zealand</td>\n",
       "      <td>Chandigarh</td>\n",
       "      <td>none</td>\n",
       "      <td>1</td>\n",
       "      <td>4889</td>\n",
       "      <td>129</td>\n",
       "      <td>3</td>\n",
       "      <td>4284</td>\n",
       "      <td>116</td>\n",
       "      <td>...</td>\n",
       "      <td>0</td>\n",
       "      <td>0</td>\n",
       "      <td>1</td>\n",
       "      <td>0</td>\n",
       "      <td>0</td>\n",
       "      <td>0</td>\n",
       "      <td>0</td>\n",
       "      <td>0</td>\n",
       "      <td>0</td>\n",
       "      <td>0</td>\n",
       "    </tr>\n",
       "    <tr>\n",
       "      <th>1</th>\n",
       "      <td>South Africa</td>\n",
       "      <td>West Indies</td>\n",
       "      <td>Jaipur</td>\n",
       "      <td>none</td>\n",
       "      <td>4</td>\n",
       "      <td>5131</td>\n",
       "      <td>112</td>\n",
       "      <td>8</td>\n",
       "      <td>2471</td>\n",
       "      <td>88</td>\n",
       "      <td>...</td>\n",
       "      <td>0</td>\n",
       "      <td>0</td>\n",
       "      <td>0</td>\n",
       "      <td>0</td>\n",
       "      <td>0</td>\n",
       "      <td>0</td>\n",
       "      <td>0</td>\n",
       "      <td>0</td>\n",
       "      <td>1</td>\n",
       "      <td>0</td>\n",
       "    </tr>\n",
       "    <tr>\n",
       "      <th>2</th>\n",
       "      <td>Australia</td>\n",
       "      <td>West Indies</td>\n",
       "      <td>Mumbai</td>\n",
       "      <td>none</td>\n",
       "      <td>1</td>\n",
       "      <td>4889</td>\n",
       "      <td>129</td>\n",
       "      <td>8</td>\n",
       "      <td>2471</td>\n",
       "      <td>88</td>\n",
       "      <td>...</td>\n",
       "      <td>0</td>\n",
       "      <td>0</td>\n",
       "      <td>0</td>\n",
       "      <td>0</td>\n",
       "      <td>0</td>\n",
       "      <td>0</td>\n",
       "      <td>0</td>\n",
       "      <td>0</td>\n",
       "      <td>1</td>\n",
       "      <td>0</td>\n",
       "    </tr>\n",
       "    <tr>\n",
       "      <th>3</th>\n",
       "      <td>South Africa</td>\n",
       "      <td>India</td>\n",
       "      <td>Durban</td>\n",
       "      <td>South Africa</td>\n",
       "      <td>4</td>\n",
       "      <td>5131</td>\n",
       "      <td>112</td>\n",
       "      <td>2</td>\n",
       "      <td>5278</td>\n",
       "      <td>117</td>\n",
       "      <td>...</td>\n",
       "      <td>1</td>\n",
       "      <td>0</td>\n",
       "      <td>0</td>\n",
       "      <td>0</td>\n",
       "      <td>0</td>\n",
       "      <td>0</td>\n",
       "      <td>0</td>\n",
       "      <td>0</td>\n",
       "      <td>0</td>\n",
       "      <td>0</td>\n",
       "    </tr>\n",
       "    <tr>\n",
       "      <th>4</th>\n",
       "      <td>South Africa</td>\n",
       "      <td>India</td>\n",
       "      <td>Cape Town</td>\n",
       "      <td>South Africa</td>\n",
       "      <td>4</td>\n",
       "      <td>5131</td>\n",
       "      <td>112</td>\n",
       "      <td>2</td>\n",
       "      <td>5278</td>\n",
       "      <td>117</td>\n",
       "      <td>...</td>\n",
       "      <td>1</td>\n",
       "      <td>0</td>\n",
       "      <td>0</td>\n",
       "      <td>0</td>\n",
       "      <td>0</td>\n",
       "      <td>0</td>\n",
       "      <td>0</td>\n",
       "      <td>0</td>\n",
       "      <td>0</td>\n",
       "      <td>0</td>\n",
       "    </tr>\n",
       "    <tr>\n",
       "      <th>5</th>\n",
       "      <td>South Africa</td>\n",
       "      <td>India</td>\n",
       "      <td>Port Elizabeth</td>\n",
       "      <td>South Africa</td>\n",
       "      <td>4</td>\n",
       "      <td>5131</td>\n",
       "      <td>112</td>\n",
       "      <td>2</td>\n",
       "      <td>5278</td>\n",
       "      <td>117</td>\n",
       "      <td>...</td>\n",
       "      <td>1</td>\n",
       "      <td>0</td>\n",
       "      <td>0</td>\n",
       "      <td>0</td>\n",
       "      <td>0</td>\n",
       "      <td>0</td>\n",
       "      <td>0</td>\n",
       "      <td>0</td>\n",
       "      <td>0</td>\n",
       "      <td>0</td>\n",
       "    </tr>\n",
       "  </tbody>\n",
       "</table>\n",
       "<p>6 rows × 44 columns</p>\n",
       "</div>"
      ],
      "text/plain": [
       "          teamA        teamB            city home_ground_of  rankTeamA  \\\n",
       "0     Australia  New Zealand      Chandigarh           none          1   \n",
       "1  South Africa  West Indies          Jaipur           none          4   \n",
       "2     Australia  West Indies          Mumbai           none          1   \n",
       "3  South Africa        India          Durban   South Africa          4   \n",
       "4  South Africa        India       Cape Town   South Africa          4   \n",
       "5  South Africa        India  Port Elizabeth   South Africa          4   \n",
       "\n",
       "   pointsTeamA  RatingTeamA  rankTeamB  pointsTeamB  RatingTeamB   ...     \\\n",
       "0         4889          129          3         4284          116   ...      \n",
       "1         5131          112          8         2471           88   ...      \n",
       "2         4889          129          8         2471           88   ...      \n",
       "3         5131          112          2         5278          117   ...      \n",
       "4         5131          112          2         5278          117   ...      \n",
       "5         5131          112          2         5278          117   ...      \n",
       "\n",
       "   teamB5 teamB6  teamB7  teamB8 teamB9 teamB10  teamB11  teamB12  teamB13  \\\n",
       "0       0      0       1       0      0       0        0        0        0   \n",
       "1       0      0       0       0      0       0        0        0        1   \n",
       "2       0      0       0       0      0       0        0        0        1   \n",
       "3       1      0       0       0      0       0        0        0        0   \n",
       "4       1      0       0       0      0       0        0        0        0   \n",
       "5       1      0       0       0      0       0        0        0        0   \n",
       "\n",
       "   teamB14  \n",
       "0        0  \n",
       "1        0  \n",
       "2        0  \n",
       "3        0  \n",
       "4        0  \n",
       "5        0  \n",
       "\n",
       "[6 rows x 44 columns]"
      ]
     },
     "execution_count": 328,
     "metadata": {},
     "output_type": "execute_result"
    }
   ],
   "source": [
    "trainDfAfterEncoding.ix[:5]"
   ]
  },
  {
   "cell_type": "code",
   "execution_count": 313,
   "metadata": {
    "collapsed": false
   },
   "outputs": [
    {
     "data": {
      "text/plain": [
       "array([[1L, 4889L, 129L, ..., 0, 0, 0],\n",
       "       [4L, 5131L, 112L, ..., 0, 1, 0],\n",
       "       [1L, 4889L, 129L, ..., 0, 1, 0],\n",
       "       ..., \n",
       "       [11L, 1250L, 45L, ..., 0, 0, 0],\n",
       "       [11L, 1250L, 45L, ..., 0, 0, 0],\n",
       "       [11L, 1250L, 45L, ..., 0, 0, 0]], dtype=object)"
      ]
     },
     "execution_count": 313,
     "metadata": {},
     "output_type": "execute_result"
    }
   ],
   "source": [
    "trainDfAfterEncodingAsFeatures = trainDfAfterEncoding.ix[:,[4,5,6,7,8,9,13,14,15,16,17,18,19,20,21,22,23,24,25,26,27,28,29,30,31,32,33,34,35,36,37,38,39,40,41,42,43]]\n",
    "trainDfAfterEncodingAsFeatures.head()\n",
    "\n",
    "testDfAfterEncodingAsFeatures = testDfAfterEncoding.ix[:,[4,5,6,7,8,9,13,14,15,16,17,18,19,20,21,22,23,24,25,26,27,28,29,30,31,32,33,34,35,36,37,38,39,40,41,42,43]]\n",
    "testDfAfterEncodingAsFeatures.head()\n",
    "\n",
    "features = trainDfAfterEncodingAsFeatures.values\n",
    "features"
   ]
  },
  {
   "cell_type": "code",
   "execution_count": null,
   "metadata": {
    "collapsed": true
   },
   "outputs": [],
   "source": []
  },
  {
   "cell_type": "code",
   "execution_count": null,
   "metadata": {
    "collapsed": true
   },
   "outputs": [],
   "source": []
  },
  {
   "cell_type": "markdown",
   "metadata": {},
   "source": [
    "## Let's try to find the best model with these features by using the combination method from collections in python"
   ]
  },
  {
   "cell_type": "code",
   "execution_count": 306,
   "metadata": {
    "collapsed": false
   },
   "outputs": [
    {
     "name": "stdout",
     "output_type": "stream",
     "text": [
      "['home_groundOfAorB_1or2']\n",
      "0.535303188853 29 ['home_groundOfAorB_1or2', 'teamA1', 'teamA2', 'teamA3', 'teamA4', 'teamA5', 'teamA6', 'teamA7', 'teamA8', 'teamA9', 'teamA10', 'teamA11', 'teamA12', 'teamA13', 'teamA14', 'teamB1', 'teamB2', 'teamB3', 'teamB4', 'teamB5', 'teamB6', 'teamB7', 'teamB8', 'teamB9', 'teamB10', 'teamB11', 'teamB12', 'teamB13', 'teamB14']\n",
      "['rankTeamA']\n",
      "0.562569991372 29 ['rankTeamA', 'teamA1', 'teamA2', 'teamA3', 'teamA4', 'teamA5', 'teamA6', 'teamA7', 'teamA8', 'teamA9', 'teamA10', 'teamA11', 'teamA12', 'teamA13', 'teamA14', 'teamB1', 'teamB2', 'teamB3', 'teamB4', 'teamB5', 'teamB6', 'teamB7', 'teamB8', 'teamB9', 'teamB10', 'teamB11', 'teamB12', 'teamB13', 'teamB14']\n",
      "['rankTeamB']\n",
      "0.56382754126 29 ['rankTeamB', 'teamA1', 'teamA2', 'teamA3', 'teamA4', 'teamA5', 'teamA6', 'teamA7', 'teamA8', 'teamA9', 'teamA10', 'teamA11', 'teamA12', 'teamA13', 'teamA14', 'teamB1', 'teamB2', 'teamB3', 'teamB4', 'teamB5', 'teamB6', 'teamB7', 'teamB8', 'teamB9', 'teamB10', 'teamB11', 'teamB12', 'teamB13', 'teamB14']\n",
      "['teamALastWin']\n",
      "0.526555414808 29 ['teamALastWin', 'teamA1', 'teamA2', 'teamA3', 'teamA4', 'teamA5', 'teamA6', 'teamA7', 'teamA8', 'teamA9', 'teamA10', 'teamA11', 'teamA12', 'teamA13', 'teamA14', 'teamB1', 'teamB2', 'teamB3', 'teamB4', 'teamB5', 'teamB6', 'teamB7', 'teamB8', 'teamB9', 'teamB10', 'teamB11', 'teamB12', 'teamB13', 'teamB14']\n",
      "['teamBLastWin']\n",
      "0.531571845569 29 ['teamBLastWin', 'teamA1', 'teamA2', 'teamA3', 'teamA4', 'teamA5', 'teamA6', 'teamA7', 'teamA8', 'teamA9', 'teamA10', 'teamA11', 'teamA12', 'teamA13', 'teamA14', 'teamB1', 'teamB2', 'teamB3', 'teamB4', 'teamB5', 'teamB6', 'teamB7', 'teamB8', 'teamB9', 'teamB10', 'teamB11', 'teamB12', 'teamB13', 'teamB14']\n",
      "['pointsTeamA']\n",
      "0.574994033522 29 ['pointsTeamA', 'teamA1', 'teamA2', 'teamA3', 'teamA4', 'teamA5', 'teamA6', 'teamA7', 'teamA8', 'teamA9', 'teamA10', 'teamA11', 'teamA12', 'teamA13', 'teamA14', 'teamB1', 'teamB2', 'teamB3', 'teamB4', 'teamB5', 'teamB6', 'teamB7', 'teamB8', 'teamB9', 'teamB10', 'teamB11', 'teamB12', 'teamB13', 'teamB14']\n",
      "['pointsTeamB']\n",
      "0.567572653338 29 ['pointsTeamB', 'teamA1', 'teamA2', 'teamA3', 'teamA4', 'teamA5', 'teamA6', 'teamA7', 'teamA8', 'teamA9', 'teamA10', 'teamA11', 'teamA12', 'teamA13', 'teamA14', 'teamB1', 'teamB2', 'teamB3', 'teamB4', 'teamB5', 'teamB6', 'teamB7', 'teamB8', 'teamB9', 'teamB10', 'teamB11', 'teamB12', 'teamB13', 'teamB14']\n",
      "['RatingTeamA']\n",
      "0.562569991372 29 ['RatingTeamA', 'teamA1', 'teamA2', 'teamA3', 'teamA4', 'teamA5', 'teamA6', 'teamA7', 'teamA8', 'teamA9', 'teamA10', 'teamA11', 'teamA12', 'teamA13', 'teamA14', 'teamB1', 'teamB2', 'teamB3', 'teamB4', 'teamB5', 'teamB6', 'teamB7', 'teamB8', 'teamB9', 'teamB10', 'teamB11', 'teamB12', 'teamB13', 'teamB14']\n",
      "['RatingTeamB']\n",
      "0.576251583411 31 ['rankTeamB', 'pointsTeamA', 'RatingTeamB', 'teamA1', 'teamA2', 'teamA3', 'teamA4', 'teamA5', 'teamA6', 'teamA7', 'teamA8', 'teamA9', 'teamA10', 'teamA11', 'teamA12', 'teamA13', 'teamA14', 'teamB1', 'teamB2', 'teamB3', 'teamB4', 'teamB5', 'teamB6', 'teamB7', 'teamB8', 'teamB9', 'teamB10', 'teamB11', 'teamB12', 'teamB13', 'teamB14']\n",
      "#########################################################\n",
      "['rankTeamB', 'pointsTeamA', 'RatingTeamB', 'teamA1', 'teamA2', 'teamA3', 'teamA4', 'teamA5', 'teamA6', 'teamA7', 'teamA8', 'teamA9', 'teamA10', 'teamA11', 'teamA12', 'teamA13', 'teamA14', 'teamB1', 'teamB2', 'teamB3', 'teamB4', 'teamB5', 'teamB6', 'teamB7', 'teamB8', 'teamB9', 'teamB10', 'teamB11', 'teamB12', 'teamB13', 'teamB14']\n",
      "(0.53530318885278405, 29, [])\n",
      "(0.5625699913715555, 29, [])\n",
      "(0.56382754126048729, 29, [])\n",
      "(0.56757265333847362, 29, [])\n",
      "(0.5625699913715555, 29, [])\n",
      "(0.56382754126048729, 29, [])\n",
      "(0.53399056378623488, 30, [])\n",
      "(0.53281562666372928, 30, [])\n",
      "(0.5315718455692019, 30, [])\n",
      "(0.54036092599731966, 30, [])\n",
      "(0.54148078794220778, 30, [])\n",
      "(0.53902076334196181, 30, [])\n",
      "(0.57375025242789734, 30, [])\n",
      "(0.5700189091443153, 30, [])\n",
      "(0.57252024012777447, 30, [])\n",
      "(0.56878889684419232, 30, [])\n",
      "(0.56754511574966493, 30, [])\n",
      "(0.57375025242789734, 30, [])\n",
      "(0.53654696994731144, 31, [])\n",
      "(0.538993225753153, 31, [])\n",
      "(0.53893815057553562, 31, [])\n",
      "(0.52902920820252974, 31, [])\n",
      "(0.54406473169209313, 31, [])\n",
      "(0.53662958271373762, 31, [])\n",
      "(0.54779607497567506, 31, [])\n",
      "(0.54027831323089348, 31, [])\n",
      "(0.57126269023884257, 31, [])\n",
      "(0.56754511574966493, 31, [])\n",
      "\n\n",
      " Now sorted list on scores\n",
      "(0.48809458243836173, 31, [])\n",
      "(0.49302840043325807, 30, [])\n",
      "(0.52898790181931676, 31, [])\n",
      "(0.52902920820252974, 31, [])\n",
      "(0.53028675809146153, 31, [])\n",
      "(0.53150300159718011, 31, [])\n",
      "(0.53151677039158451, 30, [])\n",
      "(0.5315718455692019, 29, [])\n",
      "(0.5315718455692019, 30, [])\n",
      "(0.53273301389730321, 30, [])\n",
      "(0.5402094692588717, 30, [])\n",
      "(0.54025077564208479, 30, [])\n",
      "(0.54646968111472161, 30, [])\n",
      "(0.54895724330377638, 31, [])\n",
      "(0.54902608727579816, 31, [])\n",
      "(0.55644746745974916, 31, [])\n",
      "(0.55885241688237774, 31, [])\n",
      "(0.55893502964880393, 30, [])\n",
      "(0.5625699913715555, 29, [])\n",
      "(0.5625699913715555, 29, [])\n",
      "(0.5625699913715555, 30, [])\n",
      "(0.56757265333847362, 29, [])\n",
      "(0.56878889684419232, 30, [])\n",
      "(0.56878889684419232, 30, [])\n",
      "(0.5700189091443153, 30, [])\n",
      "(0.5700189091443153, 30, [])\n",
      "(0.57375025242789734, 30, [])\n",
      "(0.57375025242789734, 31, [])\n",
      "(0.57375025242789734, 31, [])\n",
      "(0.57499403352242473, 29, [])\n"
     ]
    }
   ],
   "source": [
    "import itertools\n",
    "\n",
    "feature_list = [\"home_groundOfAorB_1or2\",\"rankTeamA\", \"rankTeamB\",\"teamALastWin\",\"teamBLastWin\", \"pointsTeamA\", \"pointsTeamB\",\"RatingTeamA\",\"RatingTeamB\"]\n",
    "# encoded_team_list = ['teamA1','teamB1']\n",
    "encoded_team_list = ['teamA1','teamA2', 'teamA3', 'teamA4', 'teamA5', 'teamA6', 'teamA7', 'teamA8', 'teamA9', 'teamA10', 'teamA11', 'teamA12', 'teamA13', 'teamA14', 'teamB1','teamB2', 'teamB3', 'teamB4', 'teamB5', 'teamB6', 'teamB7', 'teamB8', 'teamB9', 'teamB10', 'teamB11', 'teamB12', 'teamB13', 'teamB14']\n",
    "\n",
    "\n",
    "lst = feature_list\n",
    "combs = []\n",
    "score_list=[]\n",
    "\n",
    "for i in xrange(1, len(lst)+1):\n",
    "    els = [list(x) for x in itertools.combinations(lst, i)]\n",
    "    combs.extend(els)\n",
    "\n",
    "    \n",
    "# for this_combination in combs:\n",
    "#     print this_combination\n",
    "#     del this_combination[:]\n",
    "\n",
    "for this_combination in combs:\n",
    "    print this_combination\n",
    "    for j in range(len(encoded_team_list)):\n",
    "        this_combination.append(encoded_team_list[j])\n",
    "        \n",
    "    features = trainDfAfterEncodingAsFeatures[this_combination].values\n",
    "    \n",
    "    clf = DecisionTreeClassifier(random_state=14)\n",
    "    scores = cross_val_score(clf, features, y_true)\n",
    "    print np.mean(scores), len(this_combination), this_combination\n",
    "#     if np.mean(scores) == 0.57625158341135652:\n",
    "#         print '#########################################################'           \n",
    "#         print this_combination\n",
    "#         break\n",
    "    combi = this_combination\n",
    "    score_list.append((np.mean(scores), len(this_combination), this_combination))\n",
    "    \n",
    "    del this_combination[:]\n",
    "\n",
    "for i in range(len(score_list)):\n",
    "    print score_list[i]\n",
    "\n",
    "print \"\\n Now sorted list on scores\"\n",
    "\n",
    "sorted_by_scores = sorted(score_list, key=lambda tup: tup[0])\n",
    "# del score_list[:]\n",
    "\n",
    "for i in range(len(sorted_by_scores)):\n",
    "    print sorted_by_scores[i]\n"
   ]
  },
  {
   "cell_type": "markdown",
   "metadata": {},
   "source": [
    "## The above gives best result of 0.57625 with featuresa as -\n",
    "### 'rankTeamB', 'pointsTeamA', 'RatingTeamB' and one hot encoding of team names."
   ]
  },
  {
   "cell_type": "markdown",
   "metadata": {},
   "source": [
    "## Need to fit and predict.\n",
    "- Fitting the model with rankTeamA and pointsTeamA"
   ]
  },
  {
   "cell_type": "code",
   "execution_count": 221,
   "metadata": {
    "collapsed": false,
    "scrolled": true
   },
   "outputs": [
    {
     "name": "stdout",
     "output_type": "stream",
     "text": [
      "[   1 4889    0    1    0    0    0    0    0    0    0    0    0    0    0\n",
      "    0    0    0    0    0    0    0    1    0    0    0    0    0    0    0]\n",
      "Cross_Val_Score 0.564986309687\n",
      "(1005L, 30L)\n",
      "None\n"
     ]
    }
   ],
   "source": [
    "justFeatureDF = results[[\"rankTeamA\", \"pointsTeamA\", 'teamA1', 'teamA2', 'teamA3', 'teamA4', 'teamA5', 'teamA6', 'teamA7', 'teamA8', 'teamA9', 'teamA10', 'teamA11', 'teamA12', 'teamA13', 'teamA14', 'teamB1', 'teamB2', 'teamB3', 'teamB4', 'teamB5', 'teamB6', 'teamB7', 'teamB8', 'teamB9', 'teamB10', 'teamB11', 'teamB12', 'teamB13', 'teamB14']]\n",
    "features = results[[\"rankTeamA\", \"pointsTeamA\", 'teamA1', 'teamA2', 'teamA3', 'teamA4', 'teamA5', 'teamA6', 'teamA7', 'teamA8', 'teamA9', 'teamA10', 'teamA11', 'teamA12', 'teamA13', 'teamA14', 'teamB1', 'teamB2', 'teamB3', 'teamB4', 'teamB5', 'teamB6', 'teamB7', 'teamB8', 'teamB9', 'teamB10', 'teamB11', 'teamB12', 'teamB13', 'teamB14']].values\n",
    "print features[0]\n",
    "clf = DecisionTreeClassifier(random_state=14)\n",
    "scores = cross_val_score(clf, features, y_true,scoring=scorer)\n",
    "print \"Cross_Val_Score\", np.mean(scores)\n",
    "print features.shape\n",
    "print features.dtype.names"
   ]
  },
  {
   "cell_type": "markdown",
   "metadata": {},
   "source": [
    "# Feature Importance"
   ]
  },
  {
   "cell_type": "code",
   "execution_count": 314,
   "metadata": {
    "collapsed": false,
    "scrolled": false
   },
   "outputs": [
    {
     "data": {
      "text/plain": [
       "array([ 0.04393278,  0.14730185,  0.03335284,  0.01512507,  0.12866377,\n",
       "        0.1336197 ,  0.07727996,  0.09165517,  0.09630439,  0.        ,\n",
       "        0.00776888,  0.00855614,  0.01069819,  0.00298227,  0.00434931,\n",
       "        0.01515906,  0.00646508,  0.        ,  0.01803466,  0.01105764,\n",
       "        0.00588201,  0.00851438,  0.0009608 ,  0.00525881,  0.00807905,\n",
       "        0.00877404,  0.01346892,  0.01397509,  0.        ,  0.03417699,\n",
       "        0.0039952 ,  0.0015393 ,  0.03507835,  0.0035474 ,  0.00180593,\n",
       "        0.00263696,  0.        ])"
      ]
     },
     "execution_count": 314,
     "metadata": {},
     "output_type": "execute_result"
    }
   ],
   "source": [
    "clf.fit(features, y_true)\n",
    "clf.feature_importances_"
   ]
  },
  {
   "cell_type": "markdown",
   "metadata": {},
   "source": [
    "## Rakesh, can you help me with this plot below. WHy is it not showing up? is it .plot(), .show()?"
   ]
  },
  {
   "cell_type": "code",
   "execution_count": 351,
   "metadata": {
    "collapsed": false,
    "scrolled": true
   },
   "outputs": [
    {
     "name": "stdout",
     "output_type": "stream",
     "text": [
      "teamB14                   0.000000\n",
      "teamA9                    0.000000\n",
      "teamB6                    0.000000\n",
      "teamA1                    0.000000\n",
      "teamA14                   0.000961\n",
      "teamB9                    0.001539\n",
      "teamB12                   0.001806\n",
      "teamB13                   0.002637\n",
      "teamA5                    0.002982\n",
      "teamB11                   0.003547\n",
      "teamB8                    0.003995\n",
      "teamA6                    0.004349\n",
      "teamB1                    0.005259\n",
      "teamA12                   0.005882\n",
      "teamA8                    0.006465\n",
      "teamA2                    0.007769\n",
      "teamB2                    0.008079\n",
      "teamA13                   0.008514\n",
      "teamA3                    0.008556\n",
      "teamB3                    0.008774\n",
      "teamA4                    0.010698\n",
      "teamA11                   0.011058\n",
      "teamB4                    0.013469\n",
      "teamB5                    0.013975\n",
      "rankTeamB                 0.015125\n",
      "teamA7                    0.015159\n",
      "teamA10                   0.018035\n",
      "RatingTeamA               0.033353\n",
      "teamB7                    0.034177\n",
      "teamB10                   0.035078\n",
      "rankTeamA                 0.043933\n",
      "home_groundOfAorB_1or2    0.077280\n",
      "teamALastWin              0.091655\n",
      "teamBLastWin              0.096304\n",
      "pointsTeamB               0.128664\n",
      "RatingTeamB               0.133620\n",
      "pointsTeamA               0.147302\n",
      "dtype: float64 Index([u'rankTeamA', u'pointsTeamA', u'RatingTeamA', u'rankTeamB',\n",
      "       u'pointsTeamB', u'RatingTeamB', u'home_groundOfAorB_1or2',\n",
      "       u'teamALastWin', u'teamBLastWin', u'teamA1', u'teamA2', u'teamA3',\n",
      "       u'teamA4', u'teamA5', u'teamA6', u'teamA7', u'teamA8', u'teamA9',\n",
      "       u'teamA10', u'teamA11', u'teamA12', u'teamA13', u'teamA14', u'teamB1',\n",
      "       u'teamB2', u'teamB3', u'teamB4', u'teamB5', u'teamB6', u'teamB7',\n",
      "       u'teamB8', u'teamB9', u'teamB10', u'teamB11', u'teamB12', u'teamB13',\n",
      "       u'teamB14'],\n",
      "      dtype='object')\n",
      "37\n"
     ]
    }
   ],
   "source": [
    "## Unable to show the plot here, any Idea Rakesh?\n",
    "import matplotlib.pyplot as plt\n",
    "import matplotlib\n",
    "matplotlib.style.use('ggplot')\n",
    "feature_importance = pd.Series(clf.feature_importances_, index=trainDfAfterEncodingAsFeatures.columns)\n",
    "feature_importance.sort_values(inplace=True)\n",
    "print feature_importance, trainDfAfterEncodingAsFeatures.columns\n",
    "print len(trainDfAfterEncodingAsFeatures.columns)\n",
    "feature_importance.plot(kind='barh', figsize=(7,6));\n",
    "trainDfAfterEncodingAsFeatures.plot()\n",
    "plt.show()\n"
   ]
  },
  {
   "cell_type": "markdown",
   "metadata": {},
   "source": [
    "# Let's Plot the feature Importance Graph Before moving on to Random\n",
    "# Forest Classifier"
   ]
  },
  {
   "cell_type": "code",
   "execution_count": 367,
   "metadata": {
    "collapsed": false
   },
   "outputs": [
    {
     "name": "stderr",
     "output_type": "stream",
     "text": [
      "C:\\Anaconda2\\lib\\site-packages\\ipykernel\\__main__.py:18: FutureWarning: sort is deprecated, use sort_values(inplace=True) for for INPLACE sorting\n"
     ]
    }
   ],
   "source": [
    "def graph_feature_importance(model, feature_names, autoscale=True, headroom=0.05, width=10, summarized_columns=None):\n",
    "    if autoscale:\n",
    "        x_scale = model.feature_importances_.max() + headroom\n",
    "    else:\n",
    "        x_scale =1\n",
    "    \n",
    "    feature_dict = dict(zip(feature_names, model.feature_importances_))\n",
    "    \n",
    "    if summarized_columns:\n",
    "        for col_name in summarized_columns:\n",
    "            sum_value = sum(x for i, x in feature_dict.iteritems() if col_name in i )\n",
    "            keys_to_remove = [i for  i in feature_dict.keys() if col_name in i ]\n",
    "            for i in keys_to_remove:\n",
    "                feature_dict.pop(i)\n",
    "            feature_dict[col_name] = sum_value\n",
    "    \n",
    "    resultsFig = pd.Series(feature_dict.values(), index=feature_dict.keys())\n",
    "    resultsFig.sort(axis=1)\n",
    "    resultsFig.plot(kind=\"barh\", figsize=(width,len(resultsFig)/4), xlim=(0,x_scale))\n",
    "#     fig = plt.figure()\n",
    "#     ax = fig.add_subplot(111)\n",
    "    \n",
    "    plt.show()\n",
    "\n",
    "categorical_variables = list(trainDfAfterEncodingAsFeatures.dtypes[trainDfAfterEncodingAsFeatures.dtypes == 'object'].index)\n",
    "# trainDfAfterEncodingAsFeatures[categorical_variables].head()\n",
    "graph_feature_importance(clf, trainDfAfterEncodingAsFeatures.columns, summarized_columns = categorical_variables)"
   ]
  },
  {
   "cell_type": "markdown",
   "metadata": {},
   "source": [
    "# This above doesn't work since DecisionTreeClassifier' object has no attribute 'feature_importance_ and I should use this in RandomForest"
   ]
  },
  {
   "cell_type": "markdown",
   "metadata": {},
   "source": [
    "## Trying RandomForest for experimenting"
   ]
  },
  {
   "cell_type": "code",
   "execution_count": 268,
   "metadata": {
    "collapsed": false
   },
   "outputs": [
    {
     "data": {
      "text/plain": [
       "[0,\n",
       " 0,\n",
       " 0,\n",
       " 1,\n",
       " 1,\n",
       " 1,\n",
       " 1,\n",
       " 1,\n",
       " 1,\n",
       " 1,\n",
       " 1,\n",
       " 1,\n",
       " 1,\n",
       " 1,\n",
       " 1,\n",
       " 1,\n",
       " 1,\n",
       " 1,\n",
       " 1,\n",
       " 1,\n",
       " 1,\n",
       " ...]"
      ]
     },
     "execution_count": 268,
     "metadata": {},
     "output_type": "execute_result"
    }
   ],
   "source": [
    "features"
   ]
  },
  {
   "cell_type": "code",
   "execution_count": 373,
   "metadata": {
    "collapsed": false,
    "scrolled": false
   },
   "outputs": [
    {
     "data": {
      "text/plain": [
       "RandomForestClassifier(bootstrap=True, class_weight=None, criterion='gini',\n",
       "            max_depth=3, max_features='auto', max_leaf_nodes=5,\n",
       "            min_samples_leaf=4, min_samples_split=2,\n",
       "            min_weight_fraction_leaf=0.0, n_estimators=50, n_jobs=1,\n",
       "            oob_score=True, random_state=None, verbose=0, warm_start=False)"
      ]
     },
     "execution_count": 373,
     "metadata": {},
     "output_type": "execute_result"
    }
   ],
   "source": [
    "from sklearn.ensemble import RandomForestClassifier\n",
    "from sklearn.metrics import roc_auc_score\n",
    "model = RandomForestClassifier(n_estimators=50, oob_score=True, max_depth=3, max_leaf_nodes=5, min_samples_leaf=4)\n",
    "model.fit(trainDf,y_true) # with only Ranks, Points, Rating, Homeground, Lastwins\n",
    "# model.fit(trainDfAfterEncodingAsFeatures,y_true) #with only Ranks, Points, Rating, Homeground, Lastwins, AND Encoded features"
   ]
  },
  {
   "cell_type": "code",
   "execution_count": 394,
   "metadata": {
    "collapsed": false
   },
   "outputs": [
    {
     "data": {
      "text/plain": [
       "GridSearchCV(cv=None, error_score='raise',\n",
       "       estimator=RandomForestClassifier(bootstrap=True, class_weight=None, criterion='gini',\n",
       "            max_depth=3, max_features='auto', max_leaf_nodes=5,\n",
       "            min_samples_leaf=4, min_samples_split=2,\n",
       "            min_weight_fraction_leaf=0.0, n_estimators=50, n_jobs=1,\n",
       "            oob_score=True, random_state=None, verbose=0, warm_start=False),\n",
       "       fit_params={}, iid=True, loss_func=None, n_jobs=1,\n",
       "       param_grid={'n_estimators': (50, 100, 500, 1000), 'max_leaf_nodes': (2, 4, 5, 7), 'max_depth': (3, 5, 7, 10), 'min_samples_leaf': (2, 3, 4, 6)},\n",
       "       pre_dispatch='2*n_jobs', refit=True, score_func=None, scoring=None,\n",
       "       verbose=0)"
      ]
     },
     "execution_count": 394,
     "metadata": {},
     "output_type": "execute_result"
    }
   ],
   "source": [
    "from sklearn import grid_search\n",
    "parameters = {'n_estimators':(50, 100,500,1000),'max_depth':(3,5,7,10),'max_leaf_nodes':(2,4,5,7),'min_samples_leaf':(2,3,4,6)}\n",
    "clf = grid_search.GridSearchCV(model, parameters)\n",
    "clf.fit(trainDf,y_true)\n"
   ]
  },
  {
   "cell_type": "code",
   "execution_count": 334,
   "metadata": {
    "collapsed": false,
    "scrolled": true
   },
   "outputs": [
    {
     "ename": "AttributeError",
     "evalue": "'DecisionTreeClassifier' object has no attribute 'best_params_'",
     "output_type": "error",
     "traceback": [
      "\u001b[1;31m---------------------------------------------------------------------------\u001b[0m",
      "\u001b[1;31mAttributeError\u001b[0m                            Traceback (most recent call last)",
      "\u001b[1;32m<ipython-input-334-1c4e62b18b3d>\u001b[0m in \u001b[0;36m<module>\u001b[1;34m()\u001b[0m\n\u001b[1;32m----> 1\u001b[1;33m \u001b[0mclf\u001b[0m\u001b[1;33m.\u001b[0m\u001b[0mbest_params_\u001b[0m\u001b[1;33m\u001b[0m\u001b[0m\n\u001b[0m",
      "\u001b[1;31mAttributeError\u001b[0m: 'DecisionTreeClassifier' object has no attribute 'best_params_'"
     ]
    }
   ],
   "source": [
    "clf.best_params_"
   ]
  },
  {
   "cell_type": "code",
   "execution_count": 374,
   "metadata": {
    "collapsed": false,
    "scrolled": false
   },
   "outputs": [
    {
     "name": "stdout",
     "output_type": "stream",
     "text": [
      "oob_score 0.644361833953\n",
      "score 0.648079306072\n",
      "0.623203742044\n"
     ]
    }
   ],
   "source": [
    "print \"oob_score\", model.oob_score_\n",
    "# print \"oob_score\", clf.oob_score_ #For grid_csv\n",
    "print \"score\", model.score(trainDf,y_true) #Returns the coefficient of determination R^2 of the prediction.\n",
    "# print \"score\", model.score(trainDfAfterEncodingAsFeatures,y_true) #Returns the coefficient of determination R^2 of the prediction.\n",
    "cross_val = sklearn.cross_validation.cross_val_score(model, trainDf, y_true, cv=5)\n",
    "# cross_val = sklearn.cross_validation.cross_val_score(model, trainDfAfterEncodingAsFeatures, y_true, cv=5)\n",
    "# print cross_val_score.mean\n",
    "# print np.mean(cross_val)\n",
    "print np.mean(cross_val)\n"
   ]
  },
  {
   "cell_type": "code",
   "execution_count": 370,
   "metadata": {
    "collapsed": false
   },
   "outputs": [
    {
     "name": "stdout",
     "output_type": "stream",
     "text": [
      "807\n"
     ]
    },
    {
     "name": "stderr",
     "output_type": "stream",
     "text": [
      "C:\\Anaconda2\\lib\\site-packages\\ipykernel\\__main__.py:18: FutureWarning: sort is deprecated, use sort_values(inplace=True) for for INPLACE sorting\n"
     ]
    }
   ],
   "source": [
    "## Trying to plot the graph\n",
    "# graph_feature_importance(model, trainDfAfterEncodingAsFeatures.columns, summarized_columns = categorical_variables)\n",
    "graph_feature_importance(model, trainDf.columns, summarized_columns = categorical_variables)\n"
   ]
  },
  {
   "cell_type": "markdown",
   "metadata": {},
   "source": [
    "## Let's predict the world cup matches\n"
   ]
  },
  {
   "cell_type": "code",
   "execution_count": 381,
   "metadata": {
    "collapsed": false,
    "scrolled": true
   },
   "outputs": [
    {
     "data": {
      "text/plain": [
       "Index([u'rankTeamA', u'pointsTeamA', u'RatingTeamA', u'rankTeamB',\n",
       "       u'pointsTeamB', u'RatingTeamB', u'home_groundOfAorB_1or2',\n",
       "       u'teamALastWin', u'teamBLastWin'],\n",
       "      dtype='object')"
      ]
     },
     "execution_count": 381,
     "metadata": {},
     "output_type": "execute_result"
    }
   ],
   "source": [
    "testDf.columns\n",
    "# pool1=[\"New Zealand\", \"Australia\", \"Sri Lanka\", \"Bangladesh\", \"England\", \"Afghanistan\", \"Scotland\"]\n",
    "# pool2=[\"India\", \"South Africa\", \"Pakistan\", \"West Indies\", \"Ireland\", \"Zimbabwe\", \"United Arab Emirates\"]\n",
    "\n",
    "# import itertools\n",
    "# list(itertools.combinations(pool1,2))"
   ]
  },
  {
   "cell_type": "code",
   "execution_count": null,
   "metadata": {
    "collapsed": true
   },
   "outputs": [],
   "source": [
    "teamRating = {\"New Zealand\":3, \"Australia\", \"Sri Lanka\", \"Bangladesh\", \"England\", \"Afghanistan\", \"Scotland\",\n",
    "             \"India\", \"South Africa\", \"Pakistan\", \"West Indies\", \"Ireland\", \"Zimbabwe\", \"United Arab Emirates\"}\n"
   ]
  },
  {
   "cell_type": "code",
   "execution_count": 393,
   "metadata": {
    "collapsed": false,
    "scrolled": true
   },
   "outputs": [
    {
     "data": {
      "text/plain": [
       "array([1], dtype=int64)"
      ]
     },
     "execution_count": 393,
     "metadata": {},
     "output_type": "execute_result"
    }
   ],
   "source": [
    "nz = [3,4284,116 ,5,5811,106, 1, True,False]\n",
    "nzwi = []\n",
    "SLSA = [5,5811,106, 4,5131,112,0, True,False]\n",
    "InBa = [2,5278,117,7,3094,96,0,True,False]\n",
    "SriNz = [5,5811,106, 3,4284,116,1,False,True]\n",
    "NzAus = [3,4284,116,1,4889,129,2,True,True]\n",
    "model.predict(NzAus)\n",
    "# a =  [1, 0, 0, 0, 0, 0, 0, 0, 0, 0, 0, 0, 0, 0]\n",
    "# b =  [0, 0, 0, 0, 1, 0, 0, 0, 0, 0, 0, 0, 0, 0]\n",
    "# input_for_predicting = [3, 4, a[0], a[1], a[2],a[3],a[4],a[5],a[6],a[7],a[8],a[9],a[10],a[11],a[12],a[13], b[0],b[1],b[2],b[3],b[4],b[5],b[6],b[7],b[8],b[9],b[10],b[11],b[12],b[13]]\n",
    "# clf.predict(input_for_predicting)"
   ]
  },
  {
   "cell_type": "markdown",
   "metadata": {},
   "source": [
    "## Rakesh, need help in calculating this C-Stat Score.\n",
    "- U must be wondering why am I interested in C-Stat score with RandomForest when I already have cross_val_score from DecisionTree.\n",
    "- This is because, I have the intuition that RandomForest might give me a better score and I will have better score to show to leman. If I go ahead with just the cross_val_score, I will have to lie as the score from Decision tree is as low as 0.57"
   ]
  },
  {
   "cell_type": "code",
   "execution_count": 185,
   "metadata": {
    "collapsed": false,
    "scrolled": true
   },
   "outputs": [
    {
     "name": "stdout",
     "output_type": "stream",
     "text": [
      "[ 0.92986263  0.98048473  0.91310385 ...,  1.05816704  1.38981526\n",
      "  1.6015873 ]\n"
     ]
    },
    {
     "data": {
      "text/plain": [
       "array([ 0.14060507,  0.20489716,  0.00219963,  0.00997314,  0.01728387,\n",
       "        0.0208175 ,  0.01019713,  0.01727822,  0.00676036,  0.00436816,\n",
       "        0.00067557,  0.01132397,  0.01725618,  0.00514591,  0.01706523,\n",
       "        0.00916741,  0.01341935,  0.03935191,  0.02933408,  0.0265886 ,\n",
       "        0.0393802 ,  0.01896208,  0.05096352,  0.03031806,  0.02551364,\n",
       "        0.05864157,  0.04019553,  0.015927  ,  0.03589662,  0.08049332])"
      ]
     },
     "execution_count": 185,
     "metadata": {},
     "output_type": "execute_result"
    }
   ],
   "source": [
    "y_oob = model.oob_prediction_\n",
    "# print \"C-Stat: \", roc_auc_score(y_true,y_oob)   #Getting error with, some issue in type of arguments passed. Rakesh, Could u check once?\n",
    "print y_oob"
   ]
  },
  {
   "cell_type": "markdown",
   "metadata": {},
   "source": [
    "## Could Draw a graph out of this"
   ]
  },
  {
   "cell_type": "code",
   "execution_count": 181,
   "metadata": {
    "collapsed": false,
    "scrolled": false
   },
   "outputs": [
    {
     "data": {
      "text/html": [
       "<table border=\"1\" class=\"dataframe\">\n",
       "  <thead>\n",
       "    <tr style=\"text-align: right;\">\n",
       "      <th></th>\n",
       "      <th>teamA</th>\n",
       "      <th>teamB</th>\n",
       "      <th>city</th>\n",
       "      <th>home_ground_of</th>\n",
       "      <th>winnerName</th>\n",
       "    </tr>\n",
       "  </thead>\n",
       "  <tbody>\n",
       "    <tr>\n",
       "      <th>count</th>\n",
       "      <td>1005</td>\n",
       "      <td>1005</td>\n",
       "      <td>811</td>\n",
       "      <td>1005</td>\n",
       "      <td>1005</td>\n",
       "    </tr>\n",
       "    <tr>\n",
       "      <th>unique</th>\n",
       "      <td>14</td>\n",
       "      <td>14</td>\n",
       "      <td>90</td>\n",
       "      <td>14</td>\n",
       "      <td>15</td>\n",
       "    </tr>\n",
       "    <tr>\n",
       "      <th>top</th>\n",
       "      <td>Australia</td>\n",
       "      <td>Sri Lanka</td>\n",
       "      <td>Mirpur</td>\n",
       "      <td>none</td>\n",
       "      <td>India</td>\n",
       "    </tr>\n",
       "    <tr>\n",
       "      <th>freq</th>\n",
       "      <td>134</td>\n",
       "      <td>144</td>\n",
       "      <td>80</td>\n",
       "      <td>223</td>\n",
       "      <td>146</td>\n",
       "    </tr>\n",
       "  </tbody>\n",
       "</table>"
      ],
      "text/plain": [
       "<IPython.core.display.HTML object>"
      ]
     },
     "metadata": {},
     "output_type": "display_data"
    }
   ],
   "source": [
    "def describe_categorical(results):\n",
    "    from IPython.display import display, HTML\n",
    "    display(HTML(results[results.columns[results.dtypes == \"object\"]].describe().to_html()))\n",
    "\n",
    "describe_categorical(results)"
   ]
  },
  {
   "cell_type": "markdown",
   "metadata": {},
   "source": [
    "## Before I predict, I should know the featue values.\n",
    "- WIll calculate the encoded values of each team and keep them as list in a dictionary\n",
    "- will create a dict of teamA rankings and teamA points"
   ]
  },
  {
   "cell_type": "code",
   "execution_count": 109,
   "metadata": {
    "collapsed": false
   },
   "outputs": [
    {
     "data": {
      "text/plain": [
       "array([2], dtype=int64)"
      ]
     },
     "execution_count": 109,
     "metadata": {},
     "output_type": "execute_result"
    }
   ],
   "source": [
    "a =  [1, 0, 0, 0, 0, 0, 0, 0, 0, 0, 0, 0, 0, 0]\n",
    "b =  [0, 0, 0, 0, 1, 0, 0, 0, 0, 0, 0, 0, 0, 0]\n",
    "input_for_predicting = [3, 4, a[0], a[1], a[2],a[3],a[4],a[5],a[6],a[7],a[8],a[9],a[10],a[11],a[12],a[13], b[0],b[1],b[2],b[3],b[4],b[5],b[6],b[7],b[8],b[9],b[10],b[11],b[12],b[13]]\n",
    "clf.predict(input_for_predicting)"
   ]
  },
  {
   "cell_type": "markdown",
   "metadata": {},
   "source": [
    "## So good news, the predictor is working fine.\n",
    "- I created a dict for all teams to hold the encoded value"
   ]
  },
  {
   "cell_type": "code",
   "execution_count": 145,
   "metadata": {
    "collapsed": false,
    "scrolled": false
   },
   "outputs": [
    {
     "name": "stdout",
     "output_type": "stream",
     "text": [
      "{'Pakistan': [0, 0, 0, 0, 0, 0, 0, 1, 0, 0, 0, 0, 0, 0], 'Australia': [0, 1, 0, 0, 0, 0, 0, 0, 0, 0, 0, 0, 0, 0], 'England': [0, 0, 0, 1, 0, 0, 0, 0, 0, 0, 0, 0, 0, 0], 'Bangladesh': [0, 0, 1, 0, 0, 0, 0, 0, 0, 0, 0, 0, 0, 0], 'South Africa': [0, 0, 0, 0, 0, 0, 0, 0, 0, 1, 0, 0, 0, 0], 'Afghanistan': [1, 0, 0, 0, 0, 0, 0, 0, 0, 0, 0, 0, 0, 0], 'Scotland': [0, 0, 0, 0, 0, 0, 0, 0, 1, 0, 0, 0, 0, 0], 'India': [0, 0, 0, 0, 1, 0, 0, 0, 0, 0, 0, 0, 0, 0], 'Sri Lanka': [0, 0, 0, 0, 0, 0, 0, 0, 0, 0, 1, 0, 0, 0], 'Zimbabwe': [0, 0, 0, 0, 0, 0, 0, 0, 0, 0, 0, 0, 0, 1], 'Ireland': [0, 0, 0, 0, 0, 1, 0, 0, 0, 0, 0, 0, 0, 0], 'United Arab Emirates': [0, 0, 0, 0, 0, 0, 0, 0, 0, 0, 0, 1, 0, 0], 'West Indies': [0, 0, 0, 0, 0, 0, 0, 0, 0, 0, 0, 0, 1, 0], 'New Zealand': [0, 0, 0, 0, 0, 0, 1, 0, 0, 0, 0, 0, 0, 0]}\n"
     ]
    }
   ],
   "source": [
    "# distinct_teams = results[\"teamA\"].unique()\n",
    "\n",
    "dictTeamsEncoding={}\n",
    "\n",
    "for i in range(len(results[\"teamA\"])):\n",
    "    team = results[\"teamA\"][i]\n",
    "    if team not in dictTeamsEncoding:\n",
    "        # find the encoding\n",
    "        encodedTeam = results.ix[i,16:30].tolist()\n",
    "        dictTeamsEncoding[team] = encodedTeam\n",
    "    if len(dictTeamsEncoding) == 14:\n",
    "        break\n",
    "\n",
    "print dictTeamsEncoding"
   ]
  },
  {
   "cell_type": "markdown",
   "metadata": {},
   "source": [
    "## Now going to store the values of team's Rank and Points\n",
    "- Great, the dicts have been initialized"
   ]
  },
  {
   "cell_type": "code",
   "execution_count": 163,
   "metadata": {
    "collapsed": false,
    "scrolled": true
   },
   "outputs": [
    {
     "name": "stdout",
     "output_type": "stream",
     "text": [
      "{'Pakistan': 9, 'Australia': 1, 'England': 6, 'Bangladesh': 7, 'South Africa': 4, 'Afghanistan': 12, 'Scotland': 14, 'India': 2, 'Sri Lanka': 5, 'Zimbabwe': 11, 'Ireland': 10, 'United Arab Emirates': 13, 'West Indies': 8, 'New Zealand': 3}\n",
      "\n",
      "\n",
      "{'Pakistan': 3721, 'Australia': 4889, 'England': 3968, 'Bangladesh': 3094, 'South Africa': 5131, 'Afghanistan': 618, 'Scotland': 200, 'India': 5278, 'Sri Lanka': 5811, 'Zimbabwe': 1250, 'Ireland': 549, 'United Arab Emirates': 300, 'West Indies': 2471, 'New Zealand': 4284}\n"
     ]
    }
   ],
   "source": [
    "dictRankTeam = {}\n",
    "dictPointsTeam = {}\n",
    "\n",
    "for i in range(len(results[\"teamA\"])):\n",
    "    team = results[\"teamA\"][i]\n",
    "    if team not in dictRankTeam:\n",
    "        # find both the points and rank and put them in respective dictionaries \n",
    "        rank = int(results.ix[i,4].tolist())\n",
    "        dictRankTeam[team] = rank\n",
    "        \n",
    "        points = int(results.ix[i,5].tolist())\n",
    "        dictPointsTeam[team] = points\n",
    "        \n",
    "    if len(dictPointsTeam) == 14:\n",
    "        break\n",
    "\n",
    "print dictRankTeam\n",
    "print \"\\n\"\n",
    "print dictPointsTeam"
   ]
  },
  {
   "cell_type": "markdown",
   "metadata": {},
   "source": [
    "## Now we will take all 14 teams and put the teams in their pools and then apply 7c2 as each team will play with every other team in that pool and the best 4 will advance."
   ]
  },
  {
   "cell_type": "code",
   "execution_count": 237,
   "metadata": {
    "collapsed": false
   },
   "outputs": [
    {
     "data": {
      "text/plain": [
       "[('New Zealand', 'Australia'),\n",
       " ('New Zealand', 'Sri Lanka'),\n",
       " ('New Zealand', 'Bangladesh'),\n",
       " ('New Zealand', 'England'),\n",
       " ('New Zealand', 'Afghanistan'),\n",
       " ('New Zealand', 'Scotland'),\n",
       " ('Australia', 'Sri Lanka'),\n",
       " ('Australia', 'Bangladesh'),\n",
       " ('Australia', 'England'),\n",
       " ('Australia', 'Afghanistan'),\n",
       " ('Australia', 'Scotland'),\n",
       " ('Sri Lanka', 'Bangladesh'),\n",
       " ('Sri Lanka', 'England'),\n",
       " ('Sri Lanka', 'Afghanistan'),\n",
       " ('Sri Lanka', 'Scotland'),\n",
       " ('Bangladesh', 'England'),\n",
       " ('Bangladesh', 'Afghanistan'),\n",
       " ('Bangladesh', 'Scotland'),\n",
       " ('England', 'Afghanistan'),\n",
       " ('England', 'Scotland'),\n",
       " ('Afghanistan', 'Scotland')]"
      ]
     },
     "execution_count": 237,
     "metadata": {},
     "output_type": "execute_result"
    }
   ],
   "source": [
    "pool1=[\"New Zealand\", \"Australia\", \"Sri Lanka\", \"Bangladesh\", \"England\", \"Afghanistan\", \"Scotland\"]\n",
    "pool2=[\"India\", \"South Africa\", \"Pakistan\", \"West Indies\", \"Ireland\", \"Zimbabwe\", \"United Arab Emirates\"]\n",
    "\n",
    "import itertools\n",
    "list(itertools.combinations(pool1,2))\n",
    "\n"
   ]
  },
  {
   "cell_type": "markdown",
   "metadata": {},
   "source": [
    "## Let's add the team names as the features by 1-of-K encoding or 1-hot encoding\n",
    "- We are going to add the column of \"TeamARanksHigher\" / \"TeamBRanksHigher\" for both teams A and B\n",
    "- Though we have a column already present as rankTeamA, and rankTeamB, but let's add the above two and see if there are notable changes by converting them to boolean."
   ]
  },
  {
   "cell_type": "raw",
   "metadata": {
    "collapsed": false
   },
   "source": [
    "from sklearn.preprocessing import LabelEncoder, OneHotEncoder\n",
    "encoding = LabelEncoder()\n",
    "encoding.fit(results[\"teamA\"].values)"
   ]
  },
  {
   "cell_type": "raw",
   "metadata": {
    "collapsed": false,
    "scrolled": false
   },
   "source": [
    "team_A_encoded = encoding.transform(results[\"teamA\"].values)\n",
    "team_B_encoded = encoding.transform(results[\"teamB\"].values)\n",
    "X_teams = np.vstack([team_A_encoded, team_B_encoded]).T      # .T makes it look tabular\n",
    "X_teams[:5], X_teams.shape\n"
   ]
  },
  {
   "cell_type": "raw",
   "metadata": {
    "collapsed": false
   },
   "source": [
    "print team_A_encoded\n",
    "print X_teams[0]"
   ]
  },
  {
   "cell_type": "markdown",
   "metadata": {},
   "source": [
    "## Use OneHot encoder"
   ]
  },
  {
   "cell_type": "raw",
   "metadata": {
    "collapsed": true
   },
   "source": [
    "onehot = OneHotEncoder()\n",
    "X_teams = onehot.fit_transform(X_teams).todense()"
   ]
  },
  {
   "cell_type": "raw",
   "metadata": {
    "collapsed": false,
    "scrolled": true
   },
   "source": [
    "X_teams.shape"
   ]
  },
  {
   "cell_type": "raw",
   "metadata": {
    "collapsed": false
   },
   "source": [
    "print(\"teamA:\", X_teams[0,:14])\n",
    "print(\"teamB:\", X_teams[0,14:])\n",
    "print(X_teams[0])"
   ]
  },
  {
   "cell_type": "markdown",
   "metadata": {},
   "source": [
    "## Let's evaluate the performance after one hot encoding and the cross_val_score using only the team names as features"
   ]
  },
  {
   "cell_type": "raw",
   "metadata": {
    "collapsed": false,
    "scrolled": true
   },
   "source": [
    "clf = DecisionTreeClassifier(random_state=14)\n",
    "scores = cross_val_score(clf, X_teams, y_true, scoring=scorer)\n",
    "print \"Here is the cross val score for categorical features (Team Names) after one hot encoding\"\n",
    "print \"F1: {0:.4f}\".format(np.mean(scores))"
   ]
  },
  {
   "cell_type": "markdown",
   "metadata": {},
   "source": [
    "## Starting here, we are taking a new approach\n",
    "### We will just keep adding the new features including this hot key encoding to results dataframe.\n",
    "- Then we will use combination to judge which is giving the best possible model\n",
    "- Or you know what let's keep saving the score in a list as tuples (score, no. of features considered)"
   ]
  },
  {
   "cell_type": "code",
   "execution_count": null,
   "metadata": {
    "collapsed": true
   },
   "outputs": [],
   "source": [
    "## Dropped this Idea"
   ]
  },
  {
   "cell_type": "markdown",
   "metadata": {},
   "source": [
    "## New approach ends here"
   ]
  },
  {
   "cell_type": "markdown",
   "metadata": {},
   "source": [
    "## Let's Select the best model.\n",
    "### The best Model would be one which will selectively choose those features with inclusion of which the cross_val_score will be increased.\n",
    "- My approach here is to take a initial baseline model, keep looking for the best available feature to be added next from the remaining feature list.\n",
    "- keep doing this untill either all the features have been included or the score is not improving when going from one iteration to other."
   ]
  },
  {
   "cell_type": "raw",
   "metadata": {
    "collapsed": false,
    "scrolled": true
   },
   "source": [
    "print (X_teams[0:4,:14])\n",
    "print int((X_teams[0:4,:14]).T.tolist()[1][0])\n",
    "print X_teams.getA1()"
   ]
  },
  {
   "cell_type": "raw",
   "metadata": {
    "collapsed": false,
    "scrolled": true
   },
   "source": [
    "newFeatures = features \n",
    "print newFeatures"
   ]
  },
  {
   "cell_type": "raw",
   "metadata": {
    "collapsed": false,
    "scrolled": true
   },
   "source": [
    "print(\"teamA:\", X_teams[0,:14])\n",
    "print(\"teamB:\", X_teams[0,14:])\n",
    "print(X_teams[0])\n",
    "for i in range(4):\n",
    "    print int(X_teams[i].tolist()[0][27])\n"
   ]
  },
  {
   "cell_type": "markdown",
   "metadata": {
    "slideshow": {
     "slide_type": "subslide"
    }
   },
   "source": [
    "## Let's actually begin Model selection with available feature list"
   ]
  },
  {
   "cell_type": "raw",
   "metadata": {
    "collapsed": false
   },
   "source": [
    "## First Create a list of features, everytime a new feature is included u will have to add that new feature to this list.\n",
    "list_of_features = [results[[\"home_groundOfAorB_1or2\"]], results[[\"rankTeamA\"]], results[[\"rankTeamB\"]], results[[\"teamALastWin\"]],  results[[\"teamBLastWin\"]]]\n",
    "list_of_remaining_features = list_of_features"
   ]
  },
  {
   "cell_type": "raw",
   "metadata": {
    "collapsed": false,
    "scrolled": false
   },
   "source": [
    "# Declared 14x2 columns to hold the one hot encoded teamA and teamB. 14 each since there are 14 disticnt teams.\n",
    "columns = ['teamA1','teamA2', 'teamA3', 'teamA4', 'teamA5', 'teamA6', 'teamA7', 'teamA8', 'teamA9', 'teamA10', 'teamA11', 'teamA12', 'teamA13', 'teamA14',\n",
    "           'teamB1','teamB2', 'teamB3', 'teamB4', 'teamB5', 'teamB6', 'teamB7', 'teamB8', 'teamB9', 'teamB10', 'teamB11', 'teamB12', 'teamB13', 'teamB14']\n",
    "\n",
    "# Create a numpy array of size 1005 x 28\n",
    "data = np.array([np.arange(1005)]*28).T   # Have hardCoded for simplicity to relate easily for the reader. I know it is not a good practice, I know the workaround.\n",
    "\n",
    "# Creating the dataframe out of this data using those columns\n",
    "df = pd.DataFrame(data, columns=columns)\n",
    "\n",
    "df.ix[0:2,:14]\n",
    "\n"
   ]
  },
  {
   "cell_type": "markdown",
   "metadata": {},
   "source": [
    "### Let's programatically fill the dataframe appropriately the encoding"
   ]
  },
  {
   "cell_type": "raw",
   "metadata": {
    "collapsed": true
   },
   "source": [
    "#Get list of all columns in DataFrame df\n",
    "column_header = list(df.columns.values)\n",
    "\n",
    "\n",
    "for i in range(1005):\n",
    "    for column in range(len(column_header)):\n",
    "        df[column_header[column]][i] = int(X_teams[i].tolist()[0][column])\n",
    "\n"
   ]
  },
  {
   "cell_type": "markdown",
   "metadata": {},
   "source": [
    "### Yes, the baseline model is now ready with the initial two features as our encoded team names"
   ]
  },
  {
   "cell_type": "raw",
   "metadata": {
    "collapsed": false,
    "scrolled": true
   },
   "source": [
    "df.ix[:5]"
   ]
  },
  {
   "cell_type": "raw",
   "metadata": {},
   "source": [
    "df.ix[0:1,:14]"
   ]
  },
  {
   "cell_type": "markdown",
   "metadata": {},
   "source": [
    "# Score with Base Line Model (encoded team names as feature) = 0.5491"
   ]
  },
  {
   "cell_type": "raw",
   "metadata": {
    "collapsed": false,
    "scrolled": false
   },
   "source": [
    "features_of_baseline_model = df.values\n",
    "clf = DecisionTreeClassifier(random_state=14)\n",
    "scores = cross_val_score(clf, features_of_baseline_model, y_true, scoring=scorer)\n",
    "print \"Here is the cross val score for Base Model created with features as Team Names after one hot encoding\"\n",
    "print \"F1: {0:.4f}\".format(np.mean(scores))\n",
    "max_score = np.mean(scores)  ## Saving the max Score"
   ]
  },
  {
   "cell_type": "raw",
   "metadata": {
    "collapsed": false
   },
   "source": [
    "print max_score"
   ]
  },
  {
   "cell_type": "raw",
   "metadata": {
    "collapsed": false
   },
   "source": [
    "# Now use the recursive method to find the best model\n",
    "def select_best_model(updated_df, list_of_remaining_features):\n",
    "    if len(list_of_remaining_features) == 0:\n",
    "        return best_df\n",
    "    if \n",
    "    for feature in list_of_remaining_features:\n",
    "        feature_heading = feature.columns.values[0]\n",
    "        print feature_heading\n",
    "        updated_df[feature_heading] = 1   #Added one more column same as the feature name and initialized it with all 1's\n",
    "        for i in range(len(updated_df[feature_heading].values)):\n",
    "            updated_df[feature_heading][i] = results[feature_heading][i]\n",
    "        \n",
    "        ##Till here we have added a new feature to the baseline DF, now need to decide if we should keep it or drop it based on the score\n",
    "        ## calculate the score now of the uodated dataframe\n",
    "        updated_features = updated_df.values\n",
    "        clf = DecisionTreeClassifier(random_state=14)\n",
    "        scores = cross_val_score(clf, updated_features, y_true, scoring=scorer)\n",
    "        print \"Here is the cross val score after adding\" + feature_heading + \" to Base Model\"\n",
    "        print \"F1: {0:.4f}\".format(np.mean(scores))\n",
    "        current_score = np.mean(scores)\n",
    "        if current_score > max_score:\n",
    "            max_score = current_score\n",
    "            got_max_score_with_df = updated_df  ##THis is going as improved df in the next iteration for the search of next best feature which when added improves the score \n",
    "        \n",
    "        #Here we should drop that feature so that in the next iteration, we still have the same number of features as there were b4 adding this\n",
    "        updated_df = updated_df.drop(feature_heading, 1)\n",
    "        break\n",
    "    \n",
    "    return got_max_score_with_df\n",
    "\n",
    "select_best_model(df, list_of_features)\n",
    "# print list_of_features[2].columns.values\n",
    "        \n",
    "#         print feature.columns.values[0]\n",
    "#         print updated_df.columns.values\n",
    "\n",
    "# for i in range(len(results[\"teamA\"].values)):\n",
    "#     if results[\"home_ground_of\"][i] == results[\"teamA\"][i]:\n",
    "#         results[\"home_groundOfAorB_1or2\"][i] = 1"
   ]
  },
  {
   "cell_type": "raw",
   "metadata": {
    "collapsed": false
   },
   "source": [
    "updated_df = df\n",
    "updated_df[\"experiment\"] = 1\n",
    "print updated_df"
   ]
  },
  {
   "cell_type": "raw",
   "metadata": {
    "collapsed": false,
    "scrolled": false
   },
   "source": [
    "print list(results[[\"teamALastWin\"]].columns.values)\n",
    "print type(results[[\"teamALastWin\"]].values)\n",
    "print type(df)"
   ]
  },
  {
   "cell_type": "raw",
   "metadata": {
    "collapsed": false
   },
   "source": [
    "# for i in range( len(newFeatures)):\n",
    "#     print newFeatures[i]\n",
    "print newFeatures[0]\n",
    "a = np.array([[1, 1], [2, 2], [3, 3]])\n",
    "print type(a)\n",
    "c = np.array(a)\n",
    "print c\n",
    "b = np.insert(a, 2, 5, axis=1)\n",
    "k=[[8,9,10]]\n",
    "print np.insert(a, 2, k, axis=1)\n",
    "print b\n",
    "\n",
    "print type(k)"
   ]
  },
  {
   "cell_type": "raw",
   "metadata": {
    "collapsed": false
   },
   "source": [
    "lol = np.insert(results[[\"rankTeamA\"]].values, 0, results[[\"rankTeamB\"]].values, axis=1)\n",
    "lol[0]"
   ]
  },
  {
   "cell_type": "code",
   "execution_count": null,
   "metadata": {
    "collapsed": true
   },
   "outputs": [],
   "source": []
  }
 ],
 "metadata": {
  "kernelspec": {
   "display_name": "Python 2",
   "language": "python",
   "name": "python2"
  },
  "language_info": {
   "codemirror_mode": {
    "name": "ipython",
    "version": 2
   },
   "file_extension": ".py",
   "mimetype": "text/x-python",
   "name": "python",
   "nbconvert_exporter": "python",
   "pygments_lexer": "ipython2",
   "version": "2.7.10"
  }
 },
 "nbformat": 4,
 "nbformat_minor": 0
}
