{
 "cells": [
  {
   "cell_type": "code",
   "execution_count": 9,
   "metadata": {
    "collapsed": true
   },
   "outputs": [],
   "source": [
    "import numpy as np\n",
    "import pandas as pd\n",
    "pd.set_option('html', True)"
   ]
  },
  {
   "cell_type": "code",
   "execution_count": 11,
   "metadata": {
    "collapsed": false,
    "scrolled": true
   },
   "outputs": [
    {
     "data": {
      "text/html": [
       "<div>\n",
       "<table border=\"1\" class=\"dataframe\">\n",
       "  <thead>\n",
       "    <tr style=\"text-align: right;\">\n",
       "      <th></th>\n",
       "      <th>review_id</th>\n",
       "      <th>user_id</th>\n",
       "      <th>business_id</th>\n",
       "      <th>stars</th>\n",
       "      <th>votes.cool</th>\n",
       "      <th>votes.funny</th>\n",
       "      <th>votes.useful</th>\n",
       "      <th>date</th>\n",
       "      <th>type</th>\n",
       "    </tr>\n",
       "  </thead>\n",
       "  <tbody>\n",
       "    <tr>\n",
       "      <th>0</th>\n",
       "      <td>0xuZfa0t4MNWd3eIFF02ug</td>\n",
       "      <td>kT43SxDgMGzbeXpO51f0hQ</td>\n",
       "      <td>wbpbaWBfU54JbjLIDwERQA</td>\n",
       "      <td>5</td>\n",
       "      <td>1</td>\n",
       "      <td>0</td>\n",
       "      <td>0</td>\n",
       "      <td>6/9/2009</td>\n",
       "      <td>review</td>\n",
       "    </tr>\n",
       "    <tr>\n",
       "      <th>1</th>\n",
       "      <td>bBqVqhOvNgFs8I1Wk68QUQ</td>\n",
       "      <td>T9hGHsbJW9Hw1cJAlIAWmw</td>\n",
       "      <td>4iTRjN_uAdAb7_YZDVHJdg</td>\n",
       "      <td>5</td>\n",
       "      <td>0</td>\n",
       "      <td>0</td>\n",
       "      <td>0</td>\n",
       "      <td>2/17/2011</td>\n",
       "      <td>review</td>\n",
       "    </tr>\n",
       "    <tr>\n",
       "      <th>2</th>\n",
       "      <td>fu7TcxnAOdnbdLcyFhMmZg</td>\n",
       "      <td>Z_WAxc4RUpKp3y12BH1bEg</td>\n",
       "      <td>qw5gR8vW7mSOK4VROSwdMA</td>\n",
       "      <td>4</td>\n",
       "      <td>0</td>\n",
       "      <td>1</td>\n",
       "      <td>0</td>\n",
       "      <td>11/12/2011</td>\n",
       "      <td>review</td>\n",
       "    </tr>\n",
       "    <tr>\n",
       "      <th>3</th>\n",
       "      <td>LMy8UOKOeh0b9qrz-s1fQA</td>\n",
       "      <td>OlMjqqzWZUv2-62CSqKq_A</td>\n",
       "      <td>81IjU5L-t-QQwsE38C63hQ</td>\n",
       "      <td>4</td>\n",
       "      <td>10</td>\n",
       "      <td>10</td>\n",
       "      <td>10</td>\n",
       "      <td>7/2/2008</td>\n",
       "      <td>review</td>\n",
       "    </tr>\n",
       "    <tr>\n",
       "      <th>4</th>\n",
       "      <td>JjyRj9EiBXQTFDQAxRtt4g</td>\n",
       "      <td>fs5bpfk-2pvq2v8S1De5pQ</td>\n",
       "      <td>Hnz1_h_D1eHSRtQqHSCZkw</td>\n",
       "      <td>2</td>\n",
       "      <td>1</td>\n",
       "      <td>0</td>\n",
       "      <td>1</td>\n",
       "      <td>7/25/2012</td>\n",
       "      <td>review</td>\n",
       "    </tr>\n",
       "  </tbody>\n",
       "</table>\n",
       "</div>"
      ],
      "text/plain": [
       "                review_id                 user_id             business_id  \\\n",
       "0  0xuZfa0t4MNWd3eIFF02ug  kT43SxDgMGzbeXpO51f0hQ  wbpbaWBfU54JbjLIDwERQA   \n",
       "1  bBqVqhOvNgFs8I1Wk68QUQ  T9hGHsbJW9Hw1cJAlIAWmw  4iTRjN_uAdAb7_YZDVHJdg   \n",
       "2  fu7TcxnAOdnbdLcyFhMmZg  Z_WAxc4RUpKp3y12BH1bEg  qw5gR8vW7mSOK4VROSwdMA   \n",
       "3  LMy8UOKOeh0b9qrz-s1fQA  OlMjqqzWZUv2-62CSqKq_A  81IjU5L-t-QQwsE38C63hQ   \n",
       "4  JjyRj9EiBXQTFDQAxRtt4g  fs5bpfk-2pvq2v8S1De5pQ  Hnz1_h_D1eHSRtQqHSCZkw   \n",
       "\n",
       "   stars  votes.cool  votes.funny  votes.useful        date    type  \n",
       "0      5           1            0             0    6/9/2009  review  \n",
       "1      5           0            0             0   2/17/2011  review  \n",
       "2      4           0            1             0  11/12/2011  review  \n",
       "3      4          10           10            10    7/2/2008  review  \n",
       "4      2           1            0             1   7/25/2012  review  "
      ]
     },
     "execution_count": 11,
     "metadata": {},
     "output_type": "execute_result"
    }
   ],
   "source": [
    "url = \"C:/Users/Anshul/Desktop/ThreeJSONFiles/reviewWithoutText.csv\"\n",
    "review = pd.read_csv(url)\n",
    "review.head()"
   ]
  },
  {
   "cell_type": "code",
   "execution_count": 12,
   "metadata": {
    "collapsed": false
   },
   "outputs": [
    {
     "data": {
      "text/plain": [
       "pandas.core.frame.DataFrame"
      ]
     },
     "execution_count": 12,
     "metadata": {},
     "output_type": "execute_result"
    }
   ],
   "source": [
    "type(review)"
   ]
  },
  {
   "cell_type": "code",
   "execution_count": 16,
   "metadata": {
    "collapsed": true
   },
   "outputs": [],
   "source": [
    "dict = {}\n",
    "dict['key']=['1',2]"
   ]
  },
  {
   "cell_type": "code",
   "execution_count": 19,
   "metadata": {
    "collapsed": false
   },
   "outputs": [
    {
     "data": {
      "text/plain": [
       "1"
      ]
     },
     "execution_count": 19,
     "metadata": {},
     "output_type": "execute_result"
    }
   ],
   "source": [
    "int(dict['key'][0])"
   ]
  },
  {
   "cell_type": "code",
   "execution_count": 22,
   "metadata": {
    "collapsed": false,
    "scrolled": true
   },
   "outputs": [
    {
     "name": "stdout",
     "output_type": "stream",
     "text": [
      "['1', 2]\n"
     ]
    }
   ],
   "source": [
    "print dict[dict.keys()[0]]"
   ]
  },
  {
   "cell_type": "code",
   "execution_count": 23,
   "metadata": {
    "collapsed": false
   },
   "outputs": [
    {
     "data": {
      "text/plain": [
       "4"
      ]
     },
     "execution_count": 23,
     "metadata": {},
     "output_type": "execute_result"
    }
   ],
   "source": [
    "2+2"
   ]
  },
  {
   "cell_type": "code",
   "execution_count": 24,
   "metadata": {
    "collapsed": true
   },
   "outputs": [],
   "source": [
    "import numpy as np\n",
    "import pandas as pd\n",
    "pd.set_option('html', True)\n",
    "%matplotlib inline\n",
    "from itertools import cycle, islice"
   ]
  },
  {
   "cell_type": "code",
   "execution_count": 26,
   "metadata": {
    "collapsed": false,
    "scrolled": true
   },
   "outputs": [
    {
     "data": {
      "text/html": [
       "<div>\n",
       "<table border=\"1\" class=\"dataframe\">\n",
       "  <thead>\n",
       "    <tr style=\"text-align: right;\">\n",
       "      <th></th>\n",
       "      <th>user_id</th>\n",
       "      <th>name</th>\n",
       "      <th>log 10</th>\n",
       "      <th>review_count</th>\n",
       "      <th>rank</th>\n",
       "      <th>round_of_log</th>\n",
       "      <th>average_stars</th>\n",
       "      <th>votes.funny</th>\n",
       "      <th>votes.useful</th>\n",
       "      <th>votes.cool</th>\n",
       "      <th>type</th>\n",
       "    </tr>\n",
       "  </thead>\n",
       "  <tbody>\n",
       "    <tr>\n",
       "      <th>0</th>\n",
       "      <td>P5bUL3Engv-2z6kKohB6qQ</td>\n",
       "      <td>kim n.</td>\n",
       "      <td>3.732474</td>\n",
       "      <td>5401</td>\n",
       "      <td>1</td>\n",
       "      <td>3.7</td>\n",
       "      <td>3.772079</td>\n",
       "      <td>3718</td>\n",
       "      <td>11728</td>\n",
       "      <td>9565</td>\n",
       "      <td>user</td>\n",
       "    </tr>\n",
       "    <tr>\n",
       "      <th>1</th>\n",
       "      <td>8k3aO-mPeyhbR5HUucA5aA</td>\n",
       "      <td>Victor G.</td>\n",
       "      <td>3.706291</td>\n",
       "      <td>5085</td>\n",
       "      <td>2</td>\n",
       "      <td>3.7</td>\n",
       "      <td>3.200197</td>\n",
       "      <td>7627</td>\n",
       "      <td>14497</td>\n",
       "      <td>10160</td>\n",
       "      <td>user</td>\n",
       "    </tr>\n",
       "    <tr>\n",
       "      <th>2</th>\n",
       "      <td>nzsv-p1O8gCfP3XijfQrIw</td>\n",
       "      <td>Anita L.</td>\n",
       "      <td>3.559308</td>\n",
       "      <td>3625</td>\n",
       "      <td>3</td>\n",
       "      <td>3.6</td>\n",
       "      <td>3.350621</td>\n",
       "      <td>9043</td>\n",
       "      <td>18279</td>\n",
       "      <td>15227</td>\n",
       "      <td>user</td>\n",
       "    </tr>\n",
       "    <tr>\n",
       "      <th>3</th>\n",
       "      <td>CxDOIDnH8gp9KXzpBHJYXw</td>\n",
       "      <td>Jennifer K.</td>\n",
       "      <td>3.473487</td>\n",
       "      <td>2975</td>\n",
       "      <td>4</td>\n",
       "      <td>3.5</td>\n",
       "      <td>3.163361</td>\n",
       "      <td>3478</td>\n",
       "      <td>5915</td>\n",
       "      <td>4212</td>\n",
       "      <td>user</td>\n",
       "    </tr>\n",
       "    <tr>\n",
       "      <th>4</th>\n",
       "      <td>syvwUKQJ4OYfmL_ixVLMeQ</td>\n",
       "      <td>Tina C.</td>\n",
       "      <td>3.459845</td>\n",
       "      <td>2883</td>\n",
       "      <td>5</td>\n",
       "      <td>3.5</td>\n",
       "      <td>3.293444</td>\n",
       "      <td>2042</td>\n",
       "      <td>4860</td>\n",
       "      <td>3505</td>\n",
       "      <td>user</td>\n",
       "    </tr>\n",
       "  </tbody>\n",
       "</table>\n",
       "</div>"
      ],
      "text/plain": [
       "                  user_id         name    log 10  review_count  rank  \\\n",
       "0  P5bUL3Engv-2z6kKohB6qQ       kim n.  3.732474          5401     1   \n",
       "1  8k3aO-mPeyhbR5HUucA5aA    Victor G.  3.706291          5085     2   \n",
       "2  nzsv-p1O8gCfP3XijfQrIw     Anita L.  3.559308          3625     3   \n",
       "3  CxDOIDnH8gp9KXzpBHJYXw  Jennifer K.  3.473487          2975     4   \n",
       "4  syvwUKQJ4OYfmL_ixVLMeQ      Tina C.  3.459845          2883     5   \n",
       "\n",
       "   round_of_log  average_stars  votes.funny  votes.useful  votes.cool  type  \n",
       "0           3.7       3.772079         3718         11728        9565  user  \n",
       "1           3.7       3.200197         7627         14497       10160  user  \n",
       "2           3.6       3.350621         9043         18279       15227  user  \n",
       "3           3.5       3.163361         3478          5915        4212  user  \n",
       "4           3.5       3.293444         2042          4860        3505  user  "
      ]
     },
     "execution_count": 26,
     "metadata": {},
     "output_type": "execute_result"
    }
   ],
   "source": [
    "url = \"C:\\Users\\Anshul\\Desktop\\ThreeJSONFiles\\user.csv\"\n",
    "userData = pd.read_csv(url)\n",
    "userData.head()"
   ]
  },
  {
   "cell_type": "code",
   "execution_count": 27,
   "metadata": {
    "collapsed": false,
    "scrolled": true
   },
   "outputs": [
    {
     "data": {
      "text/html": [
       "<div>\n",
       "<table border=\"1\" class=\"dataframe\">\n",
       "  <thead>\n",
       "    <tr style=\"text-align: right;\">\n",
       "      <th></th>\n",
       "      <th>rank</th>\n",
       "      <th>review_count</th>\n",
       "      <th>round_of_log</th>\n",
       "    </tr>\n",
       "  </thead>\n",
       "  <tbody>\n",
       "    <tr>\n",
       "      <th>0</th>\n",
       "      <td>1</td>\n",
       "      <td>5401</td>\n",
       "      <td>3.7</td>\n",
       "    </tr>\n",
       "    <tr>\n",
       "      <th>1</th>\n",
       "      <td>2</td>\n",
       "      <td>5085</td>\n",
       "      <td>3.7</td>\n",
       "    </tr>\n",
       "    <tr>\n",
       "      <th>2</th>\n",
       "      <td>3</td>\n",
       "      <td>3625</td>\n",
       "      <td>3.6</td>\n",
       "    </tr>\n",
       "    <tr>\n",
       "      <th>3</th>\n",
       "      <td>4</td>\n",
       "      <td>2975</td>\n",
       "      <td>3.5</td>\n",
       "    </tr>\n",
       "    <tr>\n",
       "      <th>4</th>\n",
       "      <td>5</td>\n",
       "      <td>2883</td>\n",
       "      <td>3.5</td>\n",
       "    </tr>\n",
       "  </tbody>\n",
       "</table>\n",
       "</div>"
      ],
      "text/plain": [
       "   rank  review_count  round_of_log\n",
       "0     1          5401           3.7\n",
       "1     2          5085           3.7\n",
       "2     3          3625           3.6\n",
       "3     4          2975           3.5\n",
       "4     5          2883           3.5"
      ]
     },
     "execution_count": 27,
     "metadata": {},
     "output_type": "execute_result"
    }
   ],
   "source": [
    "limitedUserData = userData[['rank','review_count','round_of_log']] \n",
    "limitedUserData.head()"
   ]
  },
  {
   "cell_type": "code",
   "execution_count": 31,
   "metadata": {
    "collapsed": true
   },
   "outputs": [
    {
     "data": {
      "text/html": [
       "<div>\n",
       "<table border=\"1\" class=\"dataframe\">\n",
       "  <thead>\n",
       "    <tr style=\"text-align: right;\">\n",
       "      <th></th>\n",
       "      <th>rank</th>\n",
       "      <th>review_count</th>\n",
       "      <th>round_of_log</th>\n",
       "    </tr>\n",
       "  </thead>\n",
       "  <tbody>\n",
       "    <tr>\n",
       "      <th>0</th>\n",
       "      <td>1</td>\n",
       "      <td>5401</td>\n",
       "      <td>3.7</td>\n",
       "    </tr>\n",
       "    <tr>\n",
       "      <th>1</th>\n",
       "      <td>2</td>\n",
       "      <td>5085</td>\n",
       "      <td>3.7</td>\n",
       "    </tr>\n",
       "    <tr>\n",
       "      <th>2</th>\n",
       "      <td>3</td>\n",
       "      <td>3625</td>\n",
       "      <td>3.6</td>\n",
       "    </tr>\n",
       "    <tr>\n",
       "      <th>3</th>\n",
       "      <td>4</td>\n",
       "      <td>2975</td>\n",
       "      <td>3.5</td>\n",
       "    </tr>\n",
       "    <tr>\n",
       "      <th>4</th>\n",
       "      <td>5</td>\n",
       "      <td>2883</td>\n",
       "      <td>3.5</td>\n",
       "    </tr>\n",
       "    <tr>\n",
       "      <th>5</th>\n",
       "      <td>6</td>\n",
       "      <td>2850</td>\n",
       "      <td>3.5</td>\n",
       "    </tr>\n",
       "    <tr>\n",
       "      <th>6</th>\n",
       "      <td>7</td>\n",
       "      <td>2752</td>\n",
       "      <td>3.4</td>\n",
       "    </tr>\n",
       "    <tr>\n",
       "      <th>7</th>\n",
       "      <td>8</td>\n",
       "      <td>2749</td>\n",
       "      <td>3.4</td>\n",
       "    </tr>\n",
       "    <tr>\n",
       "      <th>8</th>\n",
       "      <td>9</td>\n",
       "      <td>2676</td>\n",
       "      <td>3.4</td>\n",
       "    </tr>\n",
       "    <tr>\n",
       "      <th>9</th>\n",
       "      <td>10</td>\n",
       "      <td>2620</td>\n",
       "      <td>3.4</td>\n",
       "    </tr>\n",
       "    <tr>\n",
       "      <th>10</th>\n",
       "      <td>11</td>\n",
       "      <td>2620</td>\n",
       "      <td>3.4</td>\n",
       "    </tr>\n",
       "    <tr>\n",
       "      <th>...</th>\n",
       "      <td>...</td>\n",
       "      <td>...</td>\n",
       "      <td>...</td>\n",
       "    </tr>\n",
       "    <tr>\n",
       "      <th>115059</th>\n",
       "      <td>NaN</td>\n",
       "      <td>2</td>\n",
       "      <td>0.3</td>\n",
       "    </tr>\n",
       "    <tr>\n",
       "      <th>115060</th>\n",
       "      <td>NaN</td>\n",
       "      <td>2</td>\n",
       "      <td>0.3</td>\n",
       "    </tr>\n",
       "    <tr>\n",
       "      <th>115061</th>\n",
       "      <td>NaN</td>\n",
       "      <td>2</td>\n",
       "      <td>0.3</td>\n",
       "    </tr>\n",
       "    <tr>\n",
       "      <th>115062</th>\n",
       "      <td>NaN</td>\n",
       "      <td>2</td>\n",
       "      <td>0.3</td>\n",
       "    </tr>\n",
       "    <tr>\n",
       "      <th>115063</th>\n",
       "      <td>NaN</td>\n",
       "      <td>2</td>\n",
       "      <td>0.3</td>\n",
       "    </tr>\n",
       "    <tr>\n",
       "      <th>122305</th>\n",
       "      <td>NaN</td>\n",
       "      <td>1</td>\n",
       "      <td>0.0</td>\n",
       "    </tr>\n",
       "    <tr>\n",
       "      <th>122306</th>\n",
       "      <td>NaN</td>\n",
       "      <td>1</td>\n",
       "      <td>0.0</td>\n",
       "    </tr>\n",
       "    <tr>\n",
       "      <th>122307</th>\n",
       "      <td>NaN</td>\n",
       "      <td>1</td>\n",
       "      <td>0.0</td>\n",
       "    </tr>\n",
       "    <tr>\n",
       "      <th>122308</th>\n",
       "      <td>NaN</td>\n",
       "      <td>1</td>\n",
       "      <td>0.0</td>\n",
       "    </tr>\n",
       "    <tr>\n",
       "      <th>122309</th>\n",
       "      <td>NaN</td>\n",
       "      <td>1</td>\n",
       "      <td>0.0</td>\n",
       "    </tr>\n",
       "  </tbody>\n",
       "</table>\n",
       "<p>166 rows × 3 columns</p>\n",
       "</div>"
      ],
      "text/plain": [
       "        rank  review_count  round_of_log\n",
       "0          1          5401           3.7\n",
       "1          2          5085           3.7\n",
       "2          3          3625           3.6\n",
       "3          4          2975           3.5\n",
       "4          5          2883           3.5\n",
       "5          6          2850           3.5\n",
       "6          7          2752           3.4\n",
       "7          8          2749           3.4\n",
       "8          9          2676           3.4\n",
       "9         10          2620           3.4\n",
       "10        11          2620           3.4\n",
       "18        19          2208           3.3\n",
       "19        20          2199           3.3\n",
       "...      ...           ...           ...\n",
       "103159   NaN             4           0.6\n",
       "103160   NaN             4           0.6\n",
       "103161   NaN             4           0.6\n",
       "108672   NaN             3           0.5\n",
       "108673   NaN             3           0.5\n",
       "108674   NaN             3           0.5\n",
       "108675   NaN             3           0.5\n",
       "108676   NaN             3           0.5\n",
       "115059   NaN             2           0.3\n",
       "115060   NaN             2           0.3\n",
       "115061   NaN             2           0.3\n",
       "115062   NaN             2           0.3\n",
       "115063   NaN             2           0.3\n",
       "122305   NaN             1           0.0\n",
       "122306   NaN             1           0.0\n",
       "122307   NaN             1           0.0\n",
       "122308   NaN             1           0.0\n",
       "122309   NaN             1           0.0\n",
       "\n",
       "[166 rows x 3 columns]"
      ]
     },
     "execution_count": 31,
     "metadata": {},
     "output_type": "execute_result"
    }
   ],
   "source": [
    "GroupBylog = limitedUserData.groupby('round_of_log')\n",
    "GroupBylog.head()\n",
    "# TimeGroupSizeXY = GroupBylog.size().order()\n",
    "# TimeGroupSizeXY"
   ]
  },
  {
   "cell_type": "code",
   "execution_count": 43,
   "metadata": {
    "collapsed": false
   },
   "outputs": [
    {
     "name": "stdout",
     "output_type": "stream",
     "text": [
      "round_of_log\n",
      "3.7     10486\n",
      "3.6      3625\n",
      "3.5      8708\n",
      "3.4     30588\n",
      "3.3     34089\n",
      "3.2     74979\n",
      "3.1    103686\n",
      "3.0    175451\n",
      "2.9    209453\n",
      "2.8    303901\n",
      "2.7    386195\n",
      "2.6    467491\n",
      "2.5    502561\n",
      "2.4    563476\n",
      "2.3    539930\n",
      "2.2    513310\n",
      "2.1    465274\n",
      "2.0    403790\n",
      "1.9    363442\n",
      "1.8    298938\n",
      "1.7    271347\n",
      "1.6    229376\n",
      "1.5    195906\n",
      "1.4    182566\n",
      "1.3    159407\n",
      "1.2     99245\n",
      "1.1     97875\n",
      "1.0     95510\n",
      "0.9     30096\n",
      "0.8     54770\n",
      "0.7     25545\n",
      "0.6     22060\n",
      "0.5     19161\n",
      "0.3     14492\n",
      "0.0      8566\n",
      "Name: review_count, dtype: int64\n"
     ]
    }
   ],
   "source": [
    "a = limitedUserData.groupby(by=['round_of_log'])['review_count'].sum()\n",
    "b=a.sort_index(ascending=False)\n",
    "print b"
   ]
  },
  {
   "cell_type": "code",
   "execution_count": 66,
   "metadata": {
    "collapsed": false
   },
   "outputs": [
    {
     "data": {
      "image/png": "[encoded data removed]",
      "text/plain": [
       "<matplotlib.figure.Figure at 0x1b05de80>"
      ]
     },
     "metadata": {},
     "output_type": "display_data"
    }
   ],
   "source": [
    "my_colors = list(islice(cycle(['b', 'r', 'g', 'y']), None, len(b)))\n",
    "myDestGroupPlotSortedBySize = b.plot(kind='bar', label='Line 2', stacked=True, color=my_colors, figsize=(16,5))\n",
    "\n",
    "myDestGroupPlotSortedBySize.set_xlabel('Log of Sum of Reviews Grouped by Users with Nearly Same Review Count in Decreased Ranking of Users',fontsize=12, color='r')\n",
    "myDestGroupPlotSortedBySize.set_ylabel('Sum of review counts', fontsize=12, color='r')\n",
    "myDestGroupPlotSortedBySize.text(1, 166000, 'Users with high', fontsize=11)\n",
    "myDestGroupPlotSortedBySize.text(1, 136000, 'individual review counts', fontsize=11)\n",
    "myDestGroupPlotSortedBySize.text(28, 166000, 'Users with low', fontsize=11)\n",
    "myDestGroupPlotSortedBySize.text(28, 136000, 'individual review counts', fontsize=11)\n",
    "# Understanding distribution of total review across users\n",
    "for label in myDestGroupPlotSortedBySize.get_xticklabels()[::2]:\n",
    "    label.set_color('b')\n",
    "\n",
    "    \n",
    "fig = myDestGroupPlotSortedBySize.get_figure()\n",
    "fig.savefig(\"C:\\Users\\Anshul\\Desktop\\output Destination.png\")"
   ]
  },
  {
   "cell_type": "code",
   "execution_count": 67,
   "metadata": {
    "collapsed": true
   },
   "outputs": [],
   "source": [
    "with open('C:/Users/Anshul/Desktop/Courses/Data Science/Mini Project 3/yelp_dataset_In_Practise/review_exprmt_delimit.json') as f:\n",
    "    data = pd.DataFrame(json.loads(line) for line in f)"
   ]
  },
  {
   "cell_type": "code",
   "execution_count": 76,
   "metadata": {
    "collapsed": false
   },
   "outputs": [
    {
     "name": "stdout",
     "output_type": "stream",
     "text": [
      "0\n",
      "2\n"
     ]
    }
   ],
   "source": [
    "count = [0,0]\n",
    "print count[0]\n",
    "count[0] = 2\n",
    "print count[0]"
   ]
  },
  {
   "cell_type": "code",
   "execution_count": 77,
   "metadata": {
    "collapsed": true
   },
   "outputs": [],
   "source": [
    "myDestGroupPlotSortedBySize1 = [[1,155],[2,150]]"
   ]
  },
  {
   "cell_type": "code",
   "execution_count": 78,
   "metadata": {
    "collapsed": false,
    "scrolled": true
   },
   "outputs": [
    {
     "data": {
      "image/png": "[encoded data removed]",
      "text/plain": [
       "<matplotlib.figure.Figure at 0x1b07b7f0>"
      ]
     },
     "metadata": {},
     "output_type": "display_data"
    }
   ],
   "source": [
    "my_colors = list(islice(cycle(['b', 'r', 'g', 'y']), None, len(b)))\n",
    "myDestGroupPlotSortedBySize1 = b.plot(kind='bar', label='Line 2', stacked=True, color=my_colors, figsize=(16,5))\n",
    "\n",
    "myDestGroupPlotSortedBySize1.set_xlabel('Log of Sum of Reviews Grouped by Users with Nearly Same Review Count in Decreased Ranking of Users',fontsize=12, color='r')\n",
    "myDestGroupPlotSortedBySize1.set_ylabel('Sum of review counts', fontsize=12, color='r')\n",
    "myDestGroupPlotSortedBySize1.text(1, 166000, 'Users with high', fontsize=11)\n",
    "myDestGroupPlotSortedBySize1.text(1, 136000, 'individual review counts', fontsize=11)\n",
    "myDestGroupPlotSortedBySize1.text(28, 166000, 'Users with low', fontsize=11)\n",
    "myDestGroupPlotSortedBySize1.text(28, 136000, 'individual review counts', fontsize=11)\n",
    "# Understanding distribution of total review across users\n",
    "for label in myDestGroupPlotSortedBySize1.get_xticklabels()[::2]:\n",
    "    label.set_color('b')"
   ]
  }
 ],
 "metadata": {
  "kernelspec": {
   "display_name": "Python 2",
   "language": "python",
   "name": "python2"
  },
  "language_info": {
   "codemirror_mode": {
    "name": "ipython",
    "version": 2
   },
   "file_extension": ".py",
   "mimetype": "text/x-python",
   "name": "python",
   "nbconvert_exporter": "python",
   "pygments_lexer": "ipython2",
   "version": "2.7.10"
  }
 },
 "nbformat": 4,
 "nbformat_minor": 0
}
